{
 "cells": [
  {
   "cell_type": "code",
   "execution_count": 1,
   "metadata": {},
   "outputs": [
    {
     "name": "stderr",
     "output_type": "stream",
     "text": [
      "C:\\Users\\Sudhakor Das\\anaconda3\\envs\\tensor\\lib\\site-packages\\gensim\\similarities\\__init__.py:15: UserWarning: The gensim.similarities.levenshtein submodule is disabled, because the optional Levenshtein package <https://pypi.org/project/python-Levenshtein/> is unavailable. Install Levenhstein (e.g. `pip install python-Levenshtein`) to suppress this warning.\n",
      "  warnings.warn(msg)\n"
     ]
    }
   ],
   "source": [
    "import bnlp\n",
    "import gensim\n",
    "import re\n",
    "import numpy as np\n",
    "import pandas as pd\n",
    "import tensorflow as tf\n",
    "import matplotlib.pyplot as plt\n",
    "\n",
    "from sklearn.metrics import accuracy_score, f1_score, precision_score, recall_score\n",
    "from sklearn.metrics import confusion_matrix, roc_auc_score, roc_curve, classification_report, precision_recall_curve\n",
    "\n",
    "from sklearn.metrics import accuracy_score\n",
    "\n",
    "from tensorflow.keras.preprocessing.text import Tokenizer\n",
    "from tensorflow.keras.preprocessing.sequence import pad_sequences\n",
    "from tensorflow.keras.models import *\n",
    "from tensorflow.keras.layers import *\n",
    "from tensorflow.keras.layers import LSTM,Dense, Dropout, SpatialDropout1D\n",
    "from tensorflow.keras.layers import Embedding, Conv1D, GlobalMaxPooling1D\n",
    "\n"
   ]
  },
  {
   "cell_type": "code",
   "execution_count": 2,
   "metadata": {},
   "outputs": [],
   "source": [
    "from bnlp.corpus import stopwords, punctuations, letters, digits\n",
    "from bnlp.corpus.util import remove_stopwords\n",
    "#print(stopwords)\n",
    "#print(punctuations)\n",
    "#print(letters)\n",
    "#print(digits)\n",
    "#ext = 'আমি বাংলাদেশকে অনেক ভালোবাসি !#$%&()*+,-./:;<=>?@[\\]^_`{|}~।ঃ '"
   ]
  },
  {
   "cell_type": "code",
   "execution_count": 3,
   "metadata": {},
   "outputs": [
    {
     "data": {
      "text/html": [
       "<div>\n",
       "<style scoped>\n",
       "    .dataframe tbody tr th:only-of-type {\n",
       "        vertical-align: middle;\n",
       "    }\n",
       "\n",
       "    .dataframe tbody tr th {\n",
       "        vertical-align: top;\n",
       "    }\n",
       "\n",
       "    .dataframe thead th {\n",
       "        text-align: right;\n",
       "    }\n",
       "</style>\n",
       "<table border=\"1\" class=\"dataframe\">\n",
       "  <thead>\n",
       "    <tr style=\"text-align: right;\">\n",
       "      <th></th>\n",
       "      <th>Bangla</th>\n",
       "      <th>Label</th>\n",
       "    </tr>\n",
       "  </thead>\n",
       "  <tbody>\n",
       "    <tr>\n",
       "      <th>0</th>\n",
       "      <td>খানকির*  !#$%&amp;()*+,-./:;&lt;=&gt;?@[\\]^_`{|}~।ঃ পোয়া...</td>\n",
       "      <td>Yes</td>\n",
       "    </tr>\n",
       "    <tr>\n",
       "      <th>1</th>\n",
       "      <td>আঁরার  উরুস্তুল  ভালা দেশসেরা জোয়ান  এমপির ব্য...</td>\n",
       "      <td>No</td>\n",
       "    </tr>\n",
       "    <tr>\n",
       "      <th>2</th>\n",
       "      <td>খানকির পোয়া  রোহিঙ্গাওক্কলড়ে  দেষত্তূণ বাইড় গো...</td>\n",
       "      <td>Yes</td>\n",
       "    </tr>\n",
       "    <tr>\n",
       "      <th>3</th>\n",
       "      <td>মাশরাফি ভাইয়ুর নান মানুষ নয়, বাচি থাকাক আজার ম...</td>\n",
       "      <td>No</td>\n",
       "    </tr>\n",
       "    <tr>\n",
       "      <th>4</th>\n",
       "      <td>কালাইয়া আলারপোয়ালা খাঙ্কির পোয়া অইলদি আস্তা মা...</td>\n",
       "      <td>Yes</td>\n",
       "    </tr>\n",
       "  </tbody>\n",
       "</table>\n",
       "</div>"
      ],
      "text/plain": [
       "                                              Bangla Label\n",
       "0  খানকির*  !#$%&()*+,-./:;<=>?@[\\]^_`{|}~।ঃ পোয়া...   Yes\n",
       "1  আঁরার  উরুস্তুল  ভালা দেশসেরা জোয়ান  এমপির ব্য...    No\n",
       "2  খানকির পোয়া  রোহিঙ্গাওক্কলড়ে  দেষত্তূণ বাইড় গো...   Yes\n",
       "3  মাশরাফি ভাইয়ুর নান মানুষ নয়, বাচি থাকাক আজার ম...    No\n",
       "4  কালাইয়া আলারপোয়ালা খাঙ্কির পোয়া অইলদি আস্তা মা...   Yes"
      ]
     },
     "execution_count": 3,
     "metadata": {},
     "output_type": "execute_result"
    }
   ],
   "source": [
    "#Reading the dataset\n",
    "\n",
    "df = pd.read_excel('local.xlsx', engine='openpyxl')\n",
    "df.head()"
   ]
  },
  {
   "cell_type": "code",
   "execution_count": 4,
   "metadata": {},
   "outputs": [
    {
     "data": {
      "text/plain": [
       "(1099, 2)"
      ]
     },
     "execution_count": 4,
     "metadata": {},
     "output_type": "execute_result"
    }
   ],
   "source": [
    "df.shape"
   ]
  },
  {
   "cell_type": "code",
   "execution_count": 5,
   "metadata": {},
   "outputs": [
    {
     "data": {
      "text/plain": [
       "Yes    571\n",
       "No     528\n",
       "Name: Label, dtype: int64"
      ]
     },
     "execution_count": 5,
     "metadata": {},
     "output_type": "execute_result"
    }
   ],
   "source": [
    "\n",
    "# counting the label in each category\n",
    "df[\"Label\"].value_counts()\n"
   ]
  },
  {
   "cell_type": "code",
   "execution_count": 6,
   "metadata": {},
   "outputs": [],
   "source": [
    "#Encoding the Label \n",
    "#comment_label = df.Label.factorize()\n",
    "#comment_label[0]\n",
    "\n",
    "from sklearn.preprocessing import LabelEncoder\n",
    "le = LabelEncoder()\n",
    "df['Label'] = le.fit_transform(df['Label'])\n"
   ]
  },
  {
   "cell_type": "code",
   "execution_count": 7,
   "metadata": {},
   "outputs": [
    {
     "data": {
      "text/plain": [
       "['No', 'Yes']"
      ]
     },
     "execution_count": 7,
     "metadata": {},
     "output_type": "execute_result"
    }
   ],
   "source": [
    "list(le.classes_)"
   ]
  },
  {
   "cell_type": "code",
   "execution_count": 8,
   "metadata": {},
   "outputs": [
    {
     "data": {
      "text/plain": [
       "['Yes', 'No']"
      ]
     },
     "execution_count": 8,
     "metadata": {},
     "output_type": "execute_result"
    }
   ],
   "source": [
    "list(le.inverse_transform([1,0]))"
   ]
  },
  {
   "cell_type": "code",
   "execution_count": 9,
   "metadata": {},
   "outputs": [
    {
     "data": {
      "text/plain": [
       "1"
      ]
     },
     "execution_count": 9,
     "metadata": {},
     "output_type": "execute_result"
    }
   ],
   "source": [
    "df['Label'][0]"
   ]
  },
  {
   "cell_type": "code",
   "execution_count": 10,
   "metadata": {},
   "outputs": [
    {
     "data": {
      "text/plain": [
       "\"punc = '!#$%&()*+,-./:;<=>?@[\\\\]^_`{|}~।ঃ'\\na = []\\ndef remove_punctuations(text):\\n    for ele in text:\\n        a.append(ele)\\n        print(ele)\\n        if ele in punc:\\n            text = text.replace(ele, '')\\n\\n    return text , a \\n    \\ntext = 'i. love.// my>, my Country'\\n\\n#remove_punctuations(text)\\nprint(remove_punctuations(text))\\n\""
      ]
     },
     "execution_count": 10,
     "metadata": {},
     "output_type": "execute_result"
    }
   ],
   "source": [
    "'''punc = '!#$%&()*+,-./:;<=>?@[\\]^_`{|}~।ঃ'\n",
    "a = []\n",
    "def remove_punctuations(text):\n",
    "    for ele in text:\n",
    "        a.append(ele)\n",
    "        print(ele)\n",
    "        if ele in punc:\n",
    "            text = text.replace(ele, '')\n",
    "\n",
    "    return text , a \n",
    "    \n",
    "text = 'i. love.// my>, my Country'\n",
    "\n",
    "#remove_punctuations(text)\n",
    "print(remove_punctuations(text))\n",
    "'''"
   ]
  },
  {
   "cell_type": "markdown",
   "metadata": {},
   "source": [
    "# Functions definitions for cleaning comments"
   ]
  },
  {
   "cell_type": "code",
   "execution_count": 11,
   "metadata": {},
   "outputs": [],
   "source": [
    "###########                    Removing Punctuations                  ##############\n",
    "punc = '!#$%&()*+,-./:;<=>?@[\\]^_`{|}~।ঃ'\n",
    "  \n",
    "def remove_punctuations(text):\n",
    "    for ele in text:\n",
    "        if ele in punc:\n",
    "            text = text.replace(ele, '')\n",
    "\n",
    "    return text   \n",
    "\n",
    "###########                    Removing emojis                  ##############\n",
    "\n",
    "def remove_emojis(text):\n",
    "    \"\"\"\n",
    "    Result :- string without any emojis in it\n",
    "    Input :- String\n",
    "    Output :- String\n",
    "    \"\"\"\n",
    "    emoji_pattern = re.compile(\"[\"\n",
    "                               u\"\\U0001F600-\\U0001F64F\"  # emoticons\n",
    "                               u\"\\U0001F300-\\U0001F5FF\"  # symbols & pictographs\n",
    "                               u\"\\U0001F680-\\U0001F6FF\"  # transport & map symbols\n",
    "                               u\"\\U0001F1E0-\\U0001F1FF\"  # flags (iOS)\n",
    "                               u\"\\U00002500-\\U00002BEF\"  # chinese char\n",
    "                               u\"\\U00002702-\\U000027B0\"\n",
    "                               u\"\\U00002702-\\U000027B0\"\n",
    "                               u\"\\U000024C2-\\U0001F251\"\n",
    "                               u\"\\U0001f926-\\U0001f937\"\n",
    "                               u\"\\U00010000-\\U0010ffff\"\n",
    "                               u\"\\u2640-\\u2642\"\n",
    "                               u\"\\u2600-\\u2B55\"\n",
    "                               u\"\\u200d\"\n",
    "                               u\"\\u23cf\"\n",
    "                               u\"\\u23e9\"\n",
    "                               u\"\\u231a\"\n",
    "                               u\"\\ufe0f\"  # dingbats\n",
    "                               u\"\\u3030\"\n",
    "                               \"]+\", flags=re.UNICODE)\n",
    "\n",
    "    without_emoji = emoji_pattern.sub(r'',text)\n",
    "    return without_emoji\n",
    "\n",
    "\n",
    "'''def remove_emoji(text):\n",
    "    emoji_pattern = re.compile(\"[\"\n",
    "                           u\"\\U0001F600-\\U0001F64F\" # emoticons\n",
    "                           u\"\\U0001F300-\\U0001F5FF\" # symbols & pictographs\n",
    "                           u\"\\U0001F680-\\U0001F6FF\" # transport & map symbols\n",
    "                           u\"\\U0001F1E0-\\U0001F1FF\" # flags (iOS)\n",
    "                           u\"\\U00002702-\\U000027B0\"\n",
    "                           u\"\\U000024C2-\\U0001F251\"\n",
    "                           \"]+\", flags=re.UNICODE)\n",
    "    return emoji_pattern.sub(r'', text)\n",
    "'''\n",
    "###########                    digits                ##############\n",
    "def remove_numbers(text):\n",
    "    \"\"\"\n",
    "    Return :- String without numbers\n",
    "    input :- String\n",
    "    Output :- String\n",
    "    \"\"\"\n",
    "    number_pattern = r'\\d+'\n",
    "    without_number = re.sub(pattern=number_pattern, repl=\"\", string=text)\n",
    "    \n",
    "    return without_number\n"
   ]
  },
  {
   "cell_type": "code",
   "execution_count": 12,
   "metadata": {},
   "outputs": [],
   "source": [
    "text = []\n",
    "def text_preprocessing(sentences):\n",
    "    for sen in sentences:\n",
    "        sent = remove_punctuations(sen)\n",
    "        sent = re.sub('[a-zA-Z]', '', sent)\n",
    "        sent = remove_emojis(sent)\n",
    "        sent = remove_numbers(sent)\n",
    "        \n",
    "        text.append(sent)\n",
    "    return text\n"
   ]
  },
  {
   "cell_type": "code",
   "execution_count": 13,
   "metadata": {},
   "outputs": [],
   "source": [
    "#df['Clean_text'] = text_preprocessing(df['Bangla'])"
   ]
  },
  {
   "cell_type": "code",
   "execution_count": 14,
   "metadata": {},
   "outputs": [
    {
     "data": {
      "text/html": [
       "<div>\n",
       "<style scoped>\n",
       "    .dataframe tbody tr th:only-of-type {\n",
       "        vertical-align: middle;\n",
       "    }\n",
       "\n",
       "    .dataframe tbody tr th {\n",
       "        vertical-align: top;\n",
       "    }\n",
       "\n",
       "    .dataframe thead th {\n",
       "        text-align: right;\n",
       "    }\n",
       "</style>\n",
       "<table border=\"1\" class=\"dataframe\">\n",
       "  <thead>\n",
       "    <tr style=\"text-align: right;\">\n",
       "      <th></th>\n",
       "      <th>Bangla</th>\n",
       "      <th>Label</th>\n",
       "    </tr>\n",
       "  </thead>\n",
       "  <tbody>\n",
       "    <tr>\n",
       "      <th>0</th>\n",
       "      <td>খানকির*  !#$%&amp;()*+,-./:;&lt;=&gt;?@[\\]^_`{|}~।ঃ পোয়া...</td>\n",
       "      <td>1</td>\n",
       "    </tr>\n",
       "    <tr>\n",
       "      <th>1</th>\n",
       "      <td>আঁরার  উরুস্তুল  ভালা দেশসেরা জোয়ান  এমপির ব্য...</td>\n",
       "      <td>0</td>\n",
       "    </tr>\n",
       "    <tr>\n",
       "      <th>2</th>\n",
       "      <td>খানকির পোয়া  রোহিঙ্গাওক্কলড়ে  দেষত্তূণ বাইড় গো...</td>\n",
       "      <td>1</td>\n",
       "    </tr>\n",
       "    <tr>\n",
       "      <th>3</th>\n",
       "      <td>মাশরাফি ভাইয়ুর নান মানুষ নয়, বাচি থাকাক আজার ম...</td>\n",
       "      <td>0</td>\n",
       "    </tr>\n",
       "    <tr>\n",
       "      <th>4</th>\n",
       "      <td>কালাইয়া আলারপোয়ালা খাঙ্কির পোয়া অইলদি আস্তা মা...</td>\n",
       "      <td>1</td>\n",
       "    </tr>\n",
       "  </tbody>\n",
       "</table>\n",
       "</div>"
      ],
      "text/plain": [
       "                                              Bangla  Label\n",
       "0  খানকির*  !#$%&()*+,-./:;<=>?@[\\]^_`{|}~।ঃ পোয়া...      1\n",
       "1  আঁরার  উরুস্তুল  ভালা দেশসেরা জোয়ান  এমপির ব্য...      0\n",
       "2  খানকির পোয়া  রোহিঙ্গাওক্কলড়ে  দেষত্তূণ বাইড় গো...      1\n",
       "3  মাশরাফি ভাইয়ুর নান মানুষ নয়, বাচি থাকাক আজার ম...      0\n",
       "4  কালাইয়া আলারপোয়ালা খাঙ্কির পোয়া অইলদি আস্তা মা...      1"
      ]
     },
     "execution_count": 14,
     "metadata": {},
     "output_type": "execute_result"
    }
   ],
   "source": [
    "df.head()"
   ]
  },
  {
   "cell_type": "code",
   "execution_count": 15,
   "metadata": {},
   "outputs": [
    {
     "ename": "KeyError",
     "evalue": "'Clean_text'",
     "output_type": "error",
     "traceback": [
      "\u001b[1;31m---------------------------------------------------------------------------\u001b[0m",
      "\u001b[1;31mKeyError\u001b[0m                                  Traceback (most recent call last)",
      "\u001b[1;32m~\\anaconda3\\envs\\tensor\\lib\\site-packages\\pandas\\core\\indexes\\base.py\u001b[0m in \u001b[0;36mget_loc\u001b[1;34m(self, key, method, tolerance)\u001b[0m\n\u001b[0;32m   2897\u001b[0m             \u001b[1;32mtry\u001b[0m\u001b[1;33m:\u001b[0m\u001b[1;33m\u001b[0m\u001b[1;33m\u001b[0m\u001b[0m\n\u001b[1;32m-> 2898\u001b[1;33m                 \u001b[1;32mreturn\u001b[0m \u001b[0mself\u001b[0m\u001b[1;33m.\u001b[0m\u001b[0m_engine\u001b[0m\u001b[1;33m.\u001b[0m\u001b[0mget_loc\u001b[0m\u001b[1;33m(\u001b[0m\u001b[0mcasted_key\u001b[0m\u001b[1;33m)\u001b[0m\u001b[1;33m\u001b[0m\u001b[1;33m\u001b[0m\u001b[0m\n\u001b[0m\u001b[0;32m   2899\u001b[0m             \u001b[1;32mexcept\u001b[0m \u001b[0mKeyError\u001b[0m \u001b[1;32mas\u001b[0m \u001b[0merr\u001b[0m\u001b[1;33m:\u001b[0m\u001b[1;33m\u001b[0m\u001b[1;33m\u001b[0m\u001b[0m\n",
      "\u001b[1;32mpandas\\_libs\\index.pyx\u001b[0m in \u001b[0;36mpandas._libs.index.IndexEngine.get_loc\u001b[1;34m()\u001b[0m\n",
      "\u001b[1;32mpandas\\_libs\\index.pyx\u001b[0m in \u001b[0;36mpandas._libs.index.IndexEngine.get_loc\u001b[1;34m()\u001b[0m\n",
      "\u001b[1;32mpandas\\_libs\\hashtable_class_helper.pxi\u001b[0m in \u001b[0;36mpandas._libs.hashtable.PyObjectHashTable.get_item\u001b[1;34m()\u001b[0m\n",
      "\u001b[1;32mpandas\\_libs\\hashtable_class_helper.pxi\u001b[0m in \u001b[0;36mpandas._libs.hashtable.PyObjectHashTable.get_item\u001b[1;34m()\u001b[0m\n",
      "\u001b[1;31mKeyError\u001b[0m: 'Clean_text'",
      "\nThe above exception was the direct cause of the following exception:\n",
      "\u001b[1;31mKeyError\u001b[0m                                  Traceback (most recent call last)",
      "\u001b[1;32m<ipython-input-15-ce78908b7ff4>\u001b[0m in \u001b[0;36m<module>\u001b[1;34m\u001b[0m\n\u001b[0;32m      4\u001b[0m \u001b[1;33m\u001b[0m\u001b[0m\n\u001b[0;32m      5\u001b[0m \u001b[0mplt\u001b[0m\u001b[1;33m.\u001b[0m\u001b[0mfigure\u001b[0m\u001b[1;33m(\u001b[0m\u001b[1;33m)\u001b[0m\u001b[1;33m\u001b[0m\u001b[1;33m\u001b[0m\u001b[0m\n\u001b[1;32m----> 6\u001b[1;33m \u001b[0mwc\u001b[0m\u001b[1;33m=\u001b[0m \u001b[0mWordCloud\u001b[0m\u001b[1;33m(\u001b[0m\u001b[0mmax_words\u001b[0m\u001b[1;33m=\u001b[0m\u001b[1;36m20\u001b[0m\u001b[1;33m,\u001b[0m\u001b[0mregexp\u001b[0m\u001b[1;33m=\u001b[0m\u001b[0mregex\u001b[0m\u001b[1;33m)\u001b[0m\u001b[1;33m.\u001b[0m\u001b[0mgenerate\u001b[0m\u001b[1;33m(\u001b[0m\u001b[1;34m\" \"\u001b[0m\u001b[1;33m.\u001b[0m\u001b[0mjoin\u001b[0m\u001b[1;33m(\u001b[0m\u001b[0mdf\u001b[0m\u001b[1;33m[\u001b[0m\u001b[0mdf\u001b[0m\u001b[1;33m[\u001b[0m\u001b[1;34m'Label'\u001b[0m\u001b[1;33m]\u001b[0m\u001b[1;33m==\u001b[0m\u001b[1;36m1\u001b[0m\u001b[1;33m]\u001b[0m\u001b[1;33m[\u001b[0m\u001b[1;34m'Clean_text'\u001b[0m\u001b[1;33m]\u001b[0m\u001b[1;33m)\u001b[0m\u001b[1;33m)\u001b[0m\u001b[1;33m\u001b[0m\u001b[1;33m\u001b[0m\u001b[0m\n\u001b[0m\u001b[0;32m      7\u001b[0m \u001b[0mplt\u001b[0m\u001b[1;33m.\u001b[0m\u001b[0mtitle\u001b[0m\u001b[1;33m(\u001b[0m\u001b[1;34m'WordCloud of non abusive sentence'\u001b[0m\u001b[1;33m)\u001b[0m\u001b[1;33m\u001b[0m\u001b[1;33m\u001b[0m\u001b[0m\n\u001b[0;32m      8\u001b[0m \u001b[0mplt\u001b[0m\u001b[1;33m.\u001b[0m\u001b[0mimshow\u001b[0m\u001b[1;33m(\u001b[0m\u001b[0mwc\u001b[0m\u001b[1;33m,\u001b[0m \u001b[0minterpolation\u001b[0m\u001b[1;33m=\u001b[0m\u001b[1;34m'bilinear'\u001b[0m\u001b[1;33m)\u001b[0m\u001b[1;33m\u001b[0m\u001b[1;33m\u001b[0m\u001b[0m\n",
      "\u001b[1;32m~\\anaconda3\\envs\\tensor\\lib\\site-packages\\pandas\\core\\frame.py\u001b[0m in \u001b[0;36m__getitem__\u001b[1;34m(self, key)\u001b[0m\n\u001b[0;32m   2904\u001b[0m             \u001b[1;32mif\u001b[0m \u001b[0mself\u001b[0m\u001b[1;33m.\u001b[0m\u001b[0mcolumns\u001b[0m\u001b[1;33m.\u001b[0m\u001b[0mnlevels\u001b[0m \u001b[1;33m>\u001b[0m \u001b[1;36m1\u001b[0m\u001b[1;33m:\u001b[0m\u001b[1;33m\u001b[0m\u001b[1;33m\u001b[0m\u001b[0m\n\u001b[0;32m   2905\u001b[0m                 \u001b[1;32mreturn\u001b[0m \u001b[0mself\u001b[0m\u001b[1;33m.\u001b[0m\u001b[0m_getitem_multilevel\u001b[0m\u001b[1;33m(\u001b[0m\u001b[0mkey\u001b[0m\u001b[1;33m)\u001b[0m\u001b[1;33m\u001b[0m\u001b[1;33m\u001b[0m\u001b[0m\n\u001b[1;32m-> 2906\u001b[1;33m             \u001b[0mindexer\u001b[0m \u001b[1;33m=\u001b[0m \u001b[0mself\u001b[0m\u001b[1;33m.\u001b[0m\u001b[0mcolumns\u001b[0m\u001b[1;33m.\u001b[0m\u001b[0mget_loc\u001b[0m\u001b[1;33m(\u001b[0m\u001b[0mkey\u001b[0m\u001b[1;33m)\u001b[0m\u001b[1;33m\u001b[0m\u001b[1;33m\u001b[0m\u001b[0m\n\u001b[0m\u001b[0;32m   2907\u001b[0m             \u001b[1;32mif\u001b[0m \u001b[0mis_integer\u001b[0m\u001b[1;33m(\u001b[0m\u001b[0mindexer\u001b[0m\u001b[1;33m)\u001b[0m\u001b[1;33m:\u001b[0m\u001b[1;33m\u001b[0m\u001b[1;33m\u001b[0m\u001b[0m\n\u001b[0;32m   2908\u001b[0m                 \u001b[0mindexer\u001b[0m \u001b[1;33m=\u001b[0m \u001b[1;33m[\u001b[0m\u001b[0mindexer\u001b[0m\u001b[1;33m]\u001b[0m\u001b[1;33m\u001b[0m\u001b[1;33m\u001b[0m\u001b[0m\n",
      "\u001b[1;32m~\\anaconda3\\envs\\tensor\\lib\\site-packages\\pandas\\core\\indexes\\base.py\u001b[0m in \u001b[0;36mget_loc\u001b[1;34m(self, key, method, tolerance)\u001b[0m\n\u001b[0;32m   2898\u001b[0m                 \u001b[1;32mreturn\u001b[0m \u001b[0mself\u001b[0m\u001b[1;33m.\u001b[0m\u001b[0m_engine\u001b[0m\u001b[1;33m.\u001b[0m\u001b[0mget_loc\u001b[0m\u001b[1;33m(\u001b[0m\u001b[0mcasted_key\u001b[0m\u001b[1;33m)\u001b[0m\u001b[1;33m\u001b[0m\u001b[1;33m\u001b[0m\u001b[0m\n\u001b[0;32m   2899\u001b[0m             \u001b[1;32mexcept\u001b[0m \u001b[0mKeyError\u001b[0m \u001b[1;32mas\u001b[0m \u001b[0merr\u001b[0m\u001b[1;33m:\u001b[0m\u001b[1;33m\u001b[0m\u001b[1;33m\u001b[0m\u001b[0m\n\u001b[1;32m-> 2900\u001b[1;33m                 \u001b[1;32mraise\u001b[0m \u001b[0mKeyError\u001b[0m\u001b[1;33m(\u001b[0m\u001b[0mkey\u001b[0m\u001b[1;33m)\u001b[0m \u001b[1;32mfrom\u001b[0m \u001b[0merr\u001b[0m\u001b[1;33m\u001b[0m\u001b[1;33m\u001b[0m\u001b[0m\n\u001b[0m\u001b[0;32m   2901\u001b[0m \u001b[1;33m\u001b[0m\u001b[0m\n\u001b[0;32m   2902\u001b[0m         \u001b[1;32mif\u001b[0m \u001b[0mtolerance\u001b[0m \u001b[1;32mis\u001b[0m \u001b[1;32mnot\u001b[0m \u001b[1;32mNone\u001b[0m\u001b[1;33m:\u001b[0m\u001b[1;33m\u001b[0m\u001b[1;33m\u001b[0m\u001b[0m\n",
      "\u001b[1;31mKeyError\u001b[0m: 'Clean_text'"
     ]
    },
    {
     "data": {
      "text/plain": [
       "<Figure size 432x288 with 0 Axes>"
      ]
     },
     "metadata": {},
     "output_type": "display_data"
    }
   ],
   "source": [
    "from wordcloud import WordCloud\n",
    "regex = r\"[\\u0980-\\u09FF]+\"\n",
    "\n",
    "\n",
    "plt.figure()\n",
    "wc= WordCloud(max_words=20,regexp=regex).generate(\" \".join(df[df['Label']==1]['Clean_text']))\n",
    "plt.title('WordCloud of non abusive sentence')\n",
    "plt.imshow(wc, interpolation='bilinear')"
   ]
  },
  {
   "cell_type": "code",
   "execution_count": 16,
   "metadata": {},
   "outputs": [
    {
     "data": {
      "text/plain": [
       "1099"
      ]
     },
     "execution_count": 16,
     "metadata": {},
     "output_type": "execute_result"
    }
   ],
   "source": [
    "clean_text = text_preprocessing(df['Bangla'])\n",
    "len(clean_text)"
   ]
  },
  {
   "cell_type": "markdown",
   "metadata": {},
   "source": [
    "# Removing Stopwords"
   ]
  },
  {
   "cell_type": "code",
   "execution_count": 17,
   "metadata": {},
   "outputs": [],
   "source": [
    "stop_words = {'কি','তুই','ইতি', 'তুঁই', 'তোর','তোরে','অই', 'তো', 'নো', 'অনর', 'আই' ,'তোয়ারে','বেজ্ঞুনে','আর', 'আঁর', 'নাটক','ওজ্ঞা','ত', 'আঁই', 'ইঁতি', 'ইঁতারে', 'যেই', \n",
    "             'ঈতি', 'ঈতারে', 'লই', 'না', 'অইলি', 'দি', 'তইলি', 'তি', 'হন', 'বিয়া', 'যাই', 'হথা','অয়', 'ওরে', 'চাই','কেওর','যদি',\n",
    "             'মনয়', 'মনত','বেশি', 'নাকি', 'তরারে', 'যেঁত্তে', 'এত্তে', 'হইলেই', 'গেলি', 'ইয়ান', 'নও', 'অইতু', 'কইউম', 'কিছু', 'হইলি',\n",
    "             'দন', 'চাইতে', 'তুন', 'দে', 'এই', 'ভরি', 'যেন', 'দে', 'অনে', 'কারে', 'লই', 'অইবু', 'মাজখানে', 'দিয়ে', 'গরি', 'নিজর',\n",
    "             'হইবুয়', 'আগে', 'কাছে', 'আইস', 'তোয়ারে', 'তুনো', 'আছে', 'দিয়ে', 'যা', 'বলে', 'লাগের', 'নাই', 'কেন', 'চাছুনা', 'বলে', 'আইজু',\n",
    "             'হদ্দে', 'নান', 'আইয়ি', 'মত', 'লাইবু', 'অইল', 'লই', 'সব', 'গরি', 'দিবু', 'কাছেই', 'হর', 'নেকি', 'কস', 'হই', 'মনে','গরে', 'উধু',\n",
    "             'জাইবু', 'হয়', 'অইলিদি', 'অলর', 'যআইত', 'পারে', 'তুরা', 'নে', 'এত', 'ইতিরে' 'হনে', 'ওদা', 'পরে', 'রহম', 'লাগে', 'ইয়ন',\n",
    "             'চাইতাম', 'তা', 'যা', 'লগে', 'তে','কেও', 'ন', 'পার', 'ইবা', 'চাই','এবং', 'হনো', 'যাই', 'ওই', 'এন', 'চাই', 'সেই', 'হতা' }\n",
    "remove_stop_text = []\n",
    "def filter_stop_words(sentences, stop_words):\n",
    "    for i, sentence in enumerate(sentences):\n",
    "        new_sent = [word for word in sentence.split() if word not in stop_words]\n",
    "        #clean_text[i] = ' '.join(new_sent)\n",
    "        remove_stop_text.append(new_sent)\n",
    "    return remove_stop_text\n"
   ]
  },
  {
   "cell_type": "code",
   "execution_count": 18,
   "metadata": {},
   "outputs": [],
   "source": [
    "final_text= filter_stop_words(clean_text, stop_words)\n",
    "#final_text= filter_stop_words(tweet_df['Bangla'], stop_words)"
   ]
  },
  {
   "cell_type": "code",
   "execution_count": 19,
   "metadata": {},
   "outputs": [
    {
     "data": {
      "text/plain": [
       "1099"
      ]
     },
     "execution_count": 19,
     "metadata": {},
     "output_type": "execute_result"
    }
   ],
   "source": [
    "len(final_text)"
   ]
  },
  {
   "cell_type": "code",
   "execution_count": 20,
   "metadata": {},
   "outputs": [
    {
     "data": {
      "text/plain": [
       "['খানকির', 'পোয়া', 'রোহিঙ্গা', 'অল', 'বাংলাদেশেত', 'ঢুকিলী']"
      ]
     },
     "execution_count": 20,
     "metadata": {},
     "output_type": "execute_result"
    }
   ],
   "source": [
    "final_text[0]"
   ]
  },
  {
   "cell_type": "code",
   "execution_count": 21,
   "metadata": {},
   "outputs": [],
   "source": [
    "from gensim.models import  FastText\n",
    "fst_model = FastText(final_text,\n",
    "                              min_count = 1,\n",
    "                               window=5,\n",
    "                                   epochs = 20 \n",
    "                             )"
   ]
  },
  {
   "cell_type": "code",
   "execution_count": 22,
   "metadata": {},
   "outputs": [
    {
     "data": {
      "text/plain": [
       "{'মাগি': 0,\n",
       " 'মাগির': 1,\n",
       " 'পোস্ট': 2,\n",
       " 'দুধ': 3,\n",
       " 'পোয়া': 4,\n",
       " 'ভালা': 5,\n",
       " 'হানকি': 6,\n",
       " 'বালর': 7,\n",
       " 'বদ্দা': 8,\n",
       " 'সুন্দর': 9,\n",
       " 'বড়': 10,\n",
       " 'চাটগাঁইয়া': 11,\n",
       " 'ইবে': 12,\n",
       " 'লায়': 13,\n",
       " 'গরন': 14,\n",
       " 'ফালতু': 15,\n",
       " 'আঁরার': 16,\n",
       " 'পোন': 17,\n",
       " 'ইয়েন': 18,\n",
       " 'ইতার': 19,\n",
       " 'হাম': 20,\n",
       " 'বউত': 21,\n",
       " 'ভাষা': 22,\n",
       " 'পানি': 23,\n",
       " 'গ্রুপ': 24,\n",
       " 'কা': 25,\n",
       " 'অল': 26,\n",
       " 'মাগিরে': 27,\n",
       " 'ফিডে': 28,\n",
       " 'এগিন': 29,\n",
       " 'ভাই': 30,\n",
       " 'আছিল': 31,\n",
       " 'এপ্রুভ': 32,\n",
       " 'কিন্তু': 33,\n",
       " 'দরহার': 34,\n",
       " 'ঠিক': 35,\n",
       " 'সানাই': 36,\n",
       " 'নু': 37,\n",
       " 'যে': 38,\n",
       " 'ও': 39,\n",
       " 'আঁরা': 40,\n",
       " 'চিটাইঙ্গে': 41,\n",
       " 'হানকির': 42,\n",
       " 'মানুষ': 43,\n",
       " 'এক্কান': 44,\n",
       " 'জিনিস': 45,\n",
       " 'লেহা': 46,\n",
       " 'গ্রুপুত': 47,\n",
       " 'মারি': 48,\n",
       " 'গ্রুপুর': 49,\n",
       " 'মতো': 50,\n",
       " 'এহন': 51,\n",
       " 'আলার': 52,\n",
       " 'দিয়ুম': 53,\n",
       " 'বাইর': 54,\n",
       " 'নতুন': 55,\n",
       " 'মাইয়া': 56,\n",
       " 'আরো': 57,\n",
       " 'ইতারে': 58,\n",
       " 'লাই': 59,\n",
       " 'মাইয়াপোয়া': 60,\n",
       " 'পরিবু': 61,\n",
       " 'আফা': 62,\n",
       " 'গরম': 63,\n",
       " 'গেইয়ি': 64,\n",
       " 'নাম': 65,\n",
       " 'এক': 66,\n",
       " 'বত': 67,\n",
       " 'মজা': 68,\n",
       " 'মিনিটে': 69,\n",
       " 'চোদা': 70,\n",
       " 'হত্তুন': 71,\n",
       " 'পুরাই': 72,\n",
       " 'হষ্ট': 73,\n",
       " 'হেডার': 74,\n",
       " 'আবার': 75,\n",
       " 'অইয়ি': 76,\n",
       " 'অইলদি': 77,\n",
       " 'দুই': 78,\n",
       " 'গইজ্জুন': 79,\n",
       " 'এড': 80,\n",
       " 'হারাপ': 81,\n",
       " 'চুদি': 82,\n",
       " 'কুত্তার': 83,\n",
       " 'এ': 84,\n",
       " 'ফেলাই': 85,\n",
       " 'ওয়া': 86,\n",
       " 'বা': 87,\n",
       " 'তার': 88,\n",
       " 'ভাষাত': 89,\n",
       " 'আরে': 90,\n",
       " 'দিন': 91,\n",
       " 'ভিডিও': 92,\n",
       " 'এরি': 93,\n",
       " 'শরম': 94,\n",
       " 'অবশ্যই': 95,\n",
       " 'বছর': 96,\n",
       " 'মাদারচোদ': 97,\n",
       " 'পরিচালক': 98,\n",
       " 'এক্কানা': 99,\n",
       " 'ভুল': 100,\n",
       " 'কুত্তা': 101,\n",
       " 'চেষ্টা': 102,\n",
       " 'দিয়েরে': 103,\n",
       " 'আঁরে': 104,\n",
       " 'এব্বেরে': 105,\n",
       " 'আল্লাহ': 106,\n",
       " 'পোয়ালা': 107,\n",
       " 'পর': 108,\n",
       " 'এক্সপ্রেস': 109,\n",
       " 'দেখি': 110,\n",
       " 'নিজে': 111,\n",
       " 'মারহা': 112,\n",
       " 'গইজ্জি': 113,\n",
       " 'শুধু': 114,\n",
       " 'যায়': 115,\n",
       " 'বানাই': 116,\n",
       " 'সাধু': 117,\n",
       " 'ঐয়ি': 118,\n",
       " 'বেজ্ঞিন': 119,\n",
       " 'নাটকত': 120,\n",
       " 'দেখিলি': 121,\n",
       " 'হেডা': 122,\n",
       " 'থাইকতে': 123,\n",
       " 'গরের': 124,\n",
       " 'রুলস': 125,\n",
       " 'দিয়ন': 126,\n",
       " 'চেয়ারা': 127,\n",
       " 'ভালোবাসা': 128,\n",
       " 'অ': 129,\n",
       " 'গরর': 130,\n",
       " 'আউয়ার': 131,\n",
       " 'বোত': 132,\n",
       " 'জানি': 133,\n",
       " 'অলরে': 134,\n",
       " 'পল': 135,\n",
       " 'গরিবের': 136,\n",
       " 'গান': 137,\n",
       " 'ধরি': 138,\n",
       " 'বেক': 139,\n",
       " 'আলা': 140,\n",
       " 'তিতে': 141,\n",
       " 'পাইলি': 142,\n",
       " 'নস্ট': 143,\n",
       " 'পুরা': 144,\n",
       " 'হাই': 145,\n",
       " 'টেয়া': 146,\n",
       " 'হরলা': 147,\n",
       " 'দিতাম': 148,\n",
       " 'গরিত': 149,\n",
       " 'অংশগ্রহণ': 150,\n",
       " 'শুভেচ্ছা': 151,\n",
       " 'তুর': 152,\n",
       " 'মিনিট': 153,\n",
       " 'ছবি': 154,\n",
       " 'খুব': 155,\n",
       " 'ইবের': 156,\n",
       " 'আরার': 157,\n",
       " 'আপু': 158,\n",
       " 'পরিবুদে': 159,\n",
       " 'গরিবেন': 160,\n",
       " 'পোষ্ট': 161,\n",
       " 'মাল': 162,\n",
       " 'আশা': 163,\n",
       " 'বাংলা': 164,\n",
       " 'দোষ': 165,\n",
       " 'পারি': 166,\n",
       " 'চা': 167,\n",
       " 'হনে': 168,\n",
       " 'ভিতর': 169,\n",
       " 'শেস': 170,\n",
       " 'তোয়ার': 171,\n",
       " 'দিত': 172,\n",
       " 'ইল্লে': 173,\n",
       " 'হ': 174,\n",
       " 'শেষ': 175,\n",
       " 'বোকাচোদা': 176,\n",
       " 'অর': 177,\n",
       " 'ধইন্যবাদ': 178,\n",
       " 'বালের': 179,\n",
       " 'সমস্যা': 180,\n",
       " 'তই': 181,\n",
       " 'মারে': 182,\n",
       " 'চুইদ্দুম': 183,\n",
       " 'আরেক': 184,\n",
       " 'চনু': 185,\n",
       " 'বেশ্যা': 186,\n",
       " 'কাহিনি': 187,\n",
       " 'জন্ম': 188,\n",
       " 'এডে': 189,\n",
       " 'এতো': 190,\n",
       " 'ক্যান': 191,\n",
       " 'গাইল': 192,\n",
       " 'মা': 193,\n",
       " 'বাল': 194,\n",
       " 'ছাড়া': 195,\n",
       " 'গইরজি': 196,\n",
       " 'আজিয়ে': 197,\n",
       " 'অলে': 198,\n",
       " 'অনরে': 199,\n",
       " 'দিইয়ি': 200,\n",
       " 'তারপর': 201,\n",
       " 'নাটকের': 202,\n",
       " 'গা': 203,\n",
       " 'দিবেন': 204,\n",
       " 'বাজে': 205,\n",
       " 'গঁরি': 206,\n",
       " 'এর': 207,\n",
       " 'মাথা': 208,\n",
       " 'এনা': 209,\n",
       " 'আআলার': 210,\n",
       " 'শুভ': 211,\n",
       " 'সময়': 212,\n",
       " 'এইল্লা': 213,\n",
       " 'তবে': 214,\n",
       " 'লেহি': 215,\n",
       " 'আইডি': 216,\n",
       " 'কিওই': 217,\n",
       " 'পাই': 218,\n",
       " 'সেরা': 219,\n",
       " 'গরিলি': 220,\n",
       " 'কমেন্ট': 221,\n",
       " 'হাছে': 222,\n",
       " 'কন্টেস্ট': 223,\n",
       " 'গল্প': 224,\n",
       " 'ইয়্যিন': 225,\n",
       " 'হইল্লে': 226,\n",
       " 'ইন': 227,\n",
       " 'বিয়ে': 228,\n",
       " 'এমপি': 229,\n",
       " 'দোয়া': 230,\n",
       " 'দিয়ি': 231,\n",
       " 'প্রিয়': 232,\n",
       " 'যার': 233,\n",
       " 'ইয়িন': 234,\n",
       " 'বইন': 235,\n",
       " 'ঈতার': 236,\n",
       " 'তোরা': 237,\n",
       " 'আচোদা': 238,\n",
       " 'তয়': 239,\n",
       " 'চেডর': 240,\n",
       " 'ইয়েনর': 241,\n",
       " 'মারা': 242,\n",
       " 'দিবের': 243,\n",
       " 'অক্কল': 244,\n",
       " 'আআলি': 245,\n",
       " 'অভাব': 246,\n",
       " 'দেহা': 247,\n",
       " 'অয়ে': 248,\n",
       " 'হইতে': 249,\n",
       " 'রে': 250,\n",
       " 'মারামারি': 251,\n",
       " 'কিল্লা': 252,\n",
       " 'ধন্যবাদ': 253,\n",
       " 'এইল্লে': 254,\n",
       " 'র': 255,\n",
       " 'ইবেই': 256,\n",
       " 'দিলি': 257,\n",
       " 'শুরু': 258,\n",
       " 'আবাল': 259,\n",
       " 'মাইন্সে': 260,\n",
       " 'হজ': 261,\n",
       " 'ঘরর': 262,\n",
       " 'বিরেনি': 263,\n",
       " 'পরি': 264,\n",
       " 'দেশত্তুন': 265,\n",
       " 'কেনে': 266,\n",
       " 'একটা': 267,\n",
       " 'ভুলি': 268,\n",
       " 'হইবেন': 269,\n",
       " 'পার্সোনালি': 270,\n",
       " 'কিওরে': 271,\n",
       " 'সামনে': 272,\n",
       " 'এডমিন': 273,\n",
       " \"মা'র\": 274,\n",
       " 'উর': 275,\n",
       " 'দিতে': 276,\n",
       " 'ইতারা': 277,\n",
       " 'পর্যন্ত': 278,\n",
       " 'হত্তু': 279,\n",
       " 'মিক্স': 280,\n",
       " 'আছি': 281,\n",
       " 'মন': 282,\n",
       " 'অইত': 283,\n",
       " 'প্রশ্ন': 284,\n",
       " 'দুধুর': 285,\n",
       " 'এম্পি': 286,\n",
       " 'উৎসাহ': 287,\n",
       " 'বুলি': 288,\n",
       " 'মারন': 289,\n",
       " 'লাথি': 290,\n",
       " 'গেইয়্যি': 291,\n",
       " 'চুদা': 292,\n",
       " 'ফরিবু': 293,\n",
       " 'দিলেন': 294,\n",
       " 'কাডি': 295,\n",
       " 'জোতা': 296,\n",
       " 'গরিবেল্লাই': 297,\n",
       " 'ঘন্টা': 298,\n",
       " 'এত্তর': 299,\n",
       " 'পেন্ট': 300,\n",
       " 'গরস': 301,\n",
       " 'কেউ': 302,\n",
       " 'ফেলন': 303,\n",
       " 'হাইতু': 304,\n",
       " 'গইরতু': 305,\n",
       " 'গইরজিদে': 306,\n",
       " 'হিরো': 307,\n",
       " 'আগায়': 308,\n",
       " 'বানাইয়ুন': 309,\n",
       " 'মণি': 310,\n",
       " 'মাদারি': 311,\n",
       " 'উত': 312,\n",
       " 'মাইন্সুর': 313,\n",
       " 'ঘুম': 314,\n",
       " 'গইজ্জুম': 315,\n",
       " 'আইয়ুন': 316,\n",
       " 'জাই': 317,\n",
       " 'অনারার': 318,\n",
       " 'বানাইদে': 319,\n",
       " 'বেইশ্যা': 320,\n",
       " 'পোস্টুত': 321,\n",
       " 'দিয়্যি': 322,\n",
       " 'জই': 323,\n",
       " 'নয়': 324,\n",
       " 'জে': 325,\n",
       " 'লাগিবু': 326,\n",
       " 'নুডুলস': 327,\n",
       " 'ম্যাগি': 328,\n",
       " 'দেহন': 329,\n",
       " 'আস্তে': 330,\n",
       " 'হস': 331,\n",
       " 'মরি': 332,\n",
       " 'বেয়াদব': 333,\n",
       " 'কিল্লাই': 334,\n",
       " 'গরু': 335,\n",
       " 'তোই': 336,\n",
       " 'হারন': 337,\n",
       " 'যেহেতু': 338,\n",
       " 'লেন্ডা': 339,\n",
       " 'আসলে': 340,\n",
       " 'মাঝে': 341,\n",
       " 'আলী': 342,\n",
       " 'মার': 343,\n",
       " 'বরো': 344,\n",
       " 'সুদানির': 345,\n",
       " 'নিজুর': 346,\n",
       " 'এইসব': 347,\n",
       " 'ভালো': 348,\n",
       " 'ফ্রেন্ড': 349,\n",
       " 'আআলা': 350,\n",
       " 'গুই': 351,\n",
       " 'হেডাত': 352,\n",
       " 'পোশাক': 353,\n",
       " 'আগর': 354,\n",
       " 'বেজ্ঞুন': 355,\n",
       " 'বাইচ্ছা': 356,\n",
       " 'দায়': 357,\n",
       " 'শেষে': 358,\n",
       " 'এক্কাঁন': 359,\n",
       " 'পুয়া': 360,\n",
       " 'হা': 361,\n",
       " 'ফুসকা': 362,\n",
       " 'আরা': 363,\n",
       " 'হারনে': 364,\n",
       " 'ইয়েন': 365,\n",
       " 'লাগাই': 366,\n",
       " 'উত্তর': 367,\n",
       " 'অভিনয়': 368,\n",
       " 'সমত': 369,\n",
       " 'বাইচ্চা': 370,\n",
       " 'মিল': 371,\n",
       " 'বানন': 372,\n",
       " 'বাঁচি': 373,\n",
       " 'বালছাল': 374,\n",
       " 'অভিনন্দন': 375,\n",
       " 'বর্ষপূর্তি': 376,\n",
       " 'হইয়ি': 377,\n",
       " 'লার': 378,\n",
       " 'হাডি': 379,\n",
       " 'ফুরো': 380,\n",
       " 'অনারা': 381,\n",
       " 'মার্কা': 382,\n",
       " 'একমাত্র': 383,\n",
       " 'অক্কঁল': 384,\n",
       " 'জেলার': 385,\n",
       " 'চাইলি': 386,\n",
       " 'তাহে': 387,\n",
       " 'বানাইয়ি': 388,\n",
       " 'খানকির': 389,\n",
       " 'প্রতি': 390,\n",
       " 'নষ্ট': 391,\n",
       " 'ইসলাম': 392,\n",
       " 'ফরিবু\"': 393,\n",
       " 'কুত্তাও': 394,\n",
       " 'বিয়ের': 395,\n",
       " 'গরিলে': 396,\n",
       " 'গইরলি': 397,\n",
       " 'ভাষার': 398,\n",
       " 'পোয়াওল': 399,\n",
       " 'হইয়ুম': 400,\n",
       " 'খুলি': 401,\n",
       " 'বাইরে': 402,\n",
       " 'জাইগুই': 403,\n",
       " 'আমার': 404,\n",
       " 'অয়েল': 405,\n",
       " 'অন': 406,\n",
       " 'অইলুদে': 407,\n",
       " 'ঝিরে': 408,\n",
       " 'যেত্তে': 409,\n",
       " 'আমি': 410,\n",
       " 'পড়ে': 411,\n",
       " 'রাঁধিত': 412,\n",
       " 'তুইত': 413,\n",
       " 'জাতীয়': 414,\n",
       " 'অন্য': 415,\n",
       " 'অইদে': 416,\n",
       " 'এতেল্লাই': 417,\n",
       " 'নাটকর': 418,\n",
       " 'এনে': 419,\n",
       " 'নোয়া': 420,\n",
       " 'লূডর্লস': 421,\n",
       " 'দরহারি': 422,\n",
       " 'পাল্লা': 423,\n",
       " 'ফুলি': 424,\n",
       " 'লেদা': 425,\n",
       " 'লেহিবের': 426,\n",
       " 'গেই': 427,\n",
       " 'পোয়ার': 428,\n",
       " 'লেহিবেন': 429,\n",
       " 'খেলা': 430,\n",
       " 'টিক': 431,\n",
       " 'বলতে': 432,\n",
       " 'লজ্জা': 433,\n",
       " 'শোভা': 434,\n",
       " 'হারণে': 435,\n",
       " 'অইয়ে': 436,\n",
       " 'লতিক': 437,\n",
       " 'মাগিয়ে': 438,\n",
       " 'জয়': 439,\n",
       " 'গরুর': 440,\n",
       " 'তোরর': 441,\n",
       " 'হইতাম': 442,\n",
       " 'তৈরি': 443,\n",
       " 'কিয়া': 444,\n",
       " 'বব্বু': 445,\n",
       " 'গরো': 446,\n",
       " 'জন্মদিন': 447,\n",
       " 'দরকার': 448,\n",
       " 'ঠান্ডা': 449,\n",
       " 'তইলে': 450,\n",
       " 'এক্সপ্রেসর': 451,\n",
       " 'এনডিল্লে': 452,\n",
       " 'আরেক্কান': 453,\n",
       " 'বরবাদ': 454,\n",
       " 'গরির': 455,\n",
       " 'যারা': 456,\n",
       " 'কামনা': 457,\n",
       " 'খোর': 458,\n",
       " 'হারাফ': 459,\n",
       " 'সবসময়': 460,\n",
       " 'ছাড়ি': 461,\n",
       " 'তারার': 462,\n",
       " \"এক্সপ্রেস'র\": 463,\n",
       " 'যুদি': 464,\n",
       " 'কন্টেস্টত': 465,\n",
       " 'উপলক্ষে': 466,\n",
       " 'ভাত': 467,\n",
       " 'চিবি': 468,\n",
       " 'জানাই': 469,\n",
       " 'গজ্জি': 470,\n",
       " 'বালচোদা': 471,\n",
       " 'চেড': 472,\n",
       " 'করে': 473,\n",
       " 'ঠিগ': 474,\n",
       " 'আপন': 475,\n",
       " 'ই': 476,\n",
       " 'আল্লাহ্': 477,\n",
       " 'সালাম': 478,\n",
       " 'এল্লে': 479,\n",
       " 'নুডলস': 480,\n",
       " 'নার্ভাস': 481,\n",
       " 'ইতারার': 482,\n",
       " 'আআলী': 483,\n",
       " 'ওমা': 484,\n",
       " 'হঅন': 485,\n",
       " 'সরি': 486,\n",
       " 'সাম্মে': 487,\n",
       " 'ছোড': 488,\n",
       " 'একবার': 489,\n",
       " 'জুতা': 490,\n",
       " 'হাক্কু': 491,\n",
       " 'অইয়্যি': 492,\n",
       " 'বেয়াগ': 493,\n",
       " 'চিটাইঙ্গেত': 494,\n",
       " 'হারণ': 495,\n",
       " 'অলদি': 496,\n",
       " 'ডুকাই': 497,\n",
       " 'দেহি': 498,\n",
       " 'খারাপ': 499,\n",
       " 'মান': 500,\n",
       " 'বাঁশ': 501,\n",
       " 'বঅর': 502,\n",
       " 'তাহিবেন': 503,\n",
       " 'সোনা': 504,\n",
       " 'হত্ত': 505,\n",
       " 'ওনো': 506,\n",
       " 'জানা': 507,\n",
       " 'হইলে': 508,\n",
       " 'তেই': 509,\n",
       " 'বিশ্রি': 510,\n",
       " 'বানায়': 511,\n",
       " 'বাংলাদেশর': 512,\n",
       " 'দিয়া': 513,\n",
       " 'রিকোয়েস্ট': 514,\n",
       " 'আসল': 515,\n",
       " 'হইবের': 516,\n",
       " 'ফেরত': 517,\n",
       " 'আবালচোদা': 518,\n",
       " 'দের': 519,\n",
       " 'আইও': 520,\n",
       " 'আত্তে': 521,\n",
       " 'চোদ': 522,\n",
       " 'অইলু': 523,\n",
       " 'হাজ': 524,\n",
       " 'পরিচালকের': 525,\n",
       " 'আস্তা': 526,\n",
       " 'বর': 527,\n",
       " 'হায়': 528,\n",
       " 'রেডি': 529,\n",
       " 'তাহিলি': 530,\n",
       " 'তারা': 531,\n",
       " 'আলারপোয়ালা': 532,\n",
       " 'মালিক': 533,\n",
       " 'এতাল্লাই': 534,\n",
       " 'ভারা': 535,\n",
       " 'উচিত': 536,\n",
       " 'ত্তুন': 537,\n",
       " 'নঅ': 538,\n",
       " 'শান্তি': 539,\n",
       " 'কাদের': 540,\n",
       " 'ওবাইদুল': 541,\n",
       " 'ড': 542,\n",
       " 'হইদি': 543,\n",
       " 'ঝি': 544,\n",
       " 'বেশ্য': 545,\n",
       " 'প্রমাণ': 546,\n",
       " 'চুইদ্দুন': 547,\n",
       " 'জয়েন': 548,\n",
       " 'তোঁয়ারে': 549,\n",
       " 'সোনার': 550,\n",
       " 'আত': 551,\n",
       " 'তু': 552,\n",
       " 'মেজাজ': 553,\n",
       " 'অইবের': 554,\n",
       " 'হাইলি': 555,\n",
       " 'রান্না': 556,\n",
       " 'ফারে': 557,\n",
       " 'গর': 558,\n",
       " 'ডিলিট': 559,\n",
       " 'বাইনচোদ': 560,\n",
       " 'না\"': 561,\n",
       " 'আপনারা': 562,\n",
       " 'জার': 563,\n",
       " 'গইরতে': 564,\n",
       " 'ধন': 565,\n",
       " 'তিসা': 566,\n",
       " 'ডইল্লে': 567,\n",
       " 'দেশত': 568,\n",
       " 'জীবনর': 569,\n",
       " 'বার': 570,\n",
       " 'এতেল্লেই': 571,\n",
       " 'আঁত্তে': 572,\n",
       " 'গড়ম': 573,\n",
       " 'ইগিন': 574,\n",
       " 'রাহিবেন': 575,\n",
       " 'গুরো': 576,\n",
       " 'মাগী': 577,\n",
       " 'হানাত': 578,\n",
       " 'আধা': 579,\n",
       " 'হিজারা': 580,\n",
       " 'অডি': 581,\n",
       " 'ডিরেক্টর': 582,\n",
       " 'দেশর': 583,\n",
       " 'ভাবনা': 584,\n",
       " 'বেয়াক': 585,\n",
       " 'হাইত': 586,\n",
       " 'নাইকা': 587,\n",
       " 'বিরত': 588,\n",
       " 'অক্কঁলরে': 589,\n",
       " 'রিপোর্ট': 590,\n",
       " 'পারা': 591,\n",
       " 'ব্যবস্থা': 592,\n",
       " 'পার্সোনাল': 593,\n",
       " 'দিয়ুন': 594,\n",
       " 'হাইতে': 595,\n",
       " 'লোভ': 596,\n",
       " 'গোসল': 597,\n",
       " 'দেশ': 598,\n",
       " 'কেজি': 599,\n",
       " 'রেসিপি': 600,\n",
       " 'আইন্নি': 601,\n",
       " 'পুছর': 602,\n",
       " 'সানাইর': 603,\n",
       " 'আলারপোয়ালাইন': 604,\n",
       " 'অংগে': 605,\n",
       " 'পাইবু': 606,\n",
       " 'হানকিরে': 607,\n",
       " 'মিক্কে': 608,\n",
       " 'সানাইরে': 609,\n",
       " 'চালু': 610,\n",
       " 'চোদার': 611,\n",
       " 'মেসেজ': 612,\n",
       " 'ইসলামে': 613,\n",
       " 'বের': 614,\n",
       " 'অল্প': 615,\n",
       " 'লাভ': 616,\n",
       " 'ভেইয়ে': 617,\n",
       " 'দেখিলে': 618,\n",
       " 'নিয়ে': 619,\n",
       " 'আছস': 620,\n",
       " 'হানা': 621,\n",
       " 'ভারজিন': 622,\n",
       " 'আছিলাম': 623,\n",
       " 'বুঝি': 624,\n",
       " 'পারিবু': 625,\n",
       " 'জানাইবের': 626,\n",
       " 'এতোদিন': 627,\n",
       " 'বাইঞ্চোদ': 628,\n",
       " 'পোয়ায়': 629,\n",
       " 'অত': 630,\n",
       " 'শেয়ার': 631,\n",
       " 'অরজিনাল': 632,\n",
       " 'নগরি': 633,\n",
       " 'অয়': 634,\n",
       " 'আগেও': 635,\n",
       " 'দুনিয়ের': 636,\n",
       " 'এলাহা': 637,\n",
       " 'গরিবু': 638,\n",
       " 'হাইবেল্লাই': 639,\n",
       " 'ইক্কে': 640,\n",
       " 'পুরো': 641,\n",
       " 'যিয়েন': 642,\n",
       " 'তুলি': 643,\n",
       " 'বাজি': 644,\n",
       " 'রাহিবের': 645,\n",
       " 'ভিতুর': 646,\n",
       " 'দুরুর': 647,\n",
       " 'পিডে': 648,\n",
       " 'হাইলাম': 649,\n",
       " 'দিয়্যু': 650,\n",
       " 'রাহি': 651,\n",
       " 'পেডত': 652,\n",
       " 'মোশারফ': 653,\n",
       " 'ছবিত': 654,\n",
       " 'আজির': 655,\n",
       " 'মনই': 656,\n",
       " 'লাইগ্গুন': 657,\n",
       " 'মাশাআল্লাহ': 658,\n",
       " 'বিচ্চিরি': 659,\n",
       " 'ইয়েঁন': 660,\n",
       " 'উপস্থাপন': 661,\n",
       " 'দিবেন\"': 662,\n",
       " 'বিয়েক্কিন': 663,\n",
       " 'বারকাতুহু': 664,\n",
       " 'রহমাতুল্লাহি': 665,\n",
       " 'বানাইয়িদে': 666,\n",
       " 'মতন': 667,\n",
       " 'মুখুর': 668,\n",
       " 'ভাষারে': 669,\n",
       " 'গরনর': 670,\n",
       " 'গলা': 671,\n",
       " 'বেইশ্য': 672,\n",
       " 'ইয়ুন': 673,\n",
       " 'আনকমন': 674,\n",
       " 'এক্সপ্রেস\"': 675,\n",
       " 'হইয়ু': 676,\n",
       " 'চুইদ্দু': 677,\n",
       " 'বালা': 678,\n",
       " 'অইবুদে': 679,\n",
       " 'অঁনর': 680,\n",
       " 'কী': 681,\n",
       " 'আঁয়': 682,\n",
       " 'হারামজাদা': 683,\n",
       " 'সময়': 684,\n",
       " 'মরতপুয়া': 685,\n",
       " 'গলাই': 686,\n",
       " 'পারবেন': 687,\n",
       " 'হাইয়ুম': 688,\n",
       " 'ফেসবুক': 689,\n",
       " 'জীবন': 690,\n",
       " 'আলাইকুমুস': 691,\n",
       " 'দিতু': 692,\n",
       " 'যদিও': 693,\n",
       " 'থাহন': 694,\n",
       " 'ওর': 695,\n",
       " 'ওজ্ঞ': 696,\n",
       " 'বাজারের': 697,\n",
       " 'পরের': 698,\n",
       " 'মুতি': 699,\n",
       " 'বই': 700,\n",
       " 'লন': 701,\n",
       " 'মোবাইল': 702,\n",
       " 'আপা': 703,\n",
       " 'লাইজ্ঞু': 704,\n",
       " 'বুঝির': 705,\n",
       " 'সমস্যে': 706,\n",
       " 'বছররে': 707,\n",
       " 'কিভাবে': 708,\n",
       " 'হস্ট': 709,\n",
       " 'জানাইয়ুন': 710,\n",
       " 'যাইত': 711,\n",
       " 'জানে': 712,\n",
       " 'যত': 713,\n",
       " 'দে\"': 714,\n",
       " 'মজার': 715,\n",
       " 'চাটগাঁইয়্যে': 716,\n",
       " 'অইতে': 717,\n",
       " 'কেলাদি': 718,\n",
       " 'টেয়ার': 719,\n",
       " 'এইগিন': 720,\n",
       " 'যারার': 721,\n",
       " 'লাইভ': 722,\n",
       " 'গরন\"': 723,\n",
       " 'উইস': 724,\n",
       " 'যন': 725,\n",
       " 'পোদদি': 726,\n",
       " 'তোরারে': 727,\n",
       " 'বিজয়ী': 728,\n",
       " 'গইজ্জে': 729,\n",
       " 'পরিচালকরে': 730,\n",
       " 'গু': 731,\n",
       " 'তানজিন': 732,\n",
       " 'ধরনর': 733,\n",
       " 'বাপ': 734,\n",
       " 'যাইলি': 735,\n",
       " 'মানুষ্যো': 736,\n",
       " 'অক্কলরে': 737,\n",
       " 'সিড়ি': 738,\n",
       " 'জিন্দে': 739,\n",
       " 'সুখ': 740,\n",
       " 'আঁসির': 741,\n",
       " 'ঘর': 742,\n",
       " 'হমপক্ষে': 743,\n",
       " 'নায়িকা': 744,\n",
       " 'কন্টেস্টর': 745,\n",
       " 'মরিচ': 746,\n",
       " 'ভাল': 747,\n",
       " 'ভাব': 748,\n",
       " 'কথার': 749,\n",
       " 'চাইদি': 750,\n",
       " 'আজার': 751,\n",
       " 'বেয়াজ্ঞিন': 752,\n",
       " 'ইবেত': 753,\n",
       " 'তোয়ায়': 754,\n",
       " 'অইলে': 755,\n",
       " 'ভার্চুয়াল': 756,\n",
       " 'অনেরার': 757,\n",
       " 'ইবেরে': 758,\n",
       " 'গরা': 759,\n",
       " 'হইজ্জে': 760,\n",
       " 'মাইন্সুরে': 761,\n",
       " 'রাথা': 762,\n",
       " 'পানলার': 763,\n",
       " 'চেস্টা': 764,\n",
       " 'আসসালামু': 765,\n",
       " 'আইসসি': 766,\n",
       " 'পলাই': 767,\n",
       " 'কুত্তাইও': 768,\n",
       " 'পানির': 769,\n",
       " 'বাপে': 770,\n",
       " 'মানুস': 771,\n",
       " 'গরিবুদে': 772,\n",
       " 'যোগ্য': 773,\n",
       " 'আঁইও': 774,\n",
       " 'এরিম্মা': 775,\n",
       " 'লর': 776,\n",
       " 'ঘরত': 777,\n",
       " 'দেয়': 778,\n",
       " 'পাল': 779,\n",
       " 'হতো': 780,\n",
       " 'ফেলাইয়ি': 781,\n",
       " 'অঁরি': 782,\n",
       " 'ফুয়া': 783,\n",
       " 'অবস্থাত': 784,\n",
       " 'তাড়াতাড়ি': 785,\n",
       " 'প্রমান': 786,\n",
       " 'ইসলামের': 787,\n",
       " 'পুত': 788,\n",
       " 'হালি': 789,\n",
       " 'পিডা': 790,\n",
       " 'তোঁয়ার': 791,\n",
       " 'যাতে': 792,\n",
       " 'ধর্মর': 793,\n",
       " 'পিন': 794,\n",
       " 'এরহম': 795,\n",
       " 'অন্ধ': 796,\n",
       " 'ওদো': 797,\n",
       " 'হইস': 798,\n",
       " 'দঅন': 799,\n",
       " 'দেহাই': 800,\n",
       " 'খেয়াল': 801,\n",
       " 'তোরার': 802,\n",
       " 'রাস্তার': 803,\n",
       " 'রাইত': 804,\n",
       " 'ডর': 805,\n",
       " 'দেখে': 806,\n",
       " 'বাংলার': 807,\n",
       " 'লাইগ্গি': 808,\n",
       " 'অদ্দা': 809,\n",
       " 'হোগার': 810,\n",
       " 'জীবনত': 811,\n",
       " 'মায়া': 812,\n",
       " 'অদ্দে': 813,\n",
       " 'প্রথমে': 814,\n",
       " 'মুখত': 815,\n",
       " 'বিয়াগ্গুনুরে': 816,\n",
       " 'অঙ্গে': 817,\n",
       " 'চেক': 818,\n",
       " 'চাটগাঁইয়া': 819,\n",
       " 'গুন': 820,\n",
       " 'হোন': 821,\n",
       " 'ওগ্গো': 822,\n",
       " 'পোস্টুর': 823,\n",
       " 'চাইলাম': 824,\n",
       " 'শা': 825,\n",
       " 'প্রথম': 826,\n",
       " 'ইয়ামি': 827,\n",
       " 'মিক্কেত্তুন': 828,\n",
       " 'সিনেমা': 829,\n",
       " 'মুসলিম': 830,\n",
       " 'তোয়াই': 831,\n",
       " 'আইসসুম': 832,\n",
       " 'গোইত্তে': 833,\n",
       " 'হট্টা': 834,\n",
       " 'মাহি': 835,\n",
       " 'ফর': 836,\n",
       " 'রেস্ট': 837,\n",
       " 'হন্ডে': 838,\n",
       " 'আতর': 839,\n",
       " 'ছারি': 840,\n",
       " 'হাডন': 841,\n",
       " 'চঅন': 842,\n",
       " 'ইনগ্রেডিয়ান্স': 843,\n",
       " 'হাবিব': 844,\n",
       " 'ইয়া': 845,\n",
       " 'অসম্ভব': 846,\n",
       " 'দুধর': 847,\n",
       " 'টেস্ট': 848,\n",
       " 'বলি': 849,\n",
       " 'এন্ডে': 850,\n",
       " 'হততুন': 851,\n",
       " 'তাই': 852,\n",
       " 'বঅত': 853,\n",
       " 'পড়তে': 854,\n",
       " 'মানে': 855,\n",
       " 'হথার': 856,\n",
       " 'বাজারর': 857,\n",
       " 'বানলি': 858,\n",
       " 'চুদন': 859,\n",
       " 'হইয়ুন': 860,\n",
       " 'গম': 861,\n",
       " 'পত্তে': 862,\n",
       " 'গেয়': 863,\n",
       " 'গিন': 864,\n",
       " 'জোতার': 865,\n",
       " 'বেবসা': 866,\n",
       " 'সত্যি': 867,\n",
       " 'খুলন': 868,\n",
       " 'তুয়ার': 869,\n",
       " 'মিউজিক': 870,\n",
       " 'হোইদ্দি': 871,\n",
       " 'ম্যাগী': 872,\n",
       " 'চাইদ্দি': 873,\n",
       " 'রান্নাত্তুন': 874,\n",
       " 'ব্যাক্তিগত': 875,\n",
       " 'ধন্টা': 876,\n",
       " 'বানাইতে': 877,\n",
       " 'অক': 878,\n",
       " 'জন্মে': 879,\n",
       " 'ফারি': 880,\n",
       " 'নূডর্লস': 881,\n",
       " 'আইয়্যি': 882,\n",
       " 'বমি': 883,\n",
       " 'সামনের': 884,\n",
       " 'দিয়ক': 885,\n",
       " 'নি': 886,\n",
       " 'পালার': 887,\n",
       " 'বেয়াজ্ঞুঁনুর': 888,\n",
       " 'আড': 889,\n",
       " 'হত': 890,\n",
       " 'বয়শশা': 891,\n",
       " 'বুজাই': 892,\n",
       " 'গরক': 893,\n",
       " 'আইজকাল': 894,\n",
       " 'অগ': 895,\n",
       " 'এবাত': 896,\n",
       " 'ইতারারেও': 897,\n",
       " 'সমস্ত': 898,\n",
       " 'ইতাল্লাই': 899,\n",
       " 'এইন': 900,\n",
       " 'হিজারারে': 901,\n",
       " 'ফিল': 902,\n",
       " 'দুধত': 903,\n",
       " 'বেশ্যারে': 904,\n",
       " 'বুজে': 905,\n",
       " 'মাগা': 906,\n",
       " 'বুড়ি': 907,\n",
       " 'চুদ্দে': 908,\n",
       " 'দোয়ার': 909,\n",
       " 'মাইনসের': 910,\n",
       " 'হতিক্ষতি': 911,\n",
       " 'জাতর': 912,\n",
       " 'তুদের': 913,\n",
       " 'ভাবে': 914,\n",
       " 'হাবি': 915,\n",
       " 'হইত': 916,\n",
       " 'লইতুনু': 917,\n",
       " 'চিন্দে': 918,\n",
       " 'একন': 919,\n",
       " 'মাইয়াপোয়ারে': 920,\n",
       " 'তায়ালা': 921,\n",
       " 'পিডন': 922,\n",
       " 'মোশাররফ': 923,\n",
       " 'চাইবেন': 924,\n",
       " 'পরর': 925,\n",
       " 'মুক্ত': 926,\n",
       " 'তিশা': 927,\n",
       " 'মাইনসে': 928,\n",
       " 'স্বাভাবিক': 929,\n",
       " 'চোদাই': 930,\n",
       " 'পেট': 931,\n",
       " 'এইয়িন': 932,\n",
       " 'বিয়াজ্ঞুন': 933,\n",
       " 'যারে': 934,\n",
       " 'পুরি': 935,\n",
       " 'উডি': 936,\n",
       " 'মিয়া': 937,\n",
       " 'মিডে': 938,\n",
       " 'অনোর': 939,\n",
       " 'কুইজোর': 940,\n",
       " 'অঁনে': 941,\n",
       " 'উছিলেই': 942,\n",
       " 'চুলো': 943,\n",
       " 'দস': 944,\n",
       " 'ঘরোত': 945,\n",
       " 'দিয়ুনভালা': 946,\n",
       " 'আলাইকে': 947,\n",
       " 'তুক্কো': 948,\n",
       " 'আআলির': 949,\n",
       " 'হইবান': 950,\n",
       " 'নুডুলসর': 951,\n",
       " 'তরহারি': 952,\n",
       " 'বববু': 953,\n",
       " 'ভোট': 954,\n",
       " 'জামা': 955,\n",
       " 'এগুন': 956,\n",
       " 'ফিরি': 957,\n",
       " 'গ্রুপপেইজ': 958,\n",
       " 'হালকা': 959,\n",
       " 'থাকিত': 960,\n",
       " 'শুদু': 961,\n",
       " 'বাশ': 962,\n",
       " 'জিবন': 963,\n",
       " 'আচে': 964,\n",
       " 'বলদ': 965,\n",
       " 'বাদ': 966,\n",
       " 'মাইফুয়া': 967,\n",
       " 'ফেলার': 968,\n",
       " 'আল্লাহর': 969,\n",
       " 'গাজাখোরি': 970,\n",
       " 'বিলেই': 971,\n",
       " 'জন্মর': 972,\n",
       " 'দায়িত্ব': 973,\n",
       " 'মিডিয়াত': 974,\n",
       " 'নাভিলার': 975,\n",
       " 'গঅইরলি': 976,\n",
       " 'ছোনা': 977,\n",
       " 'বোথ': 978,\n",
       " 'টেবাই': 979,\n",
       " 'আসতে': 980,\n",
       " 'পিঁয়াজমরিচ': 981,\n",
       " 'য্যেল্লেগরি': 982,\n",
       " 'চোখ': 983,\n",
       " 'পরেও': 984,\n",
       " 'পি্য়ছর': 985,\n",
       " 'বাঁসে': 986,\n",
       " 'যাইতুনু': 987,\n",
       " 'পিঁয়েজ': 988,\n",
       " 'কেঁচা': 989,\n",
       " \"হ'নদিনও\": 990,\n",
       " 'পাঁইকতুনু': 991,\n",
       " 'গইজ্জু': 992,\n",
       " 'দিও': 993,\n",
       " 'অয়নে': 994,\n",
       " 'পাইবের': 995,\n",
       " 'আপুচেষ্টা': 996,\n",
       " 'বউতআর': 997,\n",
       " 'ভালাই': 998,\n",
       " 'টিঁয়াপয়সের': 999,\n",
       " ...}"
      ]
     },
     "execution_count": 22,
     "metadata": {},
     "output_type": "execute_result"
    }
   ],
   "source": [
    "fst_model.wv.key_to_index"
   ]
  },
  {
   "cell_type": "code",
   "execution_count": 23,
   "metadata": {},
   "outputs": [
    {
     "data": {
      "text/plain": [
       "[('হাঙ্কিরে', 0.9999855756759644),\n",
       " ('হারন', 0.9999809265136719),\n",
       " ('হারাই', 0.9999803304672241),\n",
       " ('হাম', 0.9999797940254211),\n",
       " ('হারাইয়ু', 0.9999794960021973),\n",
       " ('হাচারা', 0.9999789595603943),\n",
       " ('হারনে', 0.9999788999557495),\n",
       " ('হারি', 0.99997878074646),\n",
       " ('হারাম', 0.9999784231185913),\n",
       " ('হারাফ', 0.9999776482582092)]"
      ]
     },
     "execution_count": 23,
     "metadata": {},
     "output_type": "execute_result"
    }
   ],
   "source": [
    "fst_model.wv.most_similar('হাঙ্কি')"
   ]
  },
  {
   "cell_type": "code",
   "execution_count": 24,
   "metadata": {},
   "outputs": [],
   "source": [
    "tokenizer = Tokenizer(num_words=5000)\n",
    "tokenizer.fit_on_texts(final_text)"
   ]
  },
  {
   "cell_type": "code",
   "execution_count": 25,
   "metadata": {},
   "outputs": [
    {
     "data": {
      "text/plain": [
       "['খানকির', 'পোয়া', 'রোহিঙ্গা', 'অল', 'বাংলাদেশেত', 'ঢুকিলী']"
      ]
     },
     "execution_count": 25,
     "metadata": {},
     "output_type": "execute_result"
    }
   ],
   "source": [
    "final_text[0]"
   ]
  },
  {
   "cell_type": "code",
   "execution_count": 26,
   "metadata": {},
   "outputs": [
    {
     "data": {
      "text/plain": [
       "4639"
      ]
     },
     "execution_count": 26,
     "metadata": {},
     "output_type": "execute_result"
    }
   ],
   "source": [
    "vocab_size = len(tokenizer.word_index) + 1\n",
    "vocab_size"
   ]
  },
  {
   "cell_type": "code",
   "execution_count": 27,
   "metadata": {},
   "outputs": [
    {
     "name": "stdout",
     "output_type": "stream",
     "text": [
      "(4639, 100)\n"
     ]
    }
   ],
   "source": [
    "W2V_SIZE = 100\n",
    "embedding_matrix = np.zeros((vocab_size, W2V_SIZE))\n",
    "for word, i in tokenizer.word_index.items():\n",
    "  if word in fst_model.wv:\n",
    "    embedding_matrix[i] = fst_model.wv[word]\n",
    "print(embedding_matrix.shape)"
   ]
  },
  {
   "cell_type": "code",
   "execution_count": 28,
   "metadata": {},
   "outputs": [
    {
     "name": "stdout",
     "output_type": "stream",
     "text": [
      "{'মাগি': 1, 'মাগির': 2, 'পোস্ট': 3, 'দুধ': 4, 'পোয়া': 5, 'ভালা': 6, 'হানকি': 7, 'বালর': 8, 'বদ্দা': 9, 'বড়': 10, 'সুন্দর': 11, 'চাটগাঁইয়া': 12, 'ইবে': 13, 'লায়': 14, 'আঁরার': 15, 'গরন': 16, 'ফালতু': 17, 'পোন': 18, 'ইয়েন': 19, 'ইতার': 20, 'হাম': 21, 'ভাষা': 22, 'বউত': 23, 'অল': 24, 'কা': 25, 'গ্রুপ': 26, 'পানি': 27, 'আছিল': 28, 'ভাই': 29, 'মাগিরে': 30, 'এগিন': 31, 'ফিডে': 32, 'এপ্রুভ': 33, 'কিন্তু': 34, 'ঠিক': 35, 'সানাই': 36, 'নু': 37, 'দরহার': 38, 'ও': 39, 'যে': 40, 'চিটাইঙ্গে': 41, 'আঁরা': 42, 'হানকির': 43, 'মানুষ': 44, 'এক্কান': 45, 'জিনিস': 46, 'মারি': 47, 'গ্রুপুর': 48, 'লেহা': 49, 'গ্রুপুত': 50, 'এহন': 51, 'বাইর': 52, 'নতুন': 53, 'দিয়ুম': 54, 'মাইয়া': 55, 'আলার': 56, 'মতো': 57, 'পরিবু': 58, 'মাইয়াপোয়া': 59, 'ইতারে': 60, 'আরো': 61, 'লাই': 62, 'নাম': 63, 'এক': 64, 'গরম': 65, 'আফা': 66, 'গেইয়ি': 67, 'মজা': 68, 'হত্তুন': 69, 'মিনিটে': 70, 'চোদা': 71, 'বত': 72, 'অইলদি': 73, 'হারাপ': 74, 'কুত্তার': 75, 'এড': 76, 'আবার': 77, 'হেডার': 78, 'চুদি': 79, 'পুরাই': 80, 'গইজ্জুন': 81, 'অইয়ি': 82, 'হষ্ট': 83, 'দুই': 84, 'এ': 85, 'ভাষাত': 86, 'ওয়া': 87, 'বা': 88, 'তার': 89, 'ফেলাই': 90, 'মাদারচোদ': 91, 'অবশ্যই': 92, 'ভিডিও': 93, 'এক্কানা': 94, 'শরম': 95, 'ভুল': 96, 'দিন': 97, 'এরি': 98, 'আরে': 99, 'পরিচালক': 100, 'বছর': 101, 'আল্লাহ': 102, 'চেষ্টা': 103, 'কুত্তা': 104, 'দিয়েরে': 105, 'পোয়ালা': 106, 'এব্বেরে': 107, 'আঁরে': 108, 'দেখি': 109, 'এক্সপ্রেস': 110, 'শুধু': 111, 'সাধু': 112, 'নিজে': 113, 'পর': 114, 'গইজ্জি': 115, 'বেজ্ঞিন': 116, 'নাটকত': 117, 'যায়': 118, 'মারহা': 119, 'বানাই': 120, 'ঐয়ি': 121, 'অলরে': 122, 'জানি': 123, 'গরর': 124, 'গরিবের': 125, 'অ': 126, 'পল': 127, 'ধরি': 128, 'গান': 129, 'চেয়ারা': 130, 'দেখিলি': 131, 'দিয়ন': 132, 'রুলস': 133, 'আউয়ার': 134, 'বেক': 135, 'গরের': 136, 'হেডা': 137, 'থাইকতে': 138, 'ভালোবাসা': 139, 'বোত': 140, 'অংশগ্রহণ': 141, 'গরিত': 142, 'পোষ্ট': 143, 'দোষ': 144, 'চা': 145, 'আশা': 146, 'আপু': 147, 'গরিবেন': 148, 'বাংলা': 149, 'ইবের': 150, 'নস্ট': 151, 'খুব': 152, 'মাল': 153, 'পরিবুদে': 154, 'পুরা': 155, 'দিতাম': 156, 'তুর': 157, 'ছবি': 158, 'টেয়া': 159, 'শুভেচ্ছা': 160, 'আলা': 161, 'পাইলি': 162, 'পারি': 163, 'হাই': 164, 'আরার': 165, 'তিতে': 166, 'হরলা': 167, 'মিনিট': 168, 'আজিয়ে': 169, 'চুইদ্দুম': 170, 'এডে': 171, 'আরেক': 172, 'চনু': 173, 'শেস': 174, 'তোয়ার': 175, 'দিত': 176, 'জন্ম': 177, 'গাইল': 178, 'সমস্যা': 179, 'ভিতর': 180, 'মারে': 181, 'মা': 182, 'ইল্লে': 183, 'কাহিনি': 184, 'হনে': 185, 'হ': 186, 'ধইন্যবাদ': 187, 'তই': 188, 'ছাড়া': 189, 'গইরজি': 190, 'বোকাচোদা': 191, 'বাল': 192, 'এতো': 193, 'শেষ': 194, 'বালের': 195, 'অর': 196, 'বেশ্যা': 197, 'ক্যান': 198, 'ইন': 199, 'হইল্লে': 200, 'ইয়্যিন': 201, 'গল্প': 202, 'কন্টেস্ট': 203, 'কমেন্ট': 204, 'গরিলি': 205, 'সেরা': 206, 'কিওই': 207, 'আইডি': 208, 'লেহি': 209, 'তবে': 210, 'দিয়ি': 211, 'সময়': 212, 'আআলার': 213, 'তয়': 214, 'অক্কল': 215, 'আআলি': 216, 'দিবের': 217, 'যার': 218, 'ইয়েনর': 219, 'তোরা': 220, 'ঈতার': 221, 'মাথা': 222, 'গঁরি': 223, 'অনরে': 224, 'দিবেন': 225, 'তারপর': 226, 'গা': 227, 'এর': 228, 'নাটকের': 229, 'দিইয়ি': 230, 'অলে': 231, 'বাজে': 232, 'এনা': 233, 'ইয়িন': 234, 'বইন': 235, 'আচোদা': 236, 'মারা': 237, 'চেডর': 238, 'প্রিয়': 239, 'দোয়া': 240, 'শুভ': 241, 'এইল্লা': 242, 'পাই': 243, 'হাছে': 244, 'বিয়ে': 245, 'এমপি': 246, 'গেইয়্যি': 247, 'লাথি': 248, 'মারন': 249, 'বুলি': 250, 'উৎসাহ': 251, 'এম্পি': 252, 'দুধুর': 253, 'প্রশ্ন': 254, 'অইত': 255, 'মন': 256, 'আছি': 257, 'হত্তু': 258, 'একটা': 259, 'পর্যন্ত': 260, 'ইতারা': 261, 'ফরিবু': 262, 'উর': 263, \"মা'র\": 264, 'এডমিন': 265, 'সামনে': 266, 'কিওরে': 267, 'পার্সোনালি': 268, 'হইবেন': 269, 'ভুলি': 270, 'চুদা': 271, 'মিক্স': 272, 'এত্তর': 273, 'কাডি': 274, 'দিলেন': 275, 'ঘন্টা': 276, 'গরিবেল্লাই': 277, 'জোতা': 278, 'পেন্ট': 279, 'গরস': 280, 'দিতে': 281, 'কেনে': 282, 'পরি': 283, 'রে': 284, 'ঘরর': 285, 'আবাল': 286, 'র': 287, 'দেহা': 288, 'মারামারি': 289, 'কিল্লা': 290, 'অভাব': 291, 'মাইন্সে': 292, 'দিলি': 293, 'হইতে': 294, 'বিরেনি': 295, 'হজ': 296, 'শুরু': 297, 'ইবেই': 298, 'এইল্লে': 299, 'ধন্যবাদ': 300, 'অয়ে': 301, 'দেশত্তুন': 302, 'খানকির': 303, 'নয়': 304, 'জে': 305, 'মরি': 306, 'আলী': 307, 'বেইশ্যা': 308, 'পোস্টুত': 309, 'গইরতু': 310, 'হিরো': 311, 'আগায়': 312, 'ফেলন': 313, 'উত': 314, 'ঘুম': 315, 'গইজ্জুম': 316, 'আইয়ুন': 317, 'অনারার': 318, 'বেয়াদব': 319, 'সুদানির': 320, 'নিজুর': 321, 'বরো': 322, 'বাঁচি': 323, 'লার': 324, 'অনারা': 325, 'একমাত্র': 326, 'অক্কঁল': 327, 'জেলার': 328, 'চাইলি': 329, 'তাহে': 330, 'হাডি': 331, 'ফ্রেন্ড': 332, 'হেডাত': 333, 'দায়': 334, 'শেষে': 335, 'এক্কাঁন': 336, 'পুয়া': 337, 'হারনে': 338, 'ইয়েন': 339, 'মিল': 340, 'হা': 341, 'ভালো': 342, 'লাগাই': 343, 'উত্তর': 344, 'হইয়ি': 345, 'বানন': 346, 'মার': 347, 'মাদারি': 348, 'বানাইদে': 349, 'মাঝে': 350, 'লেন্ডা': 351, 'যেহেতু': 352, 'বালছাল': 353, 'সমত': 354, 'মার্কা': 355, 'এইসব': 356, 'পোশাক': 357, 'কেউ': 358, 'আরা': 359, 'বাইচ্ছা': 360, 'বেজ্ঞুন': 361, 'আগর': 362, 'গুই': 363, 'আআলা': 364, 'অভিনয়': 365, 'ফুরো': 366, 'বর্ষপূর্তি': 367, 'অভিনন্দন': 368, 'বাইচ্চা': 369, 'জাই': 370, 'বানাইয়ি': 371, 'মাইন্সুর': 372, 'বানাইয়ুন': 373, 'মণি': 374, 'গইরজিদে': 375, 'হাইতু': 376, 'আসলে': 377, 'হারন': 378, 'তোই': 379, 'গরু': 380, 'কিল্লাই': 381, 'দিয়্যি': 382, 'হস': 383, 'আস্তে': 384, 'দেহন': 385, 'ম্যাগি': 386, 'নুডুলস': 387, 'লাগিবু': 388, 'জই': 389, 'ফুসকা': 390, 'প্রতি': 391, 'আলারপোয়ালা': 392, 'আস্তা': 393, 'খারাপ': 394, 'আইও': 395, 'বঅর': 396, 'নোয়া': 397, 'জয়': 398, 'ফরিবু\"': 399, 'ইসলাম': 400, 'জাতীয়': 401, 'বেয়াগ': 402, 'দরকার': 403, 'ভাত': 404, 'কন্টেস্টত': 405, 'যুদি': 406, 'তইলে': 407, 'গরো': 408, 'আআলী': 409, 'জুতা': 410, 'একবার': 411, 'ছোড': 412, 'ওমা': 413, 'ইতারার': 414, 'হইতাম': 415, 'অইলুদে': 416, 'অন': 417, 'জাইগুই': 418, 'হারণ': 419, 'অন্য': 420, 'টিক': 421, 'লেহিবেন': 422, 'লেহিবের': 423, 'দরহারি': 424, 'চিটাইঙ্গেত': 425, 'বর': 426, 'আসল': 427, 'হইবের': 428, 'ভারা': 429, 'সোনা': 430, 'তাহিবেন': 431, 'তাহিলি': 432, 'মান': 433, 'রিকোয়েস্ট': 434, 'তারা': 435, 'অইলু': 436, 'জানা': 437, 'ওনো': 438, 'উচিত': 439, 'হারণে': 440, 'এতেল্লাই': 441, 'গরিলে': 442, 'বাইরে': 443, 'ঝিরে': 444, 'আমি': 445, 'পড়ে': 446, 'আমার': 447, 'করে': 448, 'ঠিগ': 449, 'গজ্জি': 450, 'আরেক্কান': 451, 'খোর': 452, 'ছাড়ি': 453, 'সবসময়': 454, 'লজ্জা': 455, 'বলতে': 456, 'পোয়ার': 457, 'এনে': 458, 'চোদ': 459, 'হইলে': 460, 'হত্ত': 461, 'নষ্ট': 462, 'নাটকর': 463, 'খেলা': 464, 'অইদে': 465, 'হইয়ুম': 466, 'গেই': 467, 'পরিচালকের': 468, 'ফেরত': 469, 'দিয়া': 470, 'বিশ্রি': 471, 'শান্তি': 472, 'সরি': 473, 'হাক্কু': 474, 'ঠান্ডা': 475, 'বরবাদ': 476, 'হারাফ': 477, 'তারার': 478, 'যারা': 479, 'বালচোদা': 480, 'চেড': 481, 'ভাষার': 482, 'পাল্লা': 483, 'হাজ': 484, 'বানায়': 485, 'নঅ': 486, 'বাঁশ': 487, 'পোয়াওল': 488, 'সাম্মে': 489, 'জানাই': 490, 'বব্বু': 491, 'জন্মদিন': 492, 'এক্সপ্রেসর': 493, 'গরির': 494, 'কামনা': 495, \"এক্সপ্রেস'র\": 496, 'উপলক্ষে': 497, 'আপন': 498, 'লতিক': 499, 'অইয়ে': 500, 'শোভা': 501, 'লেদা': 502, 'ফুলি': 503, 'দের': 504, 'মালিক': 505, 'আবালচোদা': 506, 'কিয়া': 507, 'সালাম': 508, 'চিবি': 509, 'দেহি': 510, 'ত্তুন': 511, 'এতাল্লাই': 512, 'হায়': 513, 'রেডি': 514, 'তৈরি': 515, 'লূডর্লস': 516, 'গরুর': 517, 'বিয়ের': 518, 'অয়েল': 519, 'রাঁধিত': 520, 'ই': 521, 'নুডলস': 522, 'নার্ভাস': 523, 'হঅন': 524, 'অইয়্যি': 525, 'এনডিল্লে': 526, 'এল্লে': 527, 'আল্লাহ্': 528, 'খুলি': 529, 'গইরলি': 530, 'মাগিয়ে': 531, 'আত্তে': 532, 'অলদি': 533, 'বাংলাদেশর': 534, 'ডুকাই': 535, 'কুত্তাও': 536, 'তুইত': 537, 'তোরর': 538, 'যেত্তে': 539, 'তেই': 540, 'যাতে': 541, 'খেয়াল': 542, 'আজার': 543, 'মানুস': 544, 'আসসালামু': 545, 'অনেরার': 546, 'ভার্চুয়াল': 547, 'আইসসি': 548, 'গরন\"': 549, 'পোস্টুর': 550, 'এরহম': 551, 'ওদো': 552, 'ইসলামের': 553, 'হইস': 554, 'মুখত': 555, 'ধর্মর': 556, 'অঙ্গে': 557, 'অবস্থাত': 558, 'ইবেরে': 559, 'গরা': 560, 'কুত্তাইও': 561, 'যোগ্য': 562, 'বিজয়ী': 563, 'কন্টেস্টর': 564, 'কথার': 565, 'শা': 566, 'হালি': 567, 'রাস্তার': 568, 'অদ্দা': 569, 'হাইত': 570, 'দেখিলে': 571, 'অল্প': 572, 'আইন্নি': 573, 'ঝি': 574, 'জীবনর': 575, 'তোঁয়ারে': 576, 'ফারে': 577, 'মরতপুয়া': 578, 'হারামজাদা': 579, 'এক্সপ্রেস\"': 580, 'ওজ্ঞ': 581, 'চাটগাঁইয়্যে': 582, 'দে\"': 583, 'যত': 584, 'মুতি': 585, 'গরনর': 586, 'যিয়েন': 587, 'পারিবু': 588, 'দিবেন\"': 589, 'ছবিত': 590, 'মনই': 591, 'ইয়েঁন': 592, 'মুখুর': 593, 'ভাষারে': 594, 'রাহিবের': 595, 'জানাইবের': 596, 'অইবুদে': 597, 'দিতু': 598, 'মেজাজ': 599, 'মেসেজ': 600, 'বিরত': 601, 'অক্কঁলরে': 602, 'ব্যবস্থা': 603, 'পার্সোনাল': 604, 'ভাবনা': 605, 'হানাত': 606, 'জয়েন': 607, 'জার': 608, 'ফেসবুক': 609, 'বালা': 610, 'হইয়ু': 611, 'আগেও': 612, 'এতোদিন': 613, 'আছিলাম': 614, 'ভিতুর': 615, 'চুইদ্দুন': 616, 'পেডত': 617, 'বুঝি': 618, 'অয়': 619, 'গরিবু': 620, 'পুরো': 621, 'আপা': 622, 'সমস্যে': 623, 'আঁয়': 624, 'পারবেন': 625, 'যদিও': 626, 'ভারজিন': 627, 'আছস': 628, 'আত': 629, 'না\"': 630, 'আপনারা': 631, 'সানাইর': 632, 'এইগিন': 633, 'ইসলামে': 634, 'ভেইয়ে': 635, 'রাহিবেন': 636, 'আধা': 637, 'দেশর': 638, 'টেয়ার': 639, 'মাইন্সুরে': 640, 'ডর': 641, 'দেহাই': 642, 'চেক': 643, 'হমপক্ষে': 644, 'লর': 645, 'বাপ': 646, 'চাইদি': 647, 'গুন': 648, 'মায়া': 649, 'পুত': 650, 'তানজিন': 651, 'পিন': 652, 'রিপোর্ট': 653, 'গুরো': 654, 'লাভ': 655, 'এতেল্লেই': 656, 'পুছর': 657, 'হইদি': 658, 'গইরতে': 659, 'ডিলিট': 660, 'গর': 661, 'অইবের': 662, 'সময়': 663, 'হস্ট': 664, 'পরের': 665, 'লাইজ্ঞু': 666, 'গলা': 667, 'বানাইয়িদে': 668, 'আঁত্তে': 669, 'লন': 670, 'শেয়ার': 671, 'বিচ্চিরি': 672, 'মোশারফ': 673, 'বাইঞ্চোদ': 674, 'পোয়ায়': 675, 'নগরি': 676, 'বই': 677, 'জানে': 678, 'গলাই': 679, 'সোনার': 680, 'ড': 681, 'ওবাইদুল': 682, 'কাদের': 683, 'মিক্কে': 684, 'দেশ': 685, 'বাজি': 686, 'যারার': 687, 'বিয়াগ্গুনুরে': 688, 'ধরনর': 689, 'আঁইও': 690, 'পলাই': 691, 'ফেলাইয়ি': 692, 'ভাল': 693, 'তোঁয়ার': 694, 'বেয়াজ্ঞিন': 695, 'গরিবুদে': 696, 'তোয়ায়': 697, 'গু': 698, 'তাড়াতাড়ি': 699, 'ভাব': 700, 'চাইলাম': 701, 'পিডা': 702, 'বাংলার': 703, 'দেখে': 704, 'দঅন': 705, 'সিনেমা': 706, 'অক্কলরে': 707, 'পরিচালকরে': 708, 'পোদদি': 709, 'বাপে': 710, 'পাল': 711, 'এরিম্মা': 712, 'জীবনত': 713, 'অদ্দে': 714, 'ঘরত': 715, 'উইস': 716, 'ঘর': 717, 'চাটগাঁইয়া': 718, 'ডিরেক্টর': 719, 'মাগী': 720, 'ডইল্লে': 721, 'কী': 722, 'ওর': 723, 'হাইয়ুম': 724, 'আজির': 725, 'নাইকা': 726, 'হাইতে': 727, 'আলারপোয়ালাইন': 728, 'তিসা': 729, 'তু': 730, 'মজার': 731, 'রহমাতুল্লাহি': 732, 'বারকাতুহু': 733, 'মাশাআল্লাহ': 734, 'রাহি': 735, 'লাইগ্গুন': 736, 'উপস্থাপন': 737, 'বিয়েক্কিন': 738, 'মতন': 739, 'পিডে': 740, 'বুঝির': 741, 'আলাইকুমুস': 742, 'হাইলি': 743, 'রান্না': 744, 'বার': 745, 'ধন': 746, 'বাইনচোদ': 747, 'বেশ্য': 748, 'চোদার': 749, 'হিজারা': 750, 'দিয়ুন': 751, 'লাইগ্গি': 752, 'ওগ্গো': 753, 'যন': 754, 'প্রথম': 755, 'মুসলিম': 756, 'মরিচ': 757, 'সুখ': 758, 'হতো': 759, 'অইলে': 760, 'তোরারে': 761, 'নায়িকা': 762, 'রাইত': 763, 'হোগার': 764, 'প্রথমে': 765, 'হোন': 766, 'মিক্কেত্তুন': 767, 'ইয়ামি': 768, 'অন্ধ': 769, 'প্রমান': 770, 'লাইভ': 771, 'আঁসির': 772, 'গইজ্জে': 773, 'হইজ্জে': 774, 'পানলার': 775, 'চেস্টা': 776, 'পানির': 777, 'তোরার': 778, 'বেয়াক': 779, 'ইগিন': 780, 'গড়ম': 781, 'বের': 782, 'চালু': 783, 'পাইবু': 784, 'রেসিপি': 785, 'গোসল': 786, 'প্রমাণ': 787, 'দেশত': 788, 'থাহন': 789, 'জীবন': 790, 'হানা': 791, 'আনকমন': 792, 'কেলাদি': 793, 'জানাইয়ুন': 794, 'ইয়ুন': 795, 'তুলি': 796, 'অরজিনাল': 797, 'হাইলাম': 798, 'দিয়্যু': 799, 'দুনিয়ের': 800, 'ইক্কে': 801, 'মোবাইল': 802, 'বাজারের': 803, 'দুরুর': 804, 'কেজি': 805, 'অংগে': 806, 'হানকিরে': 807, 'সানাইরে': 808, 'লোভ': 809, 'অডি': 810, 'পারা': 811, 'নিয়ে': 812, 'অঁনর': 813, 'যাইত': 814, 'কিভাবে': 815, 'বছররে': 816, 'অত': 817, 'এলাহা': 818, 'হাইবেল্লাই': 819, 'বেইশ্য': 820, 'অইতে': 821, 'চুইদ্দু': 822, 'রাথা': 823, 'সিড়ি': 824, 'অঁরি': 825, 'দেয়': 826, 'ফুয়া': 827, 'যাইলি': 828, 'মানুষ্যো': 829, 'জিন্দে': 830, 'ইবেত': 831, 'রোহিঙ্গা': 832, 'ব্যক্তিগত': 833, 'থাকে': 834, 'ভাইয়ুর': 835, 'গেলগুই': 836, 'কম': 837, 'গাছর': 838, 'আগাত': 839, 'আলাইকুম': 840, 'চাটগাঁ': 841, 'তথা': 842, 'সাল': 843, 'উপহার': 844, 'খানকি': 845, 'চোদাচোদির': 846, 'ঘুরি': 847, 'পোন্নান': 848, 'উল্লেখ': 849, 'মরতপোঁয়া': 850, 'অলোর': 851, \"কন্টেস্ট'ত\": 852, 'ডেরাইভার': 853, 'ইতিত': 854, 'লেহিত': 855, \"বুলি'\": 856, 'অওন': 857, 'মই': 858, 'আলমর': 859, 'তাহিবু\"': 860, 'জন': 861, 'বিচারক': 862, 'মাগিওলরে': 863, 'ইউটিউব': 864, 'ঘোড়া': 865, 'চোদন': 866, 'রা': 867, 'ভাইরাল': 868, 'হায়বের': 869, 'ফারিবু': 870, \"না'\": 871, 'আইন্নুচ': 872, 'হাঙ্কিরে': 873, 'দুখু': 874, 'গইত্তাম': 875, 'সেকেন্ডত': 876, 'মইদ্ধে': 877, 'দয়া': 878, 'আইন্নুন': 879, 'এসব': 880, 'আনি': 881, 'এইবার': 882, 'গরিবে': 883, 'ইনশাআল্লাহ': 884, 'পইরযন্ত': 885, 'হাঙ্কি': 886, 'ফরি': 887, 'অইন্য': 888, 'মনর': 889, 'তর': 890, 'অবাক': 891, 'বেয়াজ্ঞুঁনুরে': 892, 'স্বাগতম': 893, 'আলিদে': 894, 'চলে': 895, 'ঐতিহ্য': 896, 'ধর্মীয়': 897, 'বেয়াজ্ঞিঁন': 898, 'ফারিবেন': 899, 'শর্ত': 900, 'হারাই': 901, 'বাংলাদেশত': 902, 'দেখা': 903, 'মুগুত': 904, 'সৃষ্টিকর্তাপালনকর্তার': 905, 'ইবাদতবন্দেগি': 906, 'ফরে\"': 907, 'ইবাদত': 908, 'ফরজ': 909, 'পরহালর': 910, 'সম্বল': 911, 'লেহন': 912, 'রিলেটেড': 913, 'নিচুদি': 914, 'অইলেও': 915, 'লাইন্নে': 916, 'অক্ষর': 917, 'হয়েক': 918, 'লাইন': 919, 'গরিবেন\"': 920, 'ফেলায়': 921, 'অইতুনু\"': 922, 'রক্তর': 923, 'সমঅত': 924, 'ছাড়': 925, \"দিয়ন'ই\": 926, 'গইরতি': 927, 'আঁরারগর্ব': 928, 'অহংকার': 929, 'ঐতিহ্যরে': 930, 'ঠিগই': 931, 'বিশেষ': 932, 'সোশ্যাল': 933, 'হইবু\"\"': 934, 'ফলে': 935, 'বাস্তব': 936, 'জীবনতও': 937, 'লাগি': 938, 'অনলাইনুত': 939, 'ভাষাচর্চা': 940, 'গেইউস': 941, 'হয়দে': 942, 'একজনে': 943, 'এতাইক্কিন': 944, 'সম্ভবও': 945, 'সহযোগিতা': 946, 'গ্রুপুরে': 947, 'নিবেন': 948, 'রাজনৈতিক': 949, 'বিপক্ষে': 950, 'জাতরে': 951, 'সম্মান': 952, 'হেও': 953, 'গরিয়েরে': 954, 'পরিপন্থী\"': 955, 'নাজিম': 956, 'ফ্যামিলি': 957, 'হতাগোষ্টিধর্ম': 958, 'হঅনত্তুঁন': 959, 'লইবু\"': 960, 'গ্রুপুত্তুঁন': 961, 'ফরে': 962, 'টিঁয়াপয়সের': 963, 'লেনদেনঅন্য': 964, 'হতিক্ষতি': 965, 'ভাবে': 966, 'লইতুনু': 967, 'চিন্দে': 968, 'মাইনসে': 969, 'মাইয়াপোয়ারে': 970, 'বেয়াজ্ঞুঁনুর': 971, 'ইতারারেও': 972, 'হিজারারে': 973, 'গ্রুপপেইজ': 974, 'আচে': 975, 'মিডিয়াত': 976, 'গঅইরলি': 977, 'আআলির': 978, 'বমি': 979, 'হততুন': 980, 'ছারি': 981, 'হন্ডে': 982, 'তুয়ার': 983, 'খুলন': 984, 'জোতার': 985, 'চুদন': 986, 'এন্ডে': 987, 'চঅন': 988, 'বদদা': 989, 'ডিলেট': 990, 'কিরে': 991, 'বুজির': 992, 'দেহে': 993, 'ঝির': 994, 'পাল্লাই': 995, 'দেখতে': 996, 'একদম': 997, 'আপনাদের': 998, 'দাঁত': 999, 'তাও': 1000, 'চর্চা': 1001, 'প্রসার': 1002, 'উদ্দেশ্য': 1003, 'আপনি': 1004, 'মোটামুটি': 1005, 'করতে': 1006, 'হবে': 1007, 'কোনো': 1008, 'জানার': 1009, 'আপনার': 1010, 'বেশি\"': 1011, 'মোহনা': 1012, 'কমেন্টত': 1013, 'ডুকি': 1014, 'দির': 1015, 'পাঠাই': 1016, 'সবসময়': 1017, 'হইতু': 1018, 'যায়বু': 1019, 'মাঝখানে': 1020, 'হাতি': 1021, 'কন': 1022, 'অলঅরে': 1023, 'তোয়ারার': 1024, 'কেঁনে': 1025, 'ভাসাই': 1026, 'নস্টা': 1027, 'ইসলামর': 1028, 'গুইরতু': 1029, 'মাত্র': 1030, 'আসতে': 1031, 'তাই': 1032, 'বলি': 1033, 'গিন': 1034, 'বাজারর': 1035, 'ফর': 1036, 'জন্মে': 1037, 'মিয়া': 1038, 'জামা': 1039, 'এবাত': 1040, 'অগ': 1041, 'বুজাই': 1042, 'বয়শশা': 1043, 'পালার': 1044, 'একন': 1045, 'তুদের': 1046, 'জাতর': 1047, 'মাইনসের': 1048, 'এইন': 1049, 'বুজে': 1050, 'এগুন': 1051, 'অভিযোগ': 1052, 'গইজ্জিদি': 1053, 'গইজ্জু': 1054, 'একমত': 1055, 'ভাইফুত': 1056, 'টেরোরিস্ট': 1057, 'হাইবের': 1058, 'সম্ভাবনা': 1059, 'পইরলি': 1060, 'হম': 1061, 'প্রশ্নর': 1062, 'তবুও': 1063, 'ক্যানে': 1064, 'যেগিন': 1065, 'লাইগ্গু': 1066, 'ভালোবাসি': 1067, 'তাহন': 1068, 'অইয়িদে': 1069, 'গইত্তে': 1070, 'রিমুভ': 1071, 'হালিয়ে': 1072, 'পইয্যন্ত': 1073, 'পুস্ট': 1074, 'টাইম': 1075, 'প্লিজ': 1076, 'পইত্তে': 1077, 'টেবাই': 1078, 'লাইজ্ঞি': 1079, 'পইড়তে': 1080, 'পড়তে': 1081, 'গেয়': 1082, 'পত্তে': 1083, 'বলদ': 1084, 'দুধত': 1085, 'আইজকাল': 1086, 'পরর': 1087, 'মোশাররফ': 1088, 'চাইলে': 1089, 'মাস': 1090, 'সম্পর্কে': 1091, 'থাইলি': 1092, 'গুরা': 1093, 'আপলোড': 1094, 'মাইয়ে': 1095, 'গইত্তু': 1096, 'গ্রুপত': 1097, 'বউরে': 1098, 'সেইরহম': 1099, 'স্ক্রিপ্ট': 1100, 'আল্লাই': 1101, 'বুঝে': 1102, 'বউ': 1103, 'খাই': 1104, 'মনি': 1105, 'রকম': 1106, 'জি': 1107, 'তয়': 1108, 'পইওে': 1109, 'হত্তে': 1110, 'অয়ঁ': 1111, 'এতক্ষণ': 1112, 'অনলাইন': 1113, 'এনেঁ': 1114, 'একেক': 1115, 'স্বেচ্ছায়': 1116, 'রক্তদাতা': 1117, 'রক্ত': 1118, 'হামত': 1119, 'হআজ': 1120, 'শক্তি': 1121, 'ভেড়াচোদা': 1122, 'ছলর': 1123, 'হামর': 1124, 'ঠেলাই': 1125, 'ফল': 1126, 'গুয়া': 1127, 'মিলে': 1128, 'পানিত': 1129, '\"চাটগাঁইয়া': 1130, 'অনেরা': 1131, 'বেয়াজ্ঞুনুরে': 1132, 'বানাইইদে': 1133, 'সেইরম': 1134, 'মাগিখোর': 1135, 'হইতো': 1136, 'মজাই': 1137, 'পাইলাম': 1138, 'ওজ্ঞারে': 1139, 'পরেও': 1140, 'নগরে': 1141, 'টাল': 1142, 'পোদত': 1143, 'ইউটিউবুত': 1144, 'ধংস': 1145, 'বানান': 1146, 'বন্ধ': 1147, 'অবস্থা': 1148, 'সান': 1149, 'দশ': 1150, 'কিছুই': 1151, 'বাইনচোদর': 1152, 'গাজাখুরি': 1153, 'এরে': 1154, 'তাহোন': 1155, 'সচেতন': 1156, 'নিরাফদে': 1157, 'নিজুরে': 1158, 'ফেলাইবেন': 1159, 'চিটাং': 1160, 'আমিস্কুন': 1161, 'ভালোবাসার': 1162, 'বাংলাদেশ': 1163, 'যুগ': 1164, 'ফক্কত্তুন': 1165, 'বাংলাদেশের': 1166, 'নিজেও': 1167, 'মাথাত': 1168, 'বানাইউস': 1169, 'পোয়ারে': 1170, 'এত্ত': 1171, 'নাটকরে': 1172, 'মাদারচুদ': 1173, \"বো'ত\": 1174, 'যেন্': 1175, 'থাহে': 1176, 'বওত': 1177, 'সাজিদ': 1178, 'জন্মদিনুর': 1179, 'অরুবাড়িঈদবরোবাড়ি': 1180, 'বেয়াক্কিন': 1181, 'মিলিয়েরে': 1182, 'আঁকারে': 1183, 'মনুত্তুন': 1184, 'গ্রুপগো': 1185, 'ওক': 1186, 'প্রত্যেকটা': 1187, 'মেম্বারোরে': 1188, 'মাতৃভাষা': 1189, 'বেয়াক্কুনে': 1190, 'থাকেদে': 1191, 'নাস্তিক': 1192, 'পরিবার': 1193, 'আসলেই': 1194, 'যায়লি': 1195, 'ওইতাম': 1196, 'ইতর': 1197, 'মাগীর': 1198, 'উততর': 1199, 'দিলে': 1200, 'গুরুপুত': 1201, 'বানাইত': 1202, \"দ'ত\": 1203, 'হানার': 1204, 'কিনা': 1205, 'ডিরেক্টররে': 1206, 'তিশারে': 1207, 'মাদারবোর্ড': 1208, 'অভিনেতা': 1209, 'লুইচ্চা': 1210, 'উরুর': 1211, 'তিশা': 1212, 'মাগা': 1213, 'নি': 1214, 'আড': 1215, 'চোদাই': 1216, 'শুদু': 1217, 'গাজাখোরি': 1218, 'জন্মর': 1219, 'ছোনা': 1220, 'দস': 1221, 'পুরি': 1222, 'আলাইকে': 1223, 'সামনের': 1224, 'রেস্ট': 1225, 'আইসসুম': 1226, 'চাইদ্দি': 1227, 'সত্যি': 1228, 'হইয়ুন': 1229, 'হথার': 1230, 'ইয়া': 1231, 'মিডে': 1232, 'আল্লাহ্\\u200c': 1233, 'মাইপুয়া': 1234, 'হাবাইত': 1235, 'এতারলায়': 1236, 'আগরত্তুন': 1237, 'হালা': 1238, 'ঝড়': 1239, 'দেক্কি': 1240, 'টেলা': 1241, 'বিজি': 1242, 'পারির': 1243, 'তিতা': 1244, 'সারা': 1245, 'দেহাতে': 1246, 'বান্না': 1247, 'চোদাচোদি': 1248, 'চাইর': 1249, 'তিসারে': 1250, 'চাতে': 1251, 'চুদিবেল্লাই': 1252, 'গো': 1253, 'জালাই': 1254, 'আগামাথা': 1255, 'দেনে': 1256, 'মারইন্না': 1257, 'এম্বি': 1258, 'মিলি': 1259, 'আবিষ্কার': 1260, 'আইয়': 1261, 'বোথ': 1262, 'অক': 1263, 'যারে': 1264, 'আল্লাহর': 1265, 'থাকিত': 1266, 'চাইবেন': 1267, 'হইত': 1268, 'দোয়ার': 1269, 'তায়ালা': 1270, 'মুক্ত': 1271, 'স্বাভাবিক': 1272, 'দিয়ক': 1273, 'গরক': 1274, 'সমস্ত': 1275, 'ফিল': 1276, 'পেট': 1277, 'এইয়িন': 1278, 'হালকা': 1279, 'জিবন': 1280, 'ফিরি': 1281, 'উডি': 1282, 'অনোর': 1283, 'কুইজোর': 1284, 'উছিলেই': 1285, 'বিয়াজ্ঞুন': 1286, 'চুলো': 1287, 'ঘরোত': 1288, 'দিয়ুনভালা': 1289, 'তুক্কো': 1290, 'হইবান': 1291, 'নুডুলসর': 1292, 'তরহারি': 1293, 'বববু': 1294, 'ম্যাগী': 1295, 'নূডর্লস': 1296, 'অসম্ভব': 1297, 'ইনগ্রেডিয়ান্স': 1298, 'গোইত্তে': 1299, 'বানাইতে': 1300, 'ধন্টা': 1301, 'ব্যাক্তিগত': 1302, 'রান্নাত্তুন': 1303, 'হোইদ্দি': 1304, 'মিউজিক': 1305, 'হট্টা': 1306, 'গম': 1307, 'বানলি': 1308, 'বেবসা': 1309, 'হাডন': 1310, 'অনগে': 1311, 'নিজেই': 1312, 'পলের': 1313, 'মানি': 1314, 'লাইভত': 1315, 'তারাতাড়ি': 1316, 'কনফিন্ডেস': 1317, 'হইয়ে': 1318, 'পারিবো': 1319, 'মাঝখানদি': 1320, 'কুইজত': 1321, 'চ্যালেঞ্জ': 1322, 'ইতেরা': 1323, 'দুনু': 1324, 'কিয়ুর': 1325, 'আফাচেষ্টা': 1326, 'গইজ্জুনদে': 1327, 'ইগেনই': 1328, 'বেশিএনেও': 1329, 'হনোদিনও': 1330, 'সম্ভব': 1331, 'বুইজ্জি': 1332, 'ঢালি': 1333, 'দিয়ুনদে': 1334, 'মেগী': 1335, 'লুডুনসুত': 1336, 'পিঁয়াজমরিচ': 1337, \"ন'পরে\": 1338, 'সুরবা': 1339, 'স্যুপুরমত': 1340, 'মসল্লার': 1341, 'তেলর': 1342, 'প্যাকেট': 1343, 'বানায়ফেলন': 1344, \"ন'অইলিও\": 1345, 'পাঁচ': 1346, 'অইযাইবু': 1347, 'য্যেল্লেগরি': 1348, 'পি্য়ছর': 1349, 'বাঁসে': 1350, 'যাইতুনু': 1351, 'পিঁয়েজ': 1352, 'কেঁচা': 1353, \"হ'নদিনও\": 1354, 'পাঁইকতুনু': 1355, 'দিও': 1356, 'অয়নে': 1357, 'পাইবের': 1358, 'আপুচেষ্টা': 1359, 'বউতআর': 1360, 'ভালাই': 1361, 'গইজ্জোম': 1362, 'লাইভের': 1363, 'রাঁধি': 1364, 'চায়': 1365, 'গইত্তো': 1366, 'আফাইগিনুরে': 1367, 'রিলেক্সে': 1368, 'ফেল্লে': 1369, 'বইনে': 1370, 'গজ্জন': 1371, 'দেইয়িরে': 1372, 'অয়বু': 1373, 'পান': 1374, 'যারগুই': 1375, 'বউর': 1376, 'পোদদ': 1377, 'হালত': 1378, 'ভুদি': 1379, 'ছাল': 1380, 'পস': 1381, 'পোয়াই': 1382, 'গইরগো': 1383, 'চেহারা': 1384, 'হইলাম': 1385, 'তারপরে': 1386, 'পরিবেশন': 1387, 'লাইভোত': 1388, 'সুরগো': 1389, 'লাইভুত': 1390, 'দ্দা': 1391, 'এনডে': 1392, 'চোখ': 1393, 'জারগ': 1394, 'চুধি': 1395, 'বে': 1396, 'চাইতু': 1397, 'নই': 1398, 'দুনুয়া': 1399, 'হাতত': 1400, 'ফ্রী': 1401, 'পযর্ন্ত': 1402, 'মরত': 1403, 'আলাদা': 1404, 'আয়োজন': 1405, 'দেয়া': 1406, 'উগ্গো': 1407, 'ফিডের': 1408, 'বেয়াকরে': 1409, 'জিরে': 1410, 'চুইদ্দাম': 1411, 'ইয়ুনুরে': 1412, 'তোয়াই': 1413, 'হাবিব': 1414, 'মাহি': 1415, 'মানে': 1416, 'দুধর': 1417, 'ফারি': 1418, 'টেস্ট': 1419, 'আতর': 1420, 'বঅত': 1421, 'অঁনে': 1422, 'ভোট': 1423, 'ফেলার': 1424, 'নাভিলার': 1425, 'দায়িত্ব': 1426, 'বিলেই': 1427, 'মাইফুয়া': 1428, 'বাদ': 1429, 'বাশ': 1430, 'বেশ্যারে': 1431, 'ইতাল্লাই': 1432, 'হত': 1433, 'চুদ্দে': 1434, 'পিডন': 1435, 'হাবি': 1436, 'অংশ': 1437, 'ডুঁই': 1438, 'মামু': 1439, 'হক্সবাজারগ্গে': 1440, 'পরীক্ষে': 1441, 'এহালা': 1442, 'কুরো': 1443, 'গাছ': 1444, 'আশায়': 1445, 'বিয়েগান': 1446, 'ছায়ুমবিয়ে': 1447, 'আনা': 1448, 'নামে': 1449, 'মঅদি': 1450, 'ঝাডা': 1451, 'বিশ': 1452, 'সপ্নত': 1453, 'দেখেদে': 1454, 'দেহক': 1455, 'জাইবো': 1456, 'হইদে': 1457, 'নাম্বার': 1458, 'পাইরলি': 1459, 'চুদ্দুম': 1460, 'ঠিকানা': 1461, 'চোগুর': 1462, 'ফাল': 1463, 'চার': 1464, 'মর': 1465, 'তলা': 1466, 'বিদায়': 1467, 'বাজাই': 1468, 'ঘরে': 1469, 'হবর': 1470, 'বাচ্ছা': 1471, 'জদি': 1472, 'জাইবুগুই': 1473, 'মাগই': 1474, 'মুসল্মান': 1475, 'দালাল': 1476, 'একটিভ': 1477, 'উদ্দো': 1478, 'কিল্লেই': 1479, 'হষ্টর': 1480, 'হাইট্টি': 1481, 'তুত্তে': 1482, 'খুরো': 1483, 'বাড়ির': 1484, 'উলটো': 1485, 'আরও': 1486, 'ঝড়ি': 1487, 'পাঠন': 1488, 'সাথে': 1489, 'এহেন': 1490, 'মাইর': 1491, 'গুরি': 1492, 'গঁরে': 1493, 'কি\"': 1494, 'জিয়্যিন': 1495, 'গুনগান': 1496, 'আইচ্ছে': 1497, 'দূর': 1498, 'বাংলাদেশত্তুন': 1499, 'দরদ': 1500, 'বায়': 1501, 'চেইঞ্জ': 1502, 'দিইল': 1503, 'জাতির': 1504, 'যাইলে': 1505, 'যাইতাম': 1506, 'গ্রুপোর': 1507, 'বুড়ি': 1508, 'গালি': 1509, 'আজ': 1510, 'আইয়্যি': 1511, 'প্রেম': 1512, 'ধরন্যে': 1513, 'বউয়েরে': 1514, 'চন্দনাইশ': 1515, 'গরত': 1516, 'হাচারা': 1517, 'পাঁরি': 1518, 'তাকে': 1519, 'নোবেল': 1520, 'ঋন': 1521, 'বাংলাদেশেত': 1522, 'ঢুকিলী': 1523, 'উরুস্তুল': 1524, 'দেশসেরা': 1525, 'জোয়ান': 1526, 'এমপির': 1527, 'নিরাপত্তা': 1528, 'ইঁন্দিও': 1529, 'রাখন': 1530, 'রোহিঙ্গাওক্কলড়ে': 1531, 'দেষত্তূণ': 1532, 'বাইড়': 1533, 'গোড়ী': 1534, 'দিলী': 1535, 'অইতূ': 1536, 'মাশরাফি': 1537, 'বাচি': 1538, 'থাকাক': 1539, 'মাইনষউর': 1540, 'কালাইয়া': 1541, 'খাঙ্কির': 1542, 'পালিদি': 1543, 'জাফর': 1544, 'বালঅরে': 1545, 'কল': 1546, 'দিয়ুস': 1547, 'মননান': 1548, 'কিবরিয়া': 1549, 'ভাইইয়ুর': 1550, 'আঁসি': 1551, 'ভওত': 1552, 'আঁইসসি': 1553, 'ইঁতারারে': 1554, 'আরাজিবন': 1555, 'খুসি': 1556, 'রাখক': 1557, 'গন্ধ': 1558, 'লইবারলাই': 1559, 'মালাউন': 1560, 'পোঁয়াঅল': 1561, 'দুঁরেদে': 1562, 'বেচারা': 1563, 'মাত': 1564, 'পোঁন': 1565, 'তুইলি': 1566, 'রাইক্কুম': 1567, \"'চাটগাঁইয়াবাসী'\": 1568, \"'নোয়া\": 1569, 'বছরোর': 1570, \"কন্টেস্ট'\": 1571, 'আরাইয়ুকি': 1572, 'ফাইয়ু': 1573, \"সাল'\": 1574, 'আঁরারে': 1575, 'বিস্তারিত': 1576, \"'লেহি'\": 1577, 'উনিবেল্লাই': 1578, 'চেনেল্লও': 1579, 'আইয়ু': 1580, \"ক্যাপশন'ত\": 1581, 'হ্যাশট্যাগ': 1582, 'নিউ': 1583, 'ইয়ার': 1584, 'লায়\"': 1585, 'প্যানেল': 1586, 'সয়': 1587, 'ফইত্যেক': 1588, 'ফরানমরতপোঁয়া': 1589, 'ফারিবু\"': 1590, 'রেন্ডি': 1591, 'মুখে': 1592, 'লুইলি': 1593, 'ভন্নাম': 1594, 'কিউর': 1595, 'অনুস্ঠানত': 1596, 'আনিলি': 1597, 'চলন': 1598, 'প্রতিযোগীর': 1599, \"'আজিয়ে\": 1600, 'সঅ': 1601, 'অনুৎসাহী': 1602, 'অগ্রহণযোইগ্য': 1603, 'বিবেচনা': 1604, 'প্রতিযোগীরে': 1605, 'হনোরহম': 1606, 'রিশেল্লে': 1607, 'মার্হা': 1608, 'সাসপেন্ড': 1609, \"কন্টেস্ট'র\": 1610, 'আড্ডা': 1611, 'চর': 1612, 'অইবারও': 1613, 'অইতি': 1614, 'চদ্দে': 1615, 'আলির': 1616, 'লেহাত': 1617, 'হাঁটি': 1618, 'বেবার': 1619, 'গরইন্নে': 1620, 'এদ্দে': 1621, 'ক্রিয়েটিভ': 1622, 'লেহইন্নে': 1623, 'নির্বাচনোত': 1624, \"বেয়াগ'র\": 1625, 'মইধ্যিত্তুঁন': 1626, 'নির্বাচিত': 1627, 'লম্বরে': 1628, 'সারপ্রাইজ': 1629, 'আছেই\"': 1630, \"'যোগবাতিল'চেইঞ্জ\": 1631, 'আনিবের': 1632, 'হমতা': 1633, 'স্পন্সর': 1634, 'উপদেষ্টা': 1635, 'মন্ডলির': 1636, \"মতামত'র\": 1637, 'উদ্দি': 1638, 'অর্থ': 1639, 'বুযস': 1640, 'শথানর': 1641, 'পাথথর': 1642, 'ফুতি': 1643, 'জাতে': 1644, 'অইবুনে': 1645, 'হনোমিক্কে': 1646, 'ভিডিওর': 1647, 'হওয়া': 1648, \"অদ্দা'\": 1649, 'ব্যবসারলাই': 1650, 'কুত্তাঅলরে': 1651, 'দিয়্রে': 1652, 'আউয়ারে': 1653, 'মিডিয়ায়': 1654, 'শাহরিয়ার': 1655, 'ছাইরযুন': 1656, 'পুচার': 1657, 'গরিলেও': 1658, 'দোষনে': 1659, 'অযৌক্তিক': 1660, \"কি'\": 1661, 'ফুছর': 1662, 'লইবু': 1663, 'লারি': 1664, 'চাইযি': 1665, 'বদ্দাশীতহাল': 1666, 'নহয়ু': 1667, 'সমস্যেত': 1668, 'আছেএহন': 1669, 'ইবেত্তোন': 1670, 'চলাইরদি': 1671, 'চুদে': 1672, 'ইবারে': 1673, 'তিয়াইয়া': 1674, 'বয়': 1675, 'যাইগুই': 1676, 'টেঁইয়ার': 1677, 'মাগীঅলরে': 1678, 'বস্তির': 1679, 'মাইয়াপোয়াওলরে': 1680, 'দেহনের': 1681, 'চলিব': 1682, 'তোয়াল্লা': 1683, 'অগ্রিম': 1684, 'শুভকামনা': 1685, 'রইল': 1686, 'গইর্ত্তাম': 1687, 'তুঁয়ারা': 1688, 'ট্রাই': 1689, 'গইলে': 1690, 'চইলতু': 1691, 'ভড়': 1692, 'দুধওয়ালিরে': 1693, 'দেহাইবাল্লার': 1694, 'বেশ্যামাগিরে': 1695, 'পিট': 1696, 'ট্রফি': 1697, 'লইবের': 1698, 'বিষয়গান': 1699, 'ক্লিয়া': 1700, 'তছলিমা': 1701, 'নাছরিন': 1702, 'আআলিরে': 1703, 'চামিচ': 1704, 'চুনা': 1705, 'খাওঅন': 1706, 'চুতিয়া': 1707, 'পাইলান': 1708, 'চ': 1709, 'হারাইয়ু': 1710, 'একান্ত': 1711, '্যে': 1712, 'লোই': 1713, 'মাধুরী': 1714, 'লেহিবে': 1715, 'সুজা': 1716, 'উনো': 1717, 'গোইজ্জু': 1718, 'এহনো': 1719, 'পাইবে': 1720, 'সুতরাং': 1721, 'তোঁয়ারাল্লাই': 1722, 'যিবে': 1723, 'উপস্হাপন': 1724, 'তোরেতো': 1725, 'পালেও': 1726, 'বিইয়া': 1727, 'গইরতুনু': 1728, 'হট্টারে': 1729, 'পন': 1730, 'মেপুয়া': 1731, 'ওললোরে': 1732, 'কঠিন': 1733, 'ওলোরে': 1734, 'লিস': 1735, 'অধিকার': 1736, 'হারি': 1737, 'ফেল্লি': 1738, 'ধনর': 1739, 'পোয়ালারে': 1740, 'গরিবুধে': 1741, 'অক্কলে': 1742, 'ভাবতে': 1743, 'ওজ্ঞো': 1744, 'হন্দে': 1745, 'সম্মানিত': 1746, 'মন্ডলি': 1747, 'জানাইর\"\"': 1748, 'বেয়াজ্ঞুঁনুত্তুন': 1749, 'যিবেত': 1750, 'আগাত্তুনগোড়া': 1751, 'ফইয্যন্ত': 1752, 'চিটাংঅঁর': 1753, 'লাল': 1754, 'লিপ্সটিক': 1755, 'হারাম': 1756, 'জাদার': 1757, 'ধরমর': 1758, 'মানায়': 1759, 'বেইশ্যার': 1760, 'যাচ্ছে': 1761, 'হাবিবা': 1762, 'লেইখতু': 1763, 'সমমান': 1764, 'তোরমত': 1765, 'খাংকিরে': 1766, 'আলমোও': 1767, 'চুইদ্দুনও': 1768, 'টকশো': 1769, 'চোদরদে': 1770, 'মারিইত': 1771, 'হোনো': 1772, 'হমফক্ষে': 1773, 'ছবিদি': 1774, 'সাধুঅন্য': 1775, 'ক্রপসাইজ': 1776, 'অইবু\"': 1777, 'সরকার': 1778, 'চুইদতাত': 1779, 'দেশ্ততুন': 1780, 'গরিদিতাম': 1781, 'ধর্মও': 1782, 'বিশ্বাস': 1783, 'নগর': 1784, 'বেইসশাআর': 1785, 'পোয়াও': 1786, 'গইরতুন': 1787, 'মাইনশ্যুরে': 1788, 'ছড়াই': 1789, 'লইক্ষ্য': 1790, \"সাইডু'ত\": 1791, 'ফাইবু\"': 1792, 'অনারারে': 1793, 'যাত্রা': 1794, 'পোয়াদেই': 1795, 'আনাত': 1796, 'চাগুই': 1797, 'ভবিস্যত': 1798, 'খানাত': 1799, 'নিচর': 1800, 'থালা': 1801, 'লইত': 1802, 'ইঞ্ছি': 1803, 'অক্কঁলর': 1804, 'মতামত': 1805, 'দিবেন\"\"\"': 1806, 'পারিবেন\"': 1807, 'মাইয়াপোয়াওলর': 1808, 'আসন': 1809, 'পোনর': 1810, 'কানাও': 1811, 'তোরত': 1812, 'সেক্সুয়ালহ্যারেসম্যান্ট': 1813, 'গালাগালি': 1814, 'নঅ\"': 1815, 'অতএব': 1816, 'বেইসশার': 1817, 'হাস্টমার': 1818, 'ইসলামত': 1819, 'পর্দা': 1820, 'পরন': 1821, 'গরচ': 1822, 'মাগিবাজি': 1823, 'গায়ল': 1824, 'লুও': 1825, 'হদু': 1826, 'ইনরে': 1827, 'সমইসশা': 1828, 'প্রয়োজনে': 1829, \"ডেরাইভার'র\": 1830, 'লয়': 1831, 'স্লোগান': 1832, 'হওন': 1833, \"ভার্চুয়াল'ত\": 1834, 'লেহন\"': 1835, 'অক্কঁলরেও': 1836, 'যক': 1837, 'সংসদত': 1838, 'গোঢেন': 1839, 'থোরা': 1840, 'মুথি': 1841, 'অফিসিয়াল': 1842, 'উঁত': 1843, 'এককানকিচু': 1844, 'মেইয়ে': 1845, 'ইগলিসুত': 1846, 'লেখাইয়িন': 1847, 'চলতু': 1848, 'গ্রপুত': 1849, 'জারগো': 1850, 'গইরজুম': 1851, 'আনে': 1852, 'আইসসসুন': 1853, 'ঈতিত': 1854, 'রাইতুর': 1855, 'নিছদি': 1856, 'ডুকন': 1857, 'লাইগতুনো': 1858, 'ঘসাঘসি': 1859, 'আছিলু': 1860, 'সমইস্যে': 1861, 'আগরগিন': 1862, 'ভুজিগেইয়্যি': 1863, 'অইয়ু': 1864, 'ঝামিলেত': 1865, 'পেরাশানি': 1866, 'অইবাল্লাই': 1867, 'গইরজজ্জিদি': 1868, 'রাখিলি': 1869, 'পোলাপাইন': 1870, 'আরতুন': 1871, 'হত্তুঁন': 1872, 'তোঁয়ারারে': 1873, 'যাইয়্যুম': 1874, 'এতালাই': 1875, 'হইজজি': 1876, 'অউন': 1877, 'ধইজজি': 1878, 'হতি': 1879, 'পেলাইযার': 1880, 'অনত্তুন': 1881, 'উজ্ঞ': 1882, 'পইরগি': 1883, 'কোটি': 1884, 'বারি': 1885, 'ঘোরা': 1886, 'সাইজত': 1887, 'লউউর': 1888, 'পইত্তু': 1889, 'অবহেলা': 1890, 'ঝামেলার': 1891, 'পারিদি\"': 1892, 'কিওর': 1893, 'তোঁয়ার': 1894, 'পুরোন': 1895, 'তোয়ারাত্তুন': 1896, 'দেহিরে': 1897, 'শিখিবু': 1898, 'শতানর': 1899, 'ঘুয়ামারা': 1900, 'বেইসশা': 1901, 'অইয়ুচ': 1902, 'এবার': 1903, 'হাবিবুরেও': 1904, 'গইজ্যিনা': 1905, 'ওওও': 1906, 'মেইন': 1907, 'কিল্ল্যে': 1908, 'এডমিনুরে': 1909, 'এগিল': 1910, 'গরিদে': 1911, 'রুলসুর': 1912, 'আ': 1913, 'সেন': 1914, 'অরকিচু': 1915, 'শপ্পনত': 1916, 'চোদে': 1917, 'শিফাত': 1918, 'কাকুর': 1919, 'পাঠা': 1920, 'দউধ': 1921, 'বেবশা': 1922, 'দুধের': 1923, 'রাজা': 1924, 'ভাইয়া': 1925, 'ময়মনসিংহের': 1926, 'খুলে': 1927, 'গেছে': 1928, 'বুঝিতে': 1929, 'পারিলামনা': 1930, 'শুনিতে': 1931, 'শিখিতে': 1932, 'আমাদের': 1933, 'শিখতে': 1934, 'চাইলেপুরোপুরি': 1935, 'পারলেও': 1936, 'আয়ত্ব': 1937, 'আপনাকেও': 1938, 'রুলসের': 1939, 'যেতে': 1940, 'থাকলে': 1941, 'উপড়ে': 1942, 'দিয়ন\"': 1943, 'উনতে': 1944, 'দুধে': 1945, 'হেডাই': 1946, 'ম্রিচ': 1947, 'ইনটেইক': 1948, 'এখন': 1949, 'গরলাম': 1950, 'বিস্কুট': 1951, 'দেও': 1952, 'খাইয়া': 1953, 'মরে': 1954, 'নয়তো': 1955, 'চাঁটগাইয়া': 1956, 'বুঝনের': 1957, 'সামার্থ': 1958, 'দাও': 1959, 'হইমন': 1960, 'গঁরের': 1961, 'গইজ্জুন\"': 1962, 'আপনাকে': 1963, 'বলিনি': 1964, 'কমেন্টে': 1965, 'ডুকে': 1966, 'করতেছে': 1967, 'দিচ্ছি\"': 1968, 'করিয়েন': 1969, 'করুন': 1970, 'বুঝিনা': 1971, 'এটাই': 1972, 'দৌলদিয়ায়': 1973, 'তস্লিমা': 1974, 'নাসরিনিত্তুন': 1975, 'ইচ্ছামতো': 1976, 'মাগিইয়ে': 1977, 'ইন্টেইক': 1978, 'ফার্মগেইডুর': 1979, 'মাগীঅলর': 1980, 'লারদে': 1981, 'জানিবের': 1982, 'গঁরিবেন': 1983, 'আমিস্কুন\"আপনাকে': 1984, 'বলছি': 1985, 'জন্য': 1986, 'গ্রুপে': 1987, 'করবেন': 1988, 'হুম': 1989, 'পোষ্টাই': 1990, 'আমাকে': 1991, 'পাবনা': 1992, 'যাওয়ার': 1993, 'আজিয়া': 1994, 'একান': 1995, 'জবাব': 1996, 'পাডাইও': 1997, 'নাখ': 1998, 'মিখুর': 1999, 'মিক্কা': 2000, 'চআইলি': 2001, 'ওদ্দা': 2002, 'চুস্তে': 2003, 'দেশআনর': 2004, 'খানিকঅলরে': 2005, 'মাতামাতি': 2006, 'ধুদ': 2007, 'মিডিয়ারে': 2008, 'এপ্রোব': 2009, 'গরতে': 2010, 'এতক্কন': 2011, 'লাগিলে': 2012, 'মেমবার': 2013, 'কমি': 2014, 'আন্টি': 2015, 'পোষ্টুর': 2016, 'গরিবেল্লায়': 2017, 'ব্যবধান': 2018, 'ঘন্টায়': 2019, 'অরতুন': 2020, 'একট': 2021, 'আস্ত': 2022, 'ডুকিবুগুই': 2023, 'হনর': 2024, 'লফর': 2025, 'চরিত্রহীন': 2026, 'পইত্তেকগু': 2027, 'শিখন\"': 2028, 'অয়লে': 2029, 'কই': 2030, 'যেইয়ুমগু': 2031, 'সাম্লাইবেরলাই': 2032, 'কালা': 2033, 'নিগ্রো': 2034, 'লাগিবুদে': 2035, 'আলিয়েকি': 2036, 'মিছা': 2037, 'য়ান': 2038, 'গরগি': 2039, 'নুয়ান': 2040, 'তোয়ারাল্লাই': 2041, 'গইরগুম': 2042, 'জারে': 2043, 'ছোডখাডো': 2044, 'বাপর': 2045, 'বুজস': 2046, 'গড়া': 2047, 'পলা': 2048, 'কুত্তাই': 2049, 'হরাইদে': 2050, 'দেখিলিত': 2051, 'ঘিন': 2052, 'নেজোরে': 2053, 'ছোদাছুদির': 2054, 'তয়লে': 2055, 'তোয়ার': 2056, 'শিখুম': 2057, 'এলা': 2058, 'অন্যজনে': 2059, 'এপ্রোভ': 2060, 'অলিদি': 2061, 'আআলিয়ে': 2062, 'গেইই': 2063, 'দৌলদীয়ার': 2064, 'শর্দার': 2065, 'মাগিপারার': 2066, 'বেইসশায়া': 2067, 'নেত্রি': 2068, 'অনঁর': 2069, 'অাছে': 2070, 'অাবার': 2071, 'গরঁন': 2072, 'নইলি': 2073, 'লটকি': 2074, 'তাইবু': 2075, 'হেদিয়েত': 2076, 'দক': 2077, 'পথে': 2078, 'দুদু': 2079, 'ইবান': 2080, 'শালারা': 2081, 'গ': 2082, 'রি': 2083, 'বাইছহা': 2084, 'এবান': 2085, 'দরনর': 2086, 'থা': 2087, 'অইথা': 2088, 'পুউয়ার': 2089, 'ডি': 2090, 'বেয়াদপ': 2091, 'মাইপা': 2092, 'আওএর': 2093, 'হওগো': 2094, 'পুন্দা': 2095, 'পুয়াএর': 2096, 'অস্থা': 2097, 'প্রেমের': 2098, 'ওগগা': 2099, 'ফারুক': 2100, 'রুমি': 2101, 'ফাহমি': 2102, 'রনি': 2103, 'রুমেল': 2104, 'এরা': 2105, 'আওয়া': 2106, 'আলারা': 2107, 'বাইনছদ': 2108, 'হআইদাই': 2109, 'কাহজ': 2110, 'পএল': 2111, 'চলাফেরা': 2112, 'গরথ': 2113, 'ইথারার': 2114, 'পেনট': 2115, 'হাইছত': 2116, 'পুয়াঅলে': 2117, 'হালার': 2118, 'হালাই': 2119, 'অপিসের': 2120, 'নিয়ম': 2121, 'পালতু': 2122, 'অফিস': 2123, 'অথ': 2124, 'গরানি': 2125, 'ভাইর': 2126, 'লারনির': 2127, 'ডক': 2128, 'দেইলে': 2129, 'পুন্মারি': 2130, 'দিইয়ে': 2131, 'চোদরা': 2132, 'হতাকগিন': 2133, 'মাঝকান': 2134, 'থিশার': 2135, 'পাচা': 2136, 'কাইএ': 2137, 'একানা': 2138, 'শুকাই': 2139, 'গেইওই': 2140, 'চলের': 2141, 'পুনমারি': 2142, 'কুন': 2143, 'চুদ': 2144, 'পিচদি': 2145, 'লাগান': 2146, 'বুকা': 2147, 'চোদাদের': 2148, 'গেলাম': 2149, 'ইতিরে': 2150, 'হইএ': 2151, 'রম': 2152, 'পইরতু': 2153, 'মালর': 2154, 'খাডিবু': 2155, 'অভিযোগর': 2156, 'ইয়েনও': 2157, 'অয়দে': 2158, 'তোয়ারার': 2159, 'হথাত': 2160, 'জ্বি': 2161, 'চাচাকি': 2162, 'পেলন': 2163, 'এবেলা': 2164, 'ফেসবুকুত্তুন': 2165, 'গরিদি': 2166, 'অস্ত্র': 2167, 'ফুন্ডা': 2168, 'পোয়া': 2169, 'ছুরি': 2170, 'বিয়াগ্গিন': 2171, 'হার': 2172, 'ইবেও': 2173, 'স্টাইল': 2174, 'উরে': 2175, 'রিস্ক': 2176, 'জবাবদিহি': 2177, 'গঁরন': 2178, 'বুঝুর': 2179, \"পোঁয়া'রেও\": 2180, 'বুঝগিয়ান': 2181, 'ইক্কিনি': 2182, 'গরগিদিবুঝিলি': 2183, 'অনরারে': 2184, 'ঝুলাইতাম': 2185, 'পেইজুত': 2186, 'হউক': 2187, 'আমিস্কুন\"': 2188, 'হচু': 2189, 'তশ্ন': 2190, 'আইয়্যির': 2191, 'তগ্গুইএড': 2192, 'বউত্': 2193, 'বাবু': 2194, 'ভাষাচলিত': 2195, 'তাহিলে': 2196, 'এগিনুত': 2197, 'চিটাংগে': 2198, 'অইয়েরে': 2199, \"ভাষা'রে\": 2200, 'অপমান': 2201, 'গঁরন\"': 2202, 'পরিবু\"': 2203, 'পড়ন': 2204, 'আইচ্চে': 2205, 'তারাছে': 2206, 'বিয়াকগিন': 2207, 'এড়ে': 2208, 'যইন': 2209, 'ভঙ্গ': 2210, 'একজনুরে': 2211, 'ইনবক্স': 2212, 'নক': 2213, 'কনফার্ম': 2214, 'নয়লে': 2215, 'গ্রুপুত্তুন': 2216, 'গেয়ি': 2217, 'এদ্দুর': 2218, 'নাম্বা': 2219, 'ওইত্তে': 2220, 'গলার': 2221, 'হুয়ই': 2222, 'গই': 2223, 'ঘাম': 2224, 'উম্মে': 2225, 'নুঝহাত': 2226, 'পাইতে': 2227, 'হতার': 2228, 'বইত্তে': 2229, 'হয়ুম': 2230, 'বিয়াজ্ঞিন': 2231, 'শুকোই': 2232, 'গেইয়ি': 2233, 'মিনারেল': 2234, 'ওয়াটার': 2235, 'আনো': 2236, 'অরাণ': 2237, 'বেহুশ': 2238, 'গেইমানি': 2239, 'গুম': 2240, 'গ্রুপউর': 2241, 'মডারেটর': 2242, 'গরঁনর': 2243, 'ঘণ্টা': 2244, 'অারেক্কান': 2245, 'ঘণ্টার': 2246, 'অাগে': 2247, 'গইল্লি': 2248, 'অভাজি': 2249, 'অারত্তুন': 2250, 'এটাল': 2251, 'পইজ্জিদি': 2252, 'অাপা': 2253, 'দিবাননে': 2254, 'বউয়ুর': 2255, 'উনিবেল্লআই': 2256, 'খঅচ': 2257, 'গইরজিদি': 2258, 'এম্বির': 2259, 'বানাইচদে': 2260, 'বলদর': 2261, 'বানাছোনা': 2262, 'বালছিরা': 2263, 'মারকা': 2264, 'গার্লফ্রেন্ডের': 2265, 'ইবাও': 2266, 'হমেন্ট': 2267, 'শামিম': 2268, 'জন্মের': 2269, 'কাম': 2270, 'অবসর': 2271, 'ফেলাছোনা': 2272, 'ইদদ': 2273, 'করিমের': 2274, '\"সেইরকম': 2275, 'বোকাচোদা\"': 2276, 'বারবার': 2277, 'বিরক্ত': 2278, 'পরবর্তীতে': 2279, 'মানন': 2280, 'রিকুয়েষ্ট': 2281, 'পাটাইবের': 2282, 'রমজান': 2283, 'মাইয়ের': 2284, 'আইস্সুন': 2285, 'বদ্দাগ্রুপুর': 2286, 'জানিবেরলেই': 2287, 'লন…': 2288, 'বৈত': 2289, 'এত্তেঁ': 2290, 'বিয়াগিন': 2291, 'চাইচাই': 2292, 'আগাত্তুন': 2293, 'পইয্যুন্ত': 2294, 'পরিলনঅনে': 2295, 'সেহেতু': 2296, 'রলস': 2297, 'নজাননসোজানি': 2298, 'বিয়াগ্গিন': 2299, 'পেইজর': 2300, 'দেওন': 2301, 'জাইবুনা': 2302, 'বেফারে': 2303, 'পোস্টুত\"': 2304, 'ডাইরেক্ট': 2305, 'আচিল': 2306, 'দেনাকি': 2307, 'সুদুইচ্ছে': 2308, 'দহনদিন': 2309, 'তুয়ারার': 2310, 'মাদারী': 2311, 'বাংলাভিশন': 2312, 'করিম': 2313, 'দেখিলেই': 2314, 'আরতো': 2315, 'চুইদতু': 2316, 'আউয়া': 2317, 'ভাইয়ের': 2318, 'দোস': 2319, 'কমেডি': 2320, 'গরছুনা': 2321, 'হোগামারা': 2322, 'থাকিবি': 2323, 'বানায়উস': 2324, 'চুদনাগিরি': 2325, 'গরিবিদি': 2326, 'গুধ': 2327, 'গুধখওরে': 2328, 'পাইউছ': 2329, 'দিয়দে': 2330, 'লাগাইতু': 2331, 'বোকাচোদাঅলে': 2332, 'জাপানি': 2333, 'ক্যাপসুল': 2334, 'লেহেদে': 2335, 'পরআই': 2336, 'কুত্তামারা': 2337, 'বিনোদন': 2338, 'বানাইএ': 2339, 'ঈদ': 2340, 'বকচোদা': 2341, 'বদা': 2342, 'দিওম': 2343, 'তুরে': 2344, 'পাস': 2345, 'চোদানির': 2346, 'বি': 2347, 'কাইম': 2348, 'ভিতরে': 2349, 'হাত': 2350, 'দিউম': 2351, 'ভ': 2352, 'বিচ্ছিরি': 2353, 'পোঁয়া': 2354, 'মাইয়ে': 2355, 'পোঁয়ামাইয়ে': 2356, 'বিচ্চি': 2357, 'রিইয়েন': 2358, 'হএডে': 2359, 'চাইএতেরতুন': 2360, 'অইআর': 2361, 'জানামতে': 2362, 'এলাকার': 2363, 'কিয়েই': 2364, 'গ্লাস': 2365, 'লেবুর': 2366, 'শরবত': 2367, 'আননগ্রুপুর': 2368, 'হরান': 2369, 'গেইইয়া': 2370, 'ফুয়ই': 2371, 'রিপ্লাইত': 2372, 'গুরুত্বপূর্ণ': 2373, 'তথ্য': 2374, 'দিবেরল্লাই': 2375, 'দেআর': 2376, 'এক্কেনা': 2377, 'লাগর': 2378, 'পোয়াছা': 2379, 'টার': 2380, 'ঘুমুরতুন': 2381, 'ওডে': 2382, 'পোয়া': 2383, 'ছা': 2384, 'তুয়ারারঁ': 2385, 'মন্ত্রী': 2386, 'জনর': 2387, 'ধারনা': 2388, 'বাইগ্গুনে': 2389, 'দুইবার': 2390, 'দুনোবার': 2391, 'ইয়েনত': 2392, 'য়ইলদিগুরুপুত': 2393, 'গইরলিএগিন': 2394, 'জারমানিয়ান': 2395, 'এপ্রুব': 2396, 'চট্রগ্রামের': 2397, 'বিরাজ': 2398, 'মানবতা': 2399, 'অন্যতম': 2400, 'রক্তদান': 2401, 'দিবসত': 2402, 'তোয়াইদে': 2403, 'সাইয্যু': 2404, 'জানাইর': 2405, 'রক্তিম': 2406, 'তারিনর': 2407, 'এইইন': 2408, 'এব্বেররে': 2409, 'মেহ': 2410, 'গাবিন': 2411, 'অজ্ঞা': 2412, 'পাডিরে': 2413, 'প্রইত্তক্ক': 2414, 'নাতক্ত': 2415, 'ধুরআর': 2416, 'চাইতামি': 2417, 'পুরাগানি': 2418, 'সমওরপোন': 2419, 'মোশারইফফার': 2420, 'দারায়': 2421, 'সম্বব': 2422, 'পলছোদা': 2423, 'ইদানিং': 2424, 'আরতু': 2425, 'থাইয়লি': 2426, 'বানাইতাম': 2427, 'চোদনা': 2428, 'বালতু': 2429, 'অইইদে': 2430, 'ভউত': 2431, 'সমই': 2432, 'নইয়': 2433, 'আব্দুল্লাহরে': 2434, 'বেগুনে': 2435, 'অইর': 2436, 'ডুবাইলি': 2437, 'যাইতুই': 2438, 'ফালতো': 2439, 'জাইতু': 2440, 'ক্যাপশনর': 2441, 'উপযুক্ত': 2442, 'এপ্রুভুর': 2443, \"ছবি'র\": 2444, 'অয়তো\"': 2445, 'সম্পর্কিত': 2446, 'অনুযায়ী': 2447, 'দিজি': 2448, 'গ্রুপওঁত': 2449, 'জানাই\"\"': 2450, 'বেয়াজ্ঞুনুত্তুন': 2451, 'জিবেত': 2452, 'হতাচিটাংঅঁর': 2453, 'ঐতিহ্যমসকারিপুন্দাইবাঁশ': 2454, 'মিস্টির': 2455, 'দোয়ানত': 2456, 'মিস্টি': 2457, 'মোশারফ্যা': 2458, 'যিয়ান': 2459, 'ইয়ান্তই': 2460, 'জারা': 2461, 'ইতারাও': 2462, 'ঈদুদ': 2463, 'হচ্চির': 2464, 'কাচ্চি': 2465, 'বারত': 2466, 'গরজু': 2467, 'গুয়ের': 2468, 'আলিওলে': 2469, 'বেলঅস': 2470, 'পাল্টাই': 2471, 'ক্যামেরাম্যান': 2472, 'দেখাযর': 2473, 'সিনওত': 2474, 'পরিমান': 2475, 'ক্যামেরা': 2476, 'ঘোড়ায়দে': 2477, 'মাইনুষর': 2478, 'সিননিন': 2479, 'ইয়েরে': 2480, 'করিমুর': 2481, 'বোকা': 2482, 'ক্যামেরাম্যানরে': 2483, 'আললা': 2484, 'পঅল': 2485, 'ভাড়া': 2486, 'গইরযুস': 2487, 'ততার': 2488, 'ছিরি': 2489, 'বাধইন্না': 2490, 'অভিনেতারে': 2491, 'কনডম': 2492, 'সি': 2493, 'ক্যাটাগোরির': 2494, 'সমর': 2495, 'মুল্য': 2496, 'মেজাজচানি': 2497, 'জাগার': 2498, 'পোস্টবেশি': 2499, 'যইবু': 2500, 'ফরিবু\"\"': 2501, 'মাইনষুরে': 2502, 'ছড়ায়': 2503, 'লক্ষ্য': 2504, 'সাইডুত': 2505, 'ফায়বু\"': 2506, 'ইবেত্তুঁন': 2507, 'জোরে': 2508, 'যাইর\"': 2509, 'অক্কলর': 2510, 'পারিবেন': 2511, 'সেক্সুয়াল': 2512, 'হ্যারেসম্যান্ট': 2513, 'বেয়াজ্ঞুনুর': 2514, 'ডাইলগ': 2515, 'জে\"': 2516, '\"অনর': 2517, 'অক্কলরেও': 2518, 'লগে\"\"': 2519, 'নাটককাচ্ছি': 2520, 'ভাইজ্জ্যা': 2521, 'নাভী': 2522, 'সিনেমার': 2523, 'হইবওদে': 2524, 'সংস্কৃতিরে': 2525, 'গরিদেরদে': 2526, 'বানাইন্না': 2527, 'অলরত্ত': 2528, 'শেসে': 2529, 'সাজেরদে': 2530, 'ড্রেস': 2531, 'জগন্য': 2532, 'হয়ইয়ি': 2533, 'বাংলাদেশশান': 2534, 'বেপার': 2535, 'বাইচ্ছারে': 2536, 'জিজ্ঞাইতাম': 2537, 'নাটকত্তউন': 2538, 'শিখিবুদে': 2539, 'চাদ্দে': 2540, 'বেরাই': 2541, 'কত্তবড়': 2542, 'এহই': 2543, 'সিন': 2544, 'ব্যবধানত': 2545, 'চুল': 2546, 'হাততুন': 2547, 'ভেজ্ঞুনউততুন': 2548, 'এমবি': 2549, 'পরিচালকর': 2550, 'নানির': 2551, 'হইবার': 2552, 'শাওন': 2553, 'ভাইউত্তুন': 2554, 'নগরিবু': 2555, 'থাকি': 2556, 'এবাই': 2557, 'মাগিহানার': 2558, 'ধোনর': 2559, 'গরদ্দে': 2560, 'আচুদা': 2561, 'স্টোরি': 2562, 'অভিনয়গাধার': 2563, 'দল': 2564, 'কত্থুন': 2565, 'লুহা': 2566, 'এইটা': 2567, 'কুনো': 2568, 'কাহিনী': 2569, 'হয়েছে': 2570, 'করোনা': 2571, 'যায়গুই': 2572, 'করোনারে': 2573, 'যাইরদি\"': 2574, 'ঘরত্তুঁন': 2575, 'মাস্ক': 2576, 'ফড়ন\"': 2577, 'বাইরেত্তুঁন': 2578, 'আয়লি': 2579, 'হাতমুখ': 2580, 'ধুই': 2581, 'রাস্তা': 2582, 'ঘাডে': 2583, 'ফরিচিতঅফরিচি': 2584, 'মাইনশ্যুর': 2585, 'হ্যান্ডশেকআজাআজি': 2586, 'গরনত্তুঁন': 2587, 'তাহি': 2588, 'মাইনশ্যুরেও': 2589, 'রাহোন\"': 2590, 'রাইক্কুন': 2591, 'সামাইন্যু': 2592, 'অবহেলায়': 2593, 'বিফদত': 2594, 'জানত্তুঁন': 2595, 'মাবাফোরেও': 2596, 'ঝুঁকিত': 2597, 'সো': 2598, 'সমঅ': 2599, \"ভার্চুয়ালচাটগাঁ'রে\": 2600, 'অনেরারে': 2601, 'ভালোবাসাই': 2602, 'যায়বের': 2603, 'অনুপ্রেরণা\"': 2604, 'চর্চাপ্রচারপ্রসার': 2605, 'ভিত্তি': 2606, 'শালীনতা': 2607, 'ফরিবার': 2608, 'চাটগাঁ\"': 2609, 'সেইরকম': 2610, 'নিরন্তর': 2611, 'লইয়ুন': 2612, 'অবিরাম': 2613, 'জানর': 2614, 'পরাণর': 2615, 'র্থ': 2616, 'ভার্চুয়াল': 2617, 'জগতত': 2618, 'আবেগ': 2619, 'কেন্দ্রস্থল': 2620, 'চটগাঁর': 2621, 'মাইনষ্যুরে': 2622, 'আকৃষ্ট': 2623, 'ছড়ায়': 2624, 'মাধ্যম': 2625, 'চটগাঁইয়া': 2626, 'সংযুক্ত': 2627, 'থাহি': 2628, 'ঐতিহ্যর': 2629, 'ঘটার': 2630, 'থাহক': 2631, 'তম': 2632, 'আন্তরিক': 2633, 'সাথেই': 2634, 'থাহিবেন': 2635, 'টানে': 2636, 'থাহিবু': 2637, 'পধান': 2638, 'চনুর': 2639, 'গইরজীদে': 2640, 'লেহইন্না': 2641, 'আরারেও': 2642, 'পাইইয়িদে': 2643, 'লইয়ুসবেশ্যার': 2644, 'আশাকনাটক': 2645, 'বানাবি': 2646, 'হথাভালা': 2647, 'বানা': 2648, 'বিদ্যুৎ': 2649, 'রায়': 2650, 'আআলারপুত': 2651, 'লেইখছখস': 2652, 'তুইতোরে': 2653, 'শিখাইদে': 2654, 'মাদারীচোদ': 2655, 'বানাইয়দে': 2656, 'পোয়ালাইরনে': 2657, 'ইএয়ান': 2658, 'মালা': 2659, 'খা': 2660, 'আঁডে': 2661, 'লইয়েরে': 2662, 'নাটকও': 2663, 'পোন্মারামারিতে': 2664, '…এরিম্মা': 2665, 'চলাত': 2666, 'চুইদতুন': 2667, 'ডাইরেক্টর': 2668, 'এ্যাড': 2669, 'হাণকীড়': 2670, 'পয়াওলোরতু': 2671, 'জোতাদি': 2672, 'পরিবূদে': 2673, 'টীশার': 2674, 'দড়': 2675, 'জাড়গুয়': 2676, 'ইতেরে': 2677, 'দিইতে': 2678, 'নজানে': 2679, 'চতুর্থ': 2680, 'গ্রুপবাসি': 2681, 'বিয়াক্কুনরে': 2682, 'অন্তরর': 2683, 'অন্তস্থলত্তুন': 2684, 'তুওই': 2685, 'মেমান': 2686, 'মেমানোর': 2687, 'ফানলায়': 2688, 'এদিগিন': 2689, \"শেংরি'\": 2690, \"ক্বোয়াই'লা'\": 2691, 'চাটগাঁরে': 2692, 'রিপ্রেজেন্ট': 2693, 'ফাইটিং': 2694, 'হ্যাপি': 2695, 'বার্থডে': 2696, 'বোওত': 2697, 'গ্রুফর': 2698, 'সকল': 2699, 'মেম্বার': 2700, 'হাছ': 2701, 'বদ্দারে': 2702, 'যিবেই': 2703, 'গ্রুফরে': 2704, 'আগাই': 2705, 'যাইবেল্লাই': 2706, 'বেশী': 2707, 'ওমি': 2708, 'নোংরা': 2709, 'পঊড়াঈ': 2710, 'চনোল্লায়': 2711, 'দিয়ূচদেনে': 2712, 'পোচার': 2713, 'বালোর': 2714, 'মাঈয়াপয়া': 2715, 'ঈবার': 2716, 'ডেখিলি': 2717, 'গোড়োম': 2718, 'বাঈচ্চার': 2719, 'নওইলি': 2720, 'ফাহীম': 2721, 'রাখে': 2722, 'হেডাড়': 2723, 'ঝী': 2724, 'তুড়ে': 2725, 'পাঈলে': 2726, 'টেহা': 2727, 'দিবেলাই': 2728, 'পীছোদির': 2729, 'মিঊচীকে': 2730, 'দিঈয়ী': 2731, 'বেজ্ঞীন': 2732, 'ধান্ধা': 2733, 'রেনডি': 2734, 'চোছ': 2735, 'গোড়ীএরে': 2736, 'মাগিওলোর': 2737, 'আঊয়ার': 2738, 'আড়ামজাদা': 2739, 'আন': 2740, 'উদাই': 2741, 'কুওার': 2742, 'অসভ্য': 2743, 'বওয়ের': 2744, 'আজীয়া': 2745, 'রাইথ': 2746, 'খেলবো': 2747, 'কালিয়ে': 2748, 'জেন্নুম': 2749, 'সাদু': 2750, 'তাইলি': 2751, 'ক্যাপশনত': 2752, 'বাকিগিন': 2753, 'ফড়ি': 2754, 'লইয়ুন\"': 2755, 'তাছারা': 2756, 'আছিতাছারা': 2757, 'গইজ্জ্যে': 2758, 'হোইয়ি': 2759, 'জানেহতো': 2760, 'আইলি': 2761, 'হাবাইবে': 2762, 'ফছন্দ': 2763, 'মণিথগ্গুই': 2764, 'গুসসা': 2765, 'ঐশুধু': 2766, 'মুখুত্তুন': 2767, 'ঐবুহাইবেল্লেই': 2768, 'ঐ': 2769, 'যাইয়ু': 2770, 'বোত': 2771, 'মণির': 2772, 'আঁতে': 2773, 'ডেক্সি': 2774, 'ধরিলি': 2775, 'মোবাইলে': 2776, 'ক্যেনে': 2777, 'হাক্কুনাহিদ': 2778, 'আঁত': 2779, 'তিন্নান': 2780, 'ভাবী': 2781, 'বানার': 2782, 'সুর': 2783, 'এইরম': 2784, 'বলদমারহা': 2785, 'পরতু': 2786, 'হইইদে': 2787, 'মাদারিয়ে': 2788, 'পোননান': 2789, 'হাম্মান্ত': 2790, 'মাদিরিচুদে': 2791, 'আল্ডাপাল্ডা': 2792, 'মাদারটোস্ট': 2793, 'ছলচোদা': 2794, 'বাল্লানি': 2795, 'বুজাইয়ি': 2796, 'ছাত্রীইবার': 2797, 'হদ্ধে': 2798, 'হতোন': 2799, 'পরদি': 2800, 'আবেগর': 2801, 'চোদননা': 2802, 'কিইবা': 2803, 'আজেবাজে': 2804, 'ভরাই': 2805, 'পেলাইয়ি': 2806, 'লরিবি': 2807, 'ফেলাইয়ুম': 2808, 'রিয়াজ্জের': 2809, 'পেডর': 2810, 'বানাইউচ': 2811, 'চাইত': 2812, 'বুজর': 2813, 'নিশোরে': 2814, 'নস্টামি': 2815, 'নিশো': 2816, 'পরিচই': 2817, 'সস্থা': 2818, 'পাইদে': 2819, 'চেনেলর': 2820, 'মস্কারি': 2821, 'মাদারচূদে': 2822, 'বাইচ্ছাওল': 2823, 'কামাল': 2824, 'সাবিলা': 2825, 'নুরর': 2826, 'ঢং': 2827, 'অভিনয়র': 2828, 'চেটটানি': 2829, 'চোদাইত': 2830, 'হেদার': 2831, 'খাহিনি': 2832, 'কেমেরা': 2833, 'পোয়াল': 2834, 'পুরায়': 2835, 'গউর': 2836, 'কেনবগরি': 2837, 'কেমরা': 2838, 'ঘুরার': 2839, 'মডেল': 2840, 'ছন': 2841, 'সিস্টেম': 2842, 'বুরিঁ': 2843, 'নঅই': 2844, 'বেকুপ': 2845, 'ওয়ালাইকেসসালাম': 2846, 'ওয়াসসালামু': 2847, 'মণিঅনল্লেই': 2848, 'হাডক': 2849, 'এবেল': 2850, 'যাইয়িরেঅনরে': 2851, 'হায়তেন': 2852, 'গইত্তেন': 2853, 'হাইতামঅনে': 2854, 'নাশতা': 2855, 'দিতেন': 2856, 'হাইঅনল্লেও': 2857, 'রাইক্খি': 2858, 'মজাহনুয়ান': 2859, 'ফেলনুর': 2860, 'নাইমূল': 2861, 'ঐলুদে': 2862, 'অবাজি': 2863, 'পারোন': 2864, 'দিআরে': 2865, 'পারোনমিছে': 2866, 'গাট্টি': 2867, 'আরাল্লাই': 2868, 'রাখি': 2869, 'অইয়্যিসুন্দর': 2870, 'মাইপুয়ারে': 2871, 'চুলর': 2872, 'পাশদি': 2873, 'যায়এই': 2874, 'চুলত': 2875, 'যাইকা': 2876, 'পলায়': 2877, 'জ্বীনে': 2878, 'পাইয়্যি': 2879, 'হদদে': 2880, 'হাইবেল': 2881, 'আহ': 2882, 'আতগিন': 2883, 'রহমত': 2884, 'দকজামাইরে': 2885, 'হইর': 2886, 'ওইয়ুস': 2887, 'এতালায়': 2888, 'জামাই': 2889, 'চুরি': 2890, 'পরজ্জি': 2891, 'অন্তর্ভুক্ত': 2892, 'ওয়ালাইকুম': 2893, 'হরতে': 2894, 'ওইয়ুজ': 2895, 'একবছর': 2896, 'খুশি': 2897, 'ভিজি': 2898, 'হালিয়েত্তুন': 2899, 'পড়ের': 2900, 'য়া': 2901, 'গাড়ী': 2902, 'বিদেশত': 2903, 'ঝড়ত': 2904, 'কাতারত': 2905, 'সকালে': 2906, 'হাল্কা': 2907, 'টান্ডা': 2908, 'লাগেদে': 2909, 'আলহামদুলিল্লাহ্\\u200c': 2910, 'আছিহাজা': 2911, 'লাইজ্ঞুন': 2912, 'আইই': 2913, 'বইত': 2914, 'ওদ্দু': 2915, 'ঝড়ে': 2916, 'বাইন্নে': 2917, 'পোয়াত': 2918, 'বায়ুন': 2919, 'চার্ন্নি': 2920, 'ভর্তা': 2921, 'হওইদে': 2922, 'ইচে': 2923, 'মাছ': 2924, 'আইয়ুনমা': 2925, 'আরঁে': 2926, 'শিখায়বের': 2927, 'ওস্তাদ': 2928, 'আইটেম': 2929, 'কড়লার': 2930, 'সিঙ্গারা': 2931, 'চইওতো': 2932, 'মিনিটত': 2933, 'চল্লিশ': 2934, 'আপুরে': 2935, 'জিন্স': 2936, 'বেশ্যর': 2937, 'ইএন': 2938, 'আগাগোড়া': 2939, 'গরুচোদা': 2940, 'দুনিয়ার': 2941, 'মারামারির': 2942, 'তানজিম': 2943, 'চোদনে': 2944, 'বাছির': 2945, 'লিপকিস': 2946, 'বনরে': 2947, 'আফরান': 2948, 'পোলারে৷': 2949, 'চুদেদে': 2950, 'এব্বেরব': 2951, 'চোদাচুদির': 2952, 'এনগরি': 2953, 'তিশারব': 2954, 'দিইউস': 2955, 'নইনা': 2956, 'আইলো': 2957, 'ইউটিউবত': 2958, 'চুদানির': 2959, 'আফ্রান': 2960, 'নিশোত্তউন': 2961, 'বাইচ্ছার': 2962, 'চোদস': 2963, 'শিখিবার': 2964, 'অভিনই': 2965, 'গরেদে': 2966, 'রেন্ডিয়ারা': 2967, 'খাটি': 2968, 'চুধর': 2969, 'চোদচুদির': 2970, 'হদ্দেনে': 2971, 'শইতানি': 2972, 'ঠিকি': 2973, 'হেডাচুদি': 2974, 'নহইস': 2975, 'পরিচালককে': 2976, 'জুতাদি': 2977, 'বাইজ্জাই': 2978, 'ভোদাইচদা': 2979, 'আললাই': 2980, 'একদিন্নে': 2981, 'তিতেহরলা': 2982, 'সিংগারা': 2983, 'ফাটাই': 2984, 'তো৷': 2985, \"ব'র\": 2986, 'নিজের': 2987, 'নামুর': 2988, 'লইট্টেমাছ': 2989, 'ভাজিলগে': 2990, 'আলু': 2991, 'মশুর': 2992, 'ডাইল': 2993, 'আরো': 2994, 'ঐতু': 2995, 'সালত': 2996, 'হাইজ্জি': 2997, 'জিইত্তি': 2998, 'ঠইক্কি': 2999, 'ব্যর্থ': 3000, 'আইস্সি': 3001, 'হাইন্দি': 3002, 'শিইক্ষি': 3003, 'মাইনষরে': 3004, 'চিইন্নি': 3005, 'বেয়াগ্গিন': 3006, 'অভিজ্ঞতারে': 3007, 'লাগায়': 3008, 'বেয়াগ্গুন': 3009, 'দোয়াআশীর্বাদ': 3010, 'হামনা': 3011, 'সুতো': 3012, 'ছিড়ি': 3013, 'ঘুড়ির': 3014, 'পিছদি': 3015, 'দুরতেদৌড়াতেনেই': 3016, 'ঘুড়িরে': 3017, 'উড়তে': 3018, 'দেহার': 3019, 'মাঝেও': 3020, 'আনন্দ': 3021, 'জীবনত্তুন': 3022, 'গেয়েগুই': 3023, 'এগিয়ে': 3024, 'বছরত': 3025, 'প্রত্যাশা': 3026, 'বেজ্ঞুনুরে': 3027, 'ওয়ারাহমাতুল্লাহ': 3028, 'গেইলি': 3029, 'শুধুমাত্র': 3030, 'জীবনসঙ্গী': 3031, 'হিসেবে': 3032, 'সারাজীবন': 3033, 'সুন্দরমত': 3034, 'মিলিমিশি': 3035, 'মানুসগুন': 3036, 'এক্টিভিটি': 3037, 'দিনুত': 3038, 'অইলিও': 3039, 'ব্যস্ততা': 3040, 'বেল্লাই': 3041, 'শিখি': 3042, 'আইজ': 3043, 'ত্রুটি': 3044, 'ক্ষমাসুন্দর': 3045, 'দৃস্টিতে': 3046, 'আশাগরি': 3047, 'গেলে': 3048, 'মুল': 3049, 'পঁঅর': 3050, 'ভাগ্যে': 3051, 'হইলিও': 3052, 'নারাজ': 3053, 'অইবুপাই': 3054, 'অফুরন্ত': 3055, 'অসংখ্য': 3056, 'নিয়ামত': 3057, 'নিশ্বাস': 3058, 'সুস্থতা': 3059, 'পাইয়ুম': 3060, 'পাইত্তমনোএকমাত্র': 3061, 'আল্লাহই': 3062, 'ভবিষ্যৎ': 3063, 'মাধ্যমে': 3064, 'চাওয়ার': 3065, 'মাধ্যেমেই': 3066, \"আল্লাহতা'আলা\": 3067, 'টুকু': 3068, 'আরারে': 3069, 'মহামারিত্তুন': 3070, 'ফিরায়': 3071, 'দুনিয়েত': 3072, 'নরনারীর': 3073, 'অত্যাচার': 3074, 'তারারে': 3075, 'হেফাজত': 3076, 'প্রত্যেকরে': 3077, 'আলোয়': 3078, 'আলোকিত': 3079, 'পাপাচারত্তুন': 3080, 'পেডে': 3081, 'মোছুর': 3082, 'আদ্দে': 3083, 'মুছোর': 3084, 'কাচা': 3085, 'জ্বলেরকিন্তু': 3086, 'বাস্তবিক': 3087, 'তাকিলিও': 3088, 'কিছুটা': 3089, 'লাগিল': 3090, 'আত্তেও': 3091, 'দুখ': 3092, 'হাঁসি': 3093, 'কান্না': 3094, 'লয়ইনে': 3095, 'আঁয়রার': 3096, 'সালের': 3097, 'পিছনের': 3098, 'মিক্ষে': 3099, 'আয়ঁরার': 3100, 'ঘটনা': 3101, 'দূর্ঘটনা': 3102, 'আইস্তু': 3103, 'চাইট্টেতে': 3104, 'চাইট্টে': 3105, 'তারফর': 3106, 'আইশ্শি': 3107, 'তাহাজ্জুদ': 3108, 'ফরিবেল্লাই': 3109, 'গইরতো': 3110, 'ডিরএক্টর': 3111, 'সমাজর': 3112, 'চডর': 3113, 'গঅইরতু': 3114, 'জাইয়েরে': 3115, 'চরাতি': 3116, 'পোয়ারা': 3117, 'রাইক্কুস': 3118, 'দুত': 3119, 'মাগিচুদা': 3120, 'বাইনাইউস': 3121, 'বানাইয়ুচ': 3122, 'মাথার': 3123, 'গোর': 3124, 'হারবার': 3125, 'পরস': 3126, 'তোন': 3127, 'মাইরতু': 3128, 'দেখাতে': 3129, 'অলরতু': 3130, 'বানাইই': 3131, 'অইসশার': 3132, 'রাইত্তু': 3133, 'গুইরজুসদেনে': 3134, 'রামচোদা': 3135, 'কিয়ামতর': 3136, 'আলামত': 3137, 'পরিচালাক': 3138, 'চূদি': 3139, 'ফিনিশিং': 3140, 'গুইরজুস': 3141, 'গরছোনা': 3142, 'আহে': 3143, 'ভালুবাসা': 3144, 'এত্তু': 3145, 'শিখুবু': 3146, 'বিয়ারা': 3147, 'বালচাল': 3148, 'নলেখস': 3149, 'জিনিসসানরে': 3150, 'লা': 3151, 'লাইক': 3152, 'তোয়': 3153, 'পরদার': 3154, 'আরালে': 3155, 'হাডাইউস': 3156, 'লাগতু': 3157, 'সমগিন': 3158, 'ফিরাই': 3159, 'সাহস': 3160, 'দিয়ুন': 3161, 'অয়নরে': 3162, 'বোউত': 3163, 'পাইল্লাম': 3164, 'চইয়ার': 3165, 'গররদেনে': 3166, 'ইমোশ্ন': 3167, 'ওদ্ধা': 3168, 'গঅর': 3169, 'আলারপাওয়ালা': 3170, 'বানসদেনে': 3171, 'রাইক্ষি': 3172, 'মাইগির': 3173, 'পোয়াদুনুয়ার': 3174, 'জমাইদি': 3175, 'পোয়ায়াইন': 3176, 'আছিলদি': 3177, 'বালোবাসা': 3178, 'ওল': 3179, 'তাদনিভারে': 3180, 'দিই': 3181, 'লেইক্ষুস': 3182, 'গুয়াভমারহা': 3183, 'মগজ': 3184, 'আলারপোয়ালার': 3185, 'সমাজরে': 3186, 'দেহাইএরে': 3187, 'দেইদে': 3188, 'জারবার': 3189, 'পোসাক': 3190, 'পইরজুস': 3191, 'পোশাকর': 3192, 'পইর': 3193, 'জিনে': 3194, 'হমানোর': 3195, 'নুডুস': 3196, 'নুডুসুর': 3197, 'সোপ': 3198, 'রাইনদুন': 3199, 'চটপড়ি': 3200, 'অইলযি': 3201, 'গুগল': 3202, 'মামুরে': 3203, 'কীভাবে': 3204, 'আরেঁ': 3205, 'নমুনা': 3206, 'দেহাইয়্যিরেসিপি': 3207, 'ডেকসিত': 3208, 'পছন্দর': 3209, 'দিয়্যেরে': 3210, 'ফুডোয়': 3211, 'লইবেন': 3212, 'টেস্টি': 3213, 'মশলা': 3214, 'বাডিত': 3215, 'গড়ন': 3216, 'যাইবো': 3217, 'ধইন্যোবাদ': 3218, 'মাইনি': 3219, 'ঝামিলে': 3220, 'গড়িবো': 3221, 'ঐতুনুটাটকা': 3222, 'মচৎকার': 3223, 'আয়ইনে': 3224, 'ঘড়ি': 3225, 'মিনিটুত': 3226, 'টিয়ার': 3227, 'গিফট': 3228, 'বুঝিলন': 3229, 'দেহাইলি': 3230, 'পুরস্কার': 3231, 'হয়জনে': 3232, 'এতাক্কিন': 3233, 'নুডলসুত': 3234, 'ঝোল': 3235, 'পরাণ': 3236, 'ফেলেইবুনা': 3237, 'আফার': 3238, 'উইথ': 3239, 'ইবেল্লেই': 3240, 'আফারে': 3241, 'অস্কারব্যালনডিঅর': 3242, 'বদদাযদিও': 3243, 'জ্বলিবু': 3244, 'হাইবেল্লেই': 3245, 'জিতেজিতি': 3246, 'গইরতাম': 3247, 'জোস': 3248, 'দেএদে': 3249, 'ফেলেয়ি': 3250, 'এইরহম': 3251, 'গালে': 3252, 'সেকেন্ডেও': 3253, 'হনোভাবেই': 3254, 'দিয়েরেই': 3255, 'মারাইন্না': 3256, 'বাস্তবতার': 3257, 'গাজাখোর': 3258, 'মদখোর': 3259, 'গরতু': 3260, 'গরএ': 3261, 'হইরজুম': 3262, 'আজিবন': 3263, 'নিসিদ্ধ': 3264, 'নোংরামিতে': 3265, 'ওজ্ঞহা': 3266, 'গাজা': 3267, 'আরাদিন': 3268, 'লুডি': 3269, 'থাই': 3270, 'রাম': 3271, 'মারএ': 3272, 'ইচ্ছামত': 3273, 'মাইত্তাম': 3274, 'তাগি': 3275, 'জারারে': 3276, 'আবুইল্লার': 3277, 'জিবন্ত': 3278, 'পোয়াওলে': 3279, 'চান': 3280, 'হরম': 3281, 'অলরেও': 3282, 'বাইনচুদের': 3283, 'পাইর': 3284, 'ভাইব্বিলামদে': 3285, 'নাটক্ক': 3286, 'চাইয়ুম': 3287, 'পোনমারা': 3288, 'সম্পরকে': 3289, 'বলদচোদা': 3290, 'মোবিল': 3291, 'হাট্টলর': 3292, 'লাসা': 3293, 'বুদে': 3294, 'আইনুর': 3295, 'পোদরতু': 3296, 'মাইরে': 3297, 'লেখইবিনি': 3298, 'পাইরলাম': 3299, 'মাদারচোদেরা': 3300, 'বিচি': 3301, 'ধরাই': 3302, 'লেহক': 3303, 'লেইক্কি': 3304, 'চটি': 3305, 'লেইক্ষি': 3306, 'চলেরসময়': 3307, 'পাইল্যি': 3308, 'গরোন': 3309, 'থাইকত্তু': 3310, 'পরিস্হিতি': 3311, 'লোয়': 3312, 'ফরিবুঅনে': 3313, 'ভবিষ্যতর': 3314, 'ফোকাস': 3315, 'ধ্যানত': 3316, 'খুবই': 3317, 'ভিডু': 3318, 'আপ': 3319, 'বাননহালি': 3320, 'ছারা': 3321, 'চিনন': 3322, 'ফানলার': 3323, 'পরেনা': 3324, 'হায়তাম': 3325, 'ভেইয়্যে': 3326, 'আঁরাও': 3327, 'আহত': 3328, 'বদ্দার': 3329, 'চ্যালেন্জ্ঞ': 3330, 'দুনো': 3331, 'হইজ্জেও': 3332, 'উনায়': 3333, 'পিডেও': 3334, 'রাখ্খিহালিয়ে': 3335, 'দিয়োম': 3336, 'অলরেডি': 3337, 'আর্জি': 3338, 'অইদেঅনরারে': 3339, 'নাতিয়ে': 3340, 'অরান': 3341, 'যাইএতেল্লাই': 3342, 'আইসতাম': 3343, 'ফোয়া': 3344, 'অয়ি': 3345, 'গ্গুরুপত': 3346, 'ইচ্ছে': 3347, 'ভয়েস': 3348, 'বুঝিত': 3349, 'ফারেপোস্টুত': 3350, 'ডিটেইলসে': 3351, 'আবহ': 3352, 'সঙ্গীতুরলাই': 3353, 'লাস্টে': 3354, 'ফুনা': 3355, \"ন'যার\": 3356, 'ফিডেহনোদিন': 3357, 'শিখলেম': 3358, 'দেহনল্লাই': 3359, 'সাগর': 3360, \"ন'বানায়\": 3361, 'দেশী': 3362, 'উয়ারে': 3363, 'গইস্সেতিল': 3364, 'এলাচির': 3365, 'গুড়ি': 3366, 'হাইল্লে': 3367, 'দিইয়ুন': 3368, 'গ্যাস': 3369, 'অইতুনু': 3370, 'হুশবো': 3371, 'বানাইতবে': 3372, 'ইয়াত্তুন': 3373, 'ভাইয়ে': 3374, 'এগিনযে': 3375, 'এডগরি': 3376, 'হঅল্লে': 3377, 'মুখ': 3378, \"ন'\": 3379, \"'পেট\": 3380, 'দুনিয়া': 3381, \"শান্তি'\": 3382, 'তের': 3383, 'ইউনে': 3384, 'চইদ্দবার': 3385, 'পাল্টাইয়ি': 3386, 'আগি': 3387, 'দোনোজন': 3388, 'পইসাআরলাই': 3389, 'হাইবেল্লাইও': 3390, 'রাজি': 3391, 'আলাইন': 3392, 'রইয়ুচ': 3393, 'মাগিহান': 3394, 'বেল্লআই': 3395, 'দোর': 3396, 'মাহগির': 3397, 'দূধু': 3398, 'ফেলাইয়ের': 3399, 'আডে': 3400, 'ফুধ': 3401, 'করিমুরে': 3402, 'পাকিস্তানি': 3403, 'মাইরি': 3404, 'রাইক্তু': 3405, 'এতোফাল্লস': 3406, 'বেশ্যারব': 3407, 'অরে': 3408, 'দুধয়ালি': 3409, 'লিডার': 3410, 'চুদিবার': 3411, 'বেবস্থাবগরি': 3412, 'হামকির': 3413, 'বুজা': 3414, 'একশ': 3415, 'ভাগ': 3416, 'গরবদে': 3417, 'হ্ন': 3418, 'অওলি': 3419, 'ফেশর': 3420, 'মাতি': 3421, 'ভরে': 3422, 'আডিত': 3423, 'পারের': 3424, 'কিজে': 3425, 'বিনি': 3426, 'লেছা': 3427, 'ফরান': 3428, 'বাছা\"': 3429, 'তুহুওয়াসসালামু': 3430, 'এক্খানসুন্দর': 3431, 'উপস্থাপনও': 3432, 'অনেরে': 3433, 'কন্টেস্টুত': 3434, 'কন্টেস্টুর': 3435, 'সৌন্দর্য': 3436, 'বাড়াবেল্লেই': 3437, 'বলিশুভ': 3438, 'অনল্লেই': 3439, 'রিগুলার': 3440, 'থাহনদে': 3441, 'মিস': 3442, 'বানাইয়ু': 3443, 'ইগেন': 3444, 'আছো': 3445, 'ব্যস্ত': 3446, 'আছিলামএতাল্লাই': 3447, 'সাপোর্ট': 3448, 'তুঁয়ারে': 3449, 'অইয়্যিএতো': 3450, 'ব্যস্ততার': 3451, 'মাইদ্ধ্যি': 3452, 'লাগেরশুভকামন': 3453, 'অইয়িভাবী': 3454, 'আহহতবছর': 3455, 'দেহিলাম': 3456, 'ল্যাংটা': 3457, 'হালে': 3458, 'মাইনষে': 3459, 'ঝামেলা': 3460, 'সিয়ানা': 3461, 'বেজ্ঞুনুর': 3462, 'অইয়ুকামাল': 3463, 'ইশ': 3464, 'দঅ': 3465, 'হাইবেহালিয়ে': 3466, 'চলি': 3467, 'আইসসু': 3468, 'আশু': 3469, 'হাবায়্যুম': 3470, 'ধুরো': 3471, 'হতন': 3472, 'ট্যালেন্টডমানচিত্র': 3473, 'বানোন': 3474, 'আঁরেও': 3475, 'শিখোন': 3476, 'বেগ্গুন': 3477, 'আংটি': 3478, 'খাইয়ে': 3479, 'দিল্লি': 3480, 'গরিতারপর': 3481, 'ডাক': 3482, 'হাইবেল্লেইঅনরে': 3483, 'ডাবল': 3484, 'বব্ব্যু': 3485, 'ওয়্যা': 3486, 'বানাইল্যি': 3487, 'দিয়্যুন': 3488, 'আরামো': 3489, 'ইডিট': 3490, 'হান্ড': 3491, 'জামাইত্তে': 3492, 'রইস্য': 3493, 'গরনুর': 3494, 'ইক্কেরগিন': 3495, 'উইক্কেউইক্কেরগিন': 3496, 'হইবেল্লেই': 3497, 'কিনি': 3498, 'দিয়িদে': 3499, 'দোনোয়ান': 3500, 'ফেলাইতাম': 3501, 'পোনদি': 3502, 'ভজাই': 3503, 'দঅত': 3504, 'যোয়ান': 3505, 'পোয়াওলর': 3506, 'রুচি': 3507, 'আইচতুনও': 3508, 'স্বপ্ন': 3509, 'শতান': 3510, 'মাগিগিরি': 3511, 'অনুস্টান': 3512, 'ভওর': 3513, 'সানিইর': 3514, 'আইসসুন': 3515, 'মাগিত': 3516, 'এপাপিয়ার': 3517, 'উত্তুন': 3518, 'ঝুল': 3519, 'লাস্তার': 3520, 'মাইন্সেও': 3521, 'গইরতুনো': 3522, 'ইতিহাসত': 3523, 'বেজ্ঞুনুরতু': 3524, 'ওবাঝিরে': 3525, 'দধরসাগরত': 3526, 'জাইরগুই': 3527, 'বাছা': 3528, 'তুয়': 3529, 'ইয়গিন': 3530, 'বেলুন': 3531, 'দুনিয়াত': 3532, 'রেশ্মি': 3533, 'এলেন': 3534, 'জয়ের': 3535, 'মানষ': 3536, 'আউত': 3537, 'চুধন': 3538, 'নুইলি': 3539, 'ফরহার': 3540, 'থাইক্তুন': 3541, 'ইতিই': 3542, 'এক্কাইল্লা': 3543, 'সন': 3544, 'ইবার': 3545, 'অনিস্টানত': 3546, 'পুইরুদে': 3547, 'অইলিদই': 3548, 'তোকে': 3549, 'সপ্নের': 3550, 'পোয়াচা': 3551, 'হডা': 3552, 'দেখেজে': 3553, 'মারিবেল্লাই': 3554, 'গইরজুস': 3555, 'হাইউম': 3556, 'টেয়াওলা': 3557, 'বুড়ার': 3558, 'চোদাও': 3559, 'ট্যা': 3560, 'শীতের': 3561, 'মৌসুমত': 3562, 'গ্রুপের': 3563, 'মিধ্যে': 3564, 'কনটেস্টের': 3565, 'চিটাংয়ের': 3566, 'প্রচেষ্টা': 3567, 'ইয়ানত': 3568, 'গ্রহণ': 3569, 'দেরি': 3570, 'অনরার': 3571, 'অইলাম': 3572, 'শীতহালের': 3573, 'সবচেয়ে': 3574, 'মুখরোচক': 3575, 'জনপ্রিয়': 3576, 'ওয়লো': 3577, 'ফজরের': 3578, 'কুয়াশাভরা': 3579, 'সময়ে': 3580, 'হাজুরের': 3581, 'রস': 3582, 'হনোর': 3583, 'গাড়ি': 3584, 'ওয়াসার': 3585, 'ট্যাংক': 3586, 'আয়': 3587, 'ইতে': 3588, 'এঁডে': 3589, 'ফুছিত্': 3590, 'ফারের': 3591, 'নানারত্তুন': 3592, 'চেনা': 3593, 'সারাদিন': 3594, 'তাইথাম': 3595, 'অরিজিনাল': 3596, 'চিটাইংগ্গা': 3597, 'এল্লেহ': 3598, 'ইতিরারে': 3599, 'হইজ্জি': 3600, 'বারর্মাইয়া': 3601, 'ইতিরের': 3602, 'একব্বেরে': 3603, 'সমান': 3604, 'ইতিরারলা': 3605, 'নযায়': 3606, 'একে': 3607, 'ম': 3608, 'বেঞ্চত': 3609, 'স্যারর': 3610, 'সিট': 3611, 'পইজ্জি': 3612, 'পাশের': 3613, 'পরীক্ষার্থী': 3614, 'ইয়ানরে': 3615, 'কুত্তো': 3616, 'ভাইজ্ঞু': 3617, 'থ্যাংকু': 3618, 'থ্যাংকুঅঁনরার': 3619, 'পারিযেনকি': 3620, 'দেশি': 3621, 'আঁচুড়ি': 3622, 'অইতুআঁর': 3623, 'লেহাত্তুন': 3624, 'গুণে': 3625, 'সরস': 3626, 'চাইয়্যু': 3627, 'শুয়োরি': 3628, 'ততুলি': 3629, 'এব্বেরেতুলিলি': 3630, 'আম': 3631, 'তুলোযেনকি': 3632, 'ঠেইলে': 3633, 'লেহাগান': 3634, 'গোইজ্জি': 3635, 'সাম্মের': 3636, 'অইবুবেয়াকে': 3637, 'বিগত': 3638, 'স্মরন': 3639, 'নয়া': 3640, 'গ্রহন': 3641, 'হেফাজতে': 3642, 'রাহেন': 3643, 'সালও': 3644, 'গেলু': 3645, 'এইবারও': 3646, 'গরাইলু': 3647, 'গরাইলি': 3648, 'গরাইবু': 3649, 'নত': 3650, 'আগামী': 3651, 'বছছরও': 3652, 'সেইম': 3653, 'বিয়ে': 3654, 'গরিন্নফারন': 3655, 'ফারিলি': 3656, 'হাসিয়েরে': 3657, 'মিসকিন': 3658, 'নসীবুত': 3659, 'থাহিলি': 3660, 'ছাই': 3661, 'শাদি': 3662, 'আরাত্তে': 3663, 'টেনশন': 3664, 'ফরের': 3665, 'দুখুর': 3666, 'ফত্তি': 3667, 'ওয়াক্তত': 3668, 'অরুবারির': 3669, 'হাবায়ুমদে': 3670, 'মিতাইর': 3671, 'বন্নাই': 3672, 'দেইক্কুন': 3673, 'মিতা': 3674, 'এয়ুনা': 3675, 'মেহেদি': 3676, 'বদ্দাপারিলি': 3677, 'নেইল': 3678, 'পলিশ': 3679, 'পরাই': 3680, 'নুঅয়': 3681, 'গোডা': 3682, 'লিপিয়েরে': 3683, 'দিইদি': 3684, 'গাছের': 3685, 'বাইট্টে': 3686, 'আরকজনে': 3687, 'দেয়ায়': 3688, 'ফেসবুকুর': 3689, 'খুলিবের': 3690, 'ফুনিও': 3691, 'আন্তাইজ্জে': 3692, 'দিয়্যিল': 3693, 'ইল্লেত': 3694, 'শর্টকাট': 3695, 'বান্দরবানে': 3696, 'ঝর্ণা': 3697, 'পাড়ে': 3698, 'বসে': 3699, 'বিরিয়ানি': 3700, 'খাওয়া': 3701, 'মনা': 3702, 'ভাগোত': 3703, 'বিরেনী': 3704, 'লেস্বো': 3705, 'ফেলাদ্দে': 3706, 'এগুনুরে': 3707, 'আইস্ব্যদি': 3708, 'আনলি': 3709, 'উনি': 3710, 'মুগত': 3711, 'দিয়': 3712, 'শানাই': 3713, 'ওয়াল্লিং': 3714, 'গইরজিনে': 3715, 'জানিলে': 3716, 'ঠিকা': 3717, 'শোত': 3718, 'মইদ্দি': 3719, 'আইয়ে': 3720, 'সানায়': 3721, 'পইত্তুদিন': 3722, 'দেই': 3723, 'হতে': 3724, 'অনরতু': 3725, 'ওধা': 3726, 'আলমে': 3727, 'আলম': 3728, 'আরামজাদি': 3729, 'আলি': 3730, 'বসুন্ধ্রা': 3731, 'বেক্সিমকোর': 3732, 'মালিকরে': 3733, 'দিবুদে': 3734, 'হাবন': 3735, 'তাওর': 3736, 'ইতারব': 3737, 'মাইয়ের': 3738, 'অয়াইন': 3739, 'রাইক্ষুশ': 3740, 'লাগিলু': 3741, 'গুস্টি': 3742, 'উদ্ধা': 3743, 'আপির': 3744, 'এইগুন': 3745, 'হইদ্দি': 3746, 'ওফি': 3747, 'কুত্তও': 3748, 'চুইদ্দুনু': 3749, 'পদ্মাসেতু': 3750, 'মুগত্তুন': 3751, 'তেল': 3752, 'ছার': 3753, 'মতোই': 3754, 'হডে': 3755, 'বিরেনির': 3756, 'নোয়াহালী': 3757, 'ঐবের': 3758, 'পারিদ্দি': 3759, 'নর': 3760, 'ডিরিং': 3761, 'হাইয়ুন': 3762, 'দিয়নদে': 3763, 'হাইনতাম': 3764, 'রাহিত': 3765, 'লইতেন': 3766, 'এব্বেরেসমিস্যে': 3767, 'এনেও': 3768, 'হাঁদি': 3769, 'আপারে': 3770, 'ইনসাল': 3771, 'হরতেন': 3772, 'লাইগগুন': 3773, 'দিউুম': 3774, 'বিরেনে': 3775, 'হাবাইবেন': 3776, 'হাইয়ুনদে': 3777, 'ফঅলাইয়ের': 3778, 'এক্কানাও': 3779, 'আজাইর': 3780, 'টা': 3781, 'বাইজ্জি': 3782, 'মেয়েপোয়াল': 3783, 'রান্নাত': 3784, 'হুঁজিয়িরে': 3785, 'নকর্ণফুলী': 3786, 'নদীত': 3787, 'দিয়িরে': 3788, 'ওঁতুত': 3789, 'ভাসায়': 3790, 'দিয়ুমতারপর': 3791, 'ফইচ্ছুমগুই': 3792, 'ব্রীজুর': 3793, 'ওদ্দিত্তুন': 3794, 'দিয়ুমদেক্যান': 3795, 'তুইতো': 3796, 'দুরে': 3797, 'চুদলে': 3798, 'উপস্থাপক': 3799, 'কুত্তোও': 3800, 'মুস্লিম': 3801, 'হলাবাগানত': 3802, 'হাইব্রিড': 3803, 'পাক্কা': 3804, 'বাংগালিরা': 3805, 'আউওত': 3806, 'লাডি': 3807, 'দিয়েতে': 3808, 'বাইরজ্জন': 3809, 'দুয়টা': 3810, 'হাজারি': 3811, 'লাউয়ার': 3812, 'বালুশ': 3813, 'ফ্রি': 3814, 'সোনাত': 3815, 'বেশ্যামাগি': 3816, 'শালি': 3817, 'এসিড': 3818, 'মাতন': 3819, 'গোস্টিরে': 3820, 'হাতর': 3821, 'হসাইর': 3822, 'মাংস': 3823, 'হাইত্তাম': 3824, 'আর্ক': 3825, 'জনকে': 3826, 'নিচ': 3827, 'উপর': 3828, 'বানস': 3829, 'সহ': 3830, 'জারজ': 3831, 'সানায়ুরে': 3832, 'মারহাত': 3833, 'পদত': 3834, 'হতাবারতা': 3835, 'উনিলেই': 3836, 'জলে': 3837, 'হাজি': 3838, 'নমই': 3839, 'এতিয়ে': 3840, 'দুধত্তুন': 3841, 'সরের': 3842, 'জইওর': 3843, 'সানাইয়ে': 3844, 'বেচা': 3845, 'কেনা': 3846, 'সপ্ন': 3847, 'শ্রেস্ট': 3848, 'লুচ্চা': 3849, 'জ্বিন': 3850, 'বাইজ্জে': 3851, 'ফেল্লো': 3852, 'কেচাথাহি': 3853, 'ছটপটির': 3854, 'পক্কত্তুন': 3855, 'বছরর': 3856, 'রইলো': 3857, 'জানায়': 3858, 'যাইবেন': 3859, 'বাজনা': 3860, 'আমন্ত্রণ': 3861, 'পাপ': 3862, 'ইগিনেরলাই': 3863, 'আল্লহর': 3864, 'মাপ': 3865, 'শক্ত': 3866, 'সম্পর্ক': 3867, 'ধৈইজ্জুইবে': 3868, 'পৃথিবীল্লাই': 3869, 'শোগর': 3870, 'মানুষর': 3871, 'আহাজারি': 3872, 'টেলিভিশন': 3873, 'দেইখতাম': 3874, 'ফানি': 3875, 'ফেইলতামমন': 3876, 'থাইকতু': 3877, 'আইয়ির': 3878, 'শুকরিয়া': 3879, 'আদায়': 3880, 'পুরিবু': 3881, 'কলনাও': 3882, 'পারস': 3883, 'হইলেও': 3884, 'হইবি': 3885, 'মাগিবাজ': 3886, 'ফেমাস': 3887, 'বারলাই': 3888, 'হভিখেতত': 3889, 'জা': 3890, 'এওগুন': 3891, 'হাতারত': 3892, 'বিশহাপল্লাই': 3893, 'দান': 3894, 'তারি': 3895, 'হিসবেই': 3896, 'চিনে': 3897, 'বেস': 3898, 'মিলাই': 3899, 'দেশশানরে': 3900, 'বারোটা': 3901, 'ছলেও': 3902, 'হাইতেই': 3903, 'লুচ্ছামি': 3904, 'হানকিগিরিএ': 3905, 'সংসদ': 3906, 'বড়ো': 3907, 'পাইহানিত': 3908, 'গেলেও': 3909, 'মিছাখোর': 3910, 'আলীর': 3911, 'দেখিলিয়': 3912, 'চালাই': 3913, 'লোবি': 3914, 'হনোদিন': 3915, 'মাইমসুর': 3916, 'জাইগা': 3917, 'পাবি': 3918, 'অইলেই': 3919, 'গুরিবুদে': 3920, 'হানকিবমাগি': 3921, 'এইসন': 3922, 'বিয়ার': 3923, 'জানাইরত্তুন': 3924, 'লুকি': 3925, 'লিকি': 3926, 'হাইবুদে': 3927, 'কিরর': 3928, 'ঠোত': 3929, 'দেখিলিও': 3930, 'আগানি': 3931, 'চুইদ্দিনও': 3932, 'হাইতো': 3933, 'চস': 3934, 'আইডল': 3935, 'হইছে': 3936, 'কন্ডম': 3937, 'এক্সিডেন্ট': 3938, 'ইতারল্লাই': 3939, 'হানক': 3940, 'বেডবেড': 3941, 'গরাত্তাই': 3942, 'মুয়ালিম': 3943, 'অতি': 3944, 'নদেহাতি': 3945, 'জঅন্মর': 3946, 'চামরা': 3947, 'বেবসাইী': 3948, 'গাঁর': 3949, 'সোন্দ্রয': 3950, 'দেখাবেল্লাই': 3951, 'হরচ': 3952, 'হাইয়েরে': 3953, 'অস্ট্রেলিয়ান': 3954, 'ঘরের': 3955, 'ওনারার': 3956, 'এসসম': 3957, 'মুহোশধারী': 3958, 'হাবাই': 3959, 'দুইদিন': 3960, 'বাদে': 3961, 'উরুরনান': 3962, 'বানাইবু': 3963, 'দেশশান': 3964, 'হইলহাতার': 3965, 'সোনাগাছিত': 3966, 'বেজন্মার': 3967, 'তুম': 3968, 'পপইরতুদিন': 3969, 'লিটার': 3970, 'সে': 3971, 'শান্তির': 3972, 'মানস': 3973, 'ওইন': 3974, 'পাড়ার': 3975, 'বেজ্ঞুনউর': 3976, 'জাইবিগুই': 3977, 'চাপে': 3978, 'টাইটানিক': 3979, 'জাহাজ': 3980, 'ভাংগি': 3981, 'জাইতো': 3982, 'সন্দেহ': 3983, 'ডিম': 3984, 'ডোহানুর': 3985, 'যেমন': 3986, 'পিডই': 3987, 'পাউডার': 3988, 'ফেলাইউম': 3989, 'বাদ্দে': 3990, 'নামজ': 3991, 'হাবিবুর': 3992, 'অইবার': 3993, 'নিজেরাই': 3994, 'নিতারারে': 3995, 'দেখাইদে': 3996, 'চুদম': 3997, 'মাগিরবপোয়া': 3998, 'দেহাদে': 3999, 'দালালি': 4000, 'গরেই': 4001, 'চামড়া': 4002, 'বেবসাইয়ি': 4003, 'অইদি': 4004, 'ঝাড়ূ': 4005, 'দই': 4006, 'পীডন': 4007, 'ভুস্কি': 4008, 'ফাকে': 4009, 'মাইরলি': 4010, 'তোরেত': 4011, 'মাইরতুন': 4012, 'দূরে': 4013, 'থাক': 4014, 'এডাত': 4015, 'লোয়া': 4016, 'গইরজ্জি': 4017, 'মার্চ': 4018, 'মাসর': 4019, 'গইরজিলাম': 4020, 'অয়লাম': 4021, 'পাইরজ্জুম': 4022, 'হয়য়ুম': 4023, 'অঁনরতে': 4024, 'পুনিয়ুম': 4025, 'কুজারা': 4026, 'পোঁয়াই': 4027, 'আহ্': 4028, 'ঝর্নার': 4029, 'ফানিত': 4030, 'গরেরইতেরে': 4031, 'ফিডন': 4032, 'ফরলি': 4033, 'বিয়াক': 4034, \"'পিংকি\": 4035, \"হার'\": 4036, 'ফুন': 4037, 'হাজ্জোইন্নে': 4038, 'ফর্ব': 4039, 'ফড়িবের': 4040, 'নীচুর': 4041, 'লিংকুত': 4042, 'ক্লিক': 4043, 'মেলাত': 4044, 'মেলার': 4045, 'গড়নর': 4046, 'ফিলিংস': 4047, 'পলি': 4048, 'হডেএই': 4049, 'ফেতনী': 4050, 'পেইত্তাম': 4051, 'ঠিগাছে': 4052, \"বা'রের\": 4053, 'হাইতাম': 4054, 'মানা': 4055, 'গরিদ্দি': 4056, 'হাবাইয়্যুন': 4057, 'দেনাহিদ্দে': 4058, 'অঁনেপিংকিরে': 4059, 'বিষয়': 4060, 'মায়য়ে': 4061, 'বেককিন': 4062, 'ডবল': 4063, 'একটিন': 4064, 'ময়দা': 4065, 'চুন্দুরী': 4066, 'পাবলিক': 4067, 'প্লেস': 4068, 'দেহাইতু': 4069, 'পরেদ্দে': 4070, 'গছর': 4071, 'সম্পত': 4072, 'হাডিপেলার': 4073, 'পোঁয়া': 4074, 'ধুরু': 4075, 'হরাথা': 4076, 'পোয়াআর': 4077, 'খুরি': 4078, 'খুরোইয়া': 4079, 'খুরোর': 4080, 'খুরোই': 4081, 'নপারে': 4082, 'থুক্কু': 4083, 'হইতন্ন': 4084, 'তুঁয়া': 4085, 'রাত্তে': 4086, 'সরম': 4087, 'চগে': 4088, 'ঝাপসা': 4089, 'লাইগু': 4090, 'মুচোর': 4091, 'গাড়ি': 4092, 'উঁরে': 4093, 'উডিবু': 4094, 'নিচে': 4095, 'নামিবু': 4096, 'ভূতর': 4097, 'উলটা': 4098, 'ইঞ্জিনিয়ারেরে': 4099, 'ডিজাইন': 4100, 'পারসনালিটির': 4101, 'লে': 4102, 'সালা': 4103, 'মিলাইরি': 4104, 'জাতি': 4105, 'উল্ডো': 4106, 'লোকেশন': 4107, \"অঁ'নরো\": 4108, 'বারিসদি': 4109, 'এক্কানো': 4110, 'তাইকতু': 4111, 'উডিবে': 4112, 'চেচ্চেরি': 4113, 'লামিবে': 4114, 'ক্লোজ': 4115, 'পাব্লিক': 4116, 'গজ্জুস': 4117, 'মসকারির': 4118, 'মানুষেরে': 4119, 'দেহর': 4120, 'বর্ষার': 4121, 'উপভোগ': 4122, 'চন': 4123, 'আহা': 4124, 'লুমান্টিক': 4125, 'হতাত': 4126, 'বেজাল': 4127, 'আছেনা': 4128, 'নগরিবেন': 4129, 'ফিউচারে': 4130, 'বাস্তবায়ন': 4131, 'পারিলে': 4132, 'সংসারত': 4133, 'ড়ইক্কে': 4134, 'মেফুয়া': 4135, 'উগ্গ': 4136, 'নুয়াইবা': 4137, 'নাতই': 4138, 'গরিপেলাইবে': 4139, 'অইতুএদিজ্ঞিন': 4140, 'হইয়েনে': 4141, 'বিদেয়': 4142, 'লইমেয়েপুয়া': 4143, 'আরামি': 4144, 'নয়হানার': 4145, 'দত': 4146, 'মুকুর': 4147, 'টেলাই': 4148, 'পরীর': 4149, 'মুখুত': 4150, 'পরী': 4151, 'বুঝ': 4152, 'জ্ঞান': 4153, 'ঐয়্যি': 4154, 'হথায়': 4155, 'বুঝা': 4156, 'যারবারিত': 4157, 'ঘটক': 4158, 'পরিবো': 4159, 'বউতদিন': 4160, 'হয়্যুন': 4161, 'তুয়ারে': 4162, 'চলার': 4163, 'পথত': 4164, 'বিপদ': 4165, 'আইবু': 4166, 'তয়লি': 4167, 'অঁরিরে': 4168, 'দমক': 4169, 'ফুঁনার': 4170, 'অইয়েন': 4171, 'হাসাবের': 4172, 'হনদিন': 4173, 'ভাবি': 4174, 'গরিবেনতয়লি': 4175, 'সুখী': 4176, 'অঁরির': 4177, 'সঙ্গীরে': 4178, 'পায়ুন': 4179, 'গুরমিক্কে': 4180, 'আচিলন': 4181, 'তইতেল্লায়': 4182, 'চকলেটর': 4183, 'দেহাইরে': 4184, 'রাংগামাঠি': 4185, 'গেয়ো': 4186, 'গিদিএহন': 4187, 'অগয়': 4188, 'দেহালি': 4189, 'নজায়': 4190, 'নেইহতা': 4191, 'হতাআর': 4192, 'উনন': 4193, 'নতালি': 4194, 'কেনগরি': 4195, 'চলাতে': 4196, 'লাজ্ঞুদে': 4197, 'অনেক': 4198, 'জিবনত': 4199, 'ধরন': 4200, 'দ': 4201, 'মোবাইলুত': 4202, 'চল': 4203, 'ওভাই': 4204, 'চাচা': 4205, 'য়ো': 4206, 'গরজি': 4207, 'এতারলাই': 4208, 'নহয়': 4209, 'মাইয়েফুয়া': 4210, 'মাইয়েফুয়ার': 4211, 'পক্ষ': 4212, 'চাইবের': 4213, 'মাইনশ্যে': 4214, 'রিষারিষি': 4215, 'পিছুদি': 4216, 'বাঁশআরো': 4217, 'রাহে': 4218, 'কুড়ি': 4219, 'গাঁড়া': 4220, 'যেদ্দুর': 4221, 'সুনাম': 4222, 'গঁরিলি': 4223, 'কুহাম': 4224, 'গাইত': 4225, 'পারো': 4226, 'যঅনর': 4227, \"পেপার'র\": 4228, 'পৃষ্টে': 4229, 'টিভির': 4230, 'পদ্দা': 4231, 'ফাডি': 4232, 'পল্লী': 4233, 'বন্ধু': 4234, 'এরশাদ': 4235, 'গাইতে': 4236, 'গাইতে\"': 4237, 'ওদঅ': 4238, 'চলিবু': 4239, 'যাইতুনু\"': 4240, 'নিয়্যুমনীতি': 4241, 'জাইনাযার': 4242, \"'ওয়া\": 4243, \"আছিল'\": 4244, 'গুনহ': 4245, 'মাফ': 4246, 'পোয়াঅলর': 4247, 'পোয়াইন': 4248, 'চুদাইয়ুম': 4249, 'এটা': 4250, 'তূই': 4251, 'চুইদ্দতুন': 4252, 'মোডা': 4253, 'চায়য়ুস': 4254, 'নডির': 4255, 'জাত': 4256, 'বিসশর': 4257, 'গোইড়জুস': 4258, 'ডগ': 4259, 'বেশ্যার': 4260, 'বিশব': 4261, 'দৌলতদিয়া': 4262, 'দেয়াহত': 4263, 'জাগা': 4264, 'ফি': 4265, 'পডন': 4266, 'অগ্গা': 4267, 'আইসশি': 4268, 'দেহনর': 4269, 'হাইবার': 4270, 'ইচ্ছা': 4271, 'গেইয়িগুই': 4272, 'চেনেলত': 4273, 'নটি': 4274, 'মরিবের': 4275, 'এতই': 4276, 'আচাইচ্ছে': 4277, 'মরিলি': 4278, 'উতরাই': 4279, 'উডে': 4280, 'চিল্লেইলিও': 4281, 'ইয়্যিনুত': 4282, 'আনিত': 4283, 'পাইত্তম': 4284, 'যেতক্কন': 4285, 'অইয়্যুম\"': 4286, 'চইলতেই': 4287, 'আইয়্যুন': 4288, \"এরশাদ'র\": 4289, 'হারাফ\"': 4290, \"হাম'র\": 4291, 'তদ্রূপ': 4292, 'হারাফি': 4293, 'ইয়্যুনুর': 4294, 'শাস্তি\"': 4295, 'হনুয়ান': 4296, 'দিয়নর': 4297, 'বেশকিছু': 4298, 'যৌক্তিক': 4299, 'বিয়াজ্ঞুনুরে': 4300, 'মৃত': 4301, 'ব্যাক্তির': 4302, 'সমালোচনা': 4303, 'ইসলামোত': 4304, 'হইতম': 4305, 'আছেকিন্তুু': 4306, 'বারিবু': 4307, 'এতিক্কিন': 4308, 'নহই': 4309, 'জান্নাত': 4310, 'নসীব': 4311, 'গরকআমিন': 4312, 'আব্বু': 4313, 'হইলো': 4314, 'তিনবাহিনীর': 4315, 'পেনসন': 4316, 'তুলতে': 4317, 'ওইতু': 4318, 'সুযোগ': 4319, 'সুবিধা': 4320, 'বাড়াই': 4321, 'মাইপোয়া': 4322, 'ওলোরলাই': 4323, 'ক্লাস': 4324, 'এইট': 4325, 'মানব': 4326, 'ইয়েনই': 4327, 'অভ্যেস': 4328, 'হনমেনশন': 4329, 'দরাই': 4330, 'মেপুয়া': 4331, 'নফরেরজনম': 4332, 'কিপ্টে': 4333, 'এত্তুন': 4334, 'কিপ্টা': 4335, 'মুখোত': 4336, 'মিঠে': 4337, 'আতত': 4338, 'তিতেঁ': 4339, 'দুলাভাইয়ুরে': 4340, 'মনেঅয়': 4341, 'বিয়েরদিন': 4342, 'ইছেমাছ': 4343, 'হাবাইয়ি': 4344, 'বিবির': 4345, 'স্বামীরমত': 4346, 'মক্তপাইলি': 4347, 'টিয়া': 4348, 'অঁইলি': 4349, 'এলার্জি': 4350, 'বাড়ি': 4351, 'যায়এব্বেরে': 4352, 'অাছা': 4353, 'হতাগান': 4354, 'সঠিক': 4355, 'কথা': 4356, 'বুঝিবাল্লাই': 4357, 'খুশির': 4358, 'আন্দাজে': 4359, 'তাবিজ': 4360, 'লাইক্কিনা': 4361, 'যানে': 4362, 'পইড়তাম': 4363, 'বইলে': 4364, 'গিলতাম': 4365, 'আঁলিদে': 4366, 'বইগেইয়ি': 4367, 'মাইয়াফোয়াওক্কলর': 4368, 'মরতফুয়া': 4369, 'বিয়াগ্গুন': 4370, 'বিয়াগ্গুনুর': 4371, 'ভাড়া': 4372, 'চেয়ারার': 4373, 'ভব': 4374, 'সানি': 4375, 'লিওন': 4376, 'পিছাই': 4377, 'সালি': 4378, 'অইদ্দে': 4379, 'বাংলাদেশএ': 4380, 'দেখিলাম': 4381, 'ঊর': 4382, 'চুদাইউম': 4383, 'ভুদা': 4384, 'লাইবুদে': 4385, 'এতার': 4386, 'চুদানি': 4387, 'পোন্দমি': 4388, 'গরিবি': 4389, 'পাডা': 4390, 'মুখর': 4391, 'দশও': 4392, 'নিয়াশ': 4393, 'উইম': 4394, 'পেন': 4395, 'শার্ট': 4396, 'ব্লেইড': 4397, 'নিচের': 4398, 'বুকুরে': 4399, 'বাইধ্য': 4400, 'ওইবমাগিরে': 4401, 'অকথ্য': 4402, 'অভদ্র': 4403, 'বান্দ্রর': 4404, 'গাছা': 4405, 'বোয়াইদি': 4406, 'তোঁয়ারার': 4407, 'বুইজ্জুনা': 4408, 'বালি': 4409, 'সঅজে': 4410, 'পাইত্তেনে': 4411, 'তুয়ারারে': 4412, 'গেলমগুই': 4413, 'কুরি': 4414, 'আইস্সিলম': 4415, 'পর্যন্তু': 4416, 'গত': 4417, 'এইদিনুত': 4418, 'অসুস্ততার': 4419, 'মেডিকেল': 4420, 'আইত': 4421, 'যি': 4422, 'হয়েকদিন': 4423, 'অবাই': 4424, 'গুরুপ': 4425, 'চারা': 4426, 'মগা': 4427, 'তাবিছ': 4428, 'গজ্জিল': 4429, 'ফঅরিগ্রুপ': 4430, 'ফঅরিআঁইলি': 4431, 'অয়লিঅ': 4432, 'রুটি': 4433, 'গুস্ত': 4434, 'হরইতাল্লাই': 4435, 'হইতেন্ন': 4436, 'ওয়াএকদিনি': 4437, 'পেলায়ুন': 4438, 'ডাহদি': 4439, 'কালুর': 4440, 'ঘাটের': 4441, 'ব্রিজ': 4442, 'বিয়াকগ্গুনে': 4443, 'মঅত': 4444, 'মৃত্যু': 4445, 'জিয়েন': 4446, 'তারে': 4447, 'হষ্টত্তুঁন': 4448, 'আপনজন': 4449, 'অউনুত': 4450, 'মেলামারে\"': 4451, 'হতদিন': 4452, 'আরাইবের': 4453, 'শোক': 4454, 'আলহা': 4455, \"জীবন'ই\": 4456, 'যায়গুই\"': 4457, 'আতিক্কে': 4458, 'বিতিক্কে': 4459, 'এত্তেই': 4460, 'অয়তো': 4461, 'নিয়েঁশ': 4462, 'নতো': 4463, 'হানিক্কুনুর': 4464, 'মুড': 4465, 'অফ': 4466, 'যায়\"': 4467, 'ছোট': 4468, 'অইয়ুম': 4469, 'আপুনি': 4470, 'অবাইজ্জেক': 4471, 'আয়ঁ': 4472, 'এতদিন': 4473, 'তুয়ারেঁ': 4474, 'মরতপোয়া': 4475, 'স্বাবধানে': 4476, 'থাইক্কুএহন': 4477, 'অয়্যিআগে': 4478, 'বেইর': 4479, 'অইতুদি': 4480, 'ধরন্যেআর': 4481, 'চালাইতামসিলেবাস': 4482, 'চালাইলে': 4483, 'বউয়ের': 4484, 'মনের': 4485, 'বীর': 4486, 'পুরুষ': 4487, 'পাইরগুম': 4488, 'বুঝের': 4489, 'বিয়ারি': 4490, 'পটিয়ে': 4491, 'একসাতে': 4492, 'বদ্দাএতেরা': 4493, 'হাটহাজারি': 4494, 'ফটিকছটি': 4495, 'চট্টগ্রামর': 4496, 'প্রান': 4497, 'কেন্দ্র': 4498, 'তনিজের': 4499, 'চুখের': 4500, 'দেখাগাত': 4501, 'লাজ্ঞি': 4502, 'পাল্লার': 4503, 'ওনর…': 4504, 'রাউজনগহিরের': 4505, 'হইবু': 4506, 'মেন': 4507, 'বাজ': 4508, 'খমতা': 4509, 'সানরে': 4510, 'শেয়া': 4511, 'দিইবু': 4512, 'স্ন': 4513, 'বেডিএ': 4514, 'রাইক্কি': 4515, 'দেরদে': 4516, 'পাহারা': 4517, 'তুলনা': 4518, 'চোদ্ব': 4519, 'চুদিলি': 4520, 'চোইদ্দ': 4521, 'গুস্টিরব': 4522, 'আইউইন': 4523, 'চোদএ': 4524, 'শতানে': 4525, 'বাইছা': 4526, 'মস': 4527, 'ঘ': 4528, 'রত': 4529, 'হাতন': 4530, 'গরিবার': 4531, 'উপাই': 4532, 'বেজ্ঞুনোর': 4533, 'মাগিরপুত': 4534, 'হলি': 4535, 'চেয়ারর': 4536, 'পোদর': 4537, 'জাডা': 4538, 'তসলিমা': 4539, 'নাসরিনর': 4540, 'হলনক': 4541, 'নিজোরে': 4542, 'হবি': 4543, 'বদ্দাতুঁই': 4544, 'আছা': 4545, 'লাজ্ঞুদুচ': 4546, 'নদিকি': 4547, 'বুইরগুনে': 4548, 'পইট্যে': 4549, 'চন্দেনেস্যে': 4550, 'ইতেরার': 4551, 'আত্তুন': 4552, 'ডাহর': 4553, 'মাইনসর': 4554, 'চিনোনা': 4555, 'বাঁসোর': 4556, 'ঘলেই': 4557, 'চন্দনাইশ্যে': 4558, 'মাইনষর': 4559, 'চন্দনাইশর': 4560, 'রাস্তাতও': 4561, 'বাঁস': 4562, 'চইলতো': 4563, 'ফটিকছরির': 4564, 'মাইনষোর': 4565, 'ডইক্কে': 4566, 'বাঁচ': 4567, 'ফড়িকচড়ির': 4568, 'এক্কে': 4569, 'চলেদে': 4570, 'চলেলে': 4571, 'বাস': 4572, 'দক্ষিণ': 4573, 'চট্টগ্রামের': 4574, 'মানুষের': 4575, 'কাজ': 4576, 'তোঁয়ারো': 4577, 'বেঁছতে': 4578, 'গেলাদেইয়েন': 4579, 'গেলাদে': 4580, 'নাছবি': 4581, 'রাইক্কিলম': 4582, \"লা'দ্দে\": 4583, 'ফটিকছড়ির': 4584, 'মানুষুর': 4585, 'অঁনেরলয়': 4586, 'পোষন': 4587, 'করিলাম': 4588, 'বেঁয়াজ্ঞিন': 4589, 'দিঁইয়ে': 4590, 'সানগ্লাসচশমা': 4591, 'ইঁয়েন': 4592, 'যাঁইত': 4593, 'নোবেলবিজয়ী': 4594, 'হলেন': 4595, 'তিনি': 4596, 'বলতেই': 4597, 'একটু': 4598, 'দ্বিধাবোধ': 4599, 'করলেন': 4600, 'কারন': 4601, 'আমরা': 4602, 'বাংগালি': 4603, 'চাটগাইয়া': 4604, 'বেডা': 4605, 'একজন': 4606, 'হনকিয়ই': 4607, 'অসসিকার': 4608, 'বুহতা': 4609, 'অইলুজে': 4610, 'গরিবুরে': 4611, 'মারিপেলার': 4612, 'চোড': 4613, 'ঋণ': 4614, 'বিধ্রমি': 4615, 'ভুক্তভোগী': 4616, 'জোড়': 4617, 'দিছে': 4618, 'চোখে': 4619, 'উল্টা': 4620, 'গরিব': 4621, 'স্বাবলম্বী': 4622, 'হচ্ছেন': 4623, 'হাতে': 4624, 'গোনা': 4625, 'নিজেদের': 4626, 'দোষে': 4627, 'কস্টে': 4628, 'যাচ্ছেন': 4629, 'ইউনুচ': 4630, 'কে': 4631, 'দেওয়া': 4632, 'পরিত': 4633, 'জান': 4634, 'লেকিত': 4635, 'জাননচলিত': 4636, 'গুরুপু': 4637, 'পরিপন্থী': 4638}\n"
     ]
    }
   ],
   "source": [
    "print(tokenizer.word_index)"
   ]
  },
  {
   "cell_type": "code",
   "execution_count": 29,
   "metadata": {},
   "outputs": [],
   "source": [
    "encoded_docs = tokenizer.texts_to_sequences(final_text)"
   ]
  },
  {
   "cell_type": "code",
   "execution_count": 30,
   "metadata": {},
   "outputs": [
    {
     "data": {
      "text/plain": [
       "[102, 1554, 1555, 1556, 1557]"
      ]
     },
     "execution_count": 30,
     "metadata": {},
     "output_type": "execute_result"
    }
   ],
   "source": [
    "\n",
    "encoded_docs[7]"
   ]
  },
  {
   "cell_type": "code",
   "execution_count": 31,
   "metadata": {},
   "outputs": [],
   "source": [
    "padded_sequence = pad_sequences(encoded_docs, maxlen=20)"
   ]
  },
  {
   "cell_type": "code",
   "execution_count": 32,
   "metadata": {},
   "outputs": [
    {
     "name": "stdout",
     "output_type": "stream",
     "text": [
      "['খানকির', 'পোয়া', 'রোহিঙ্গা', 'অল', 'বাংলাদেশেত', 'ঢুকিলী']\n",
      "[303, 5, 832, 24, 1522, 1523]\n",
      "[   0    0    0    0    0    0    0    0    0    0    0    0    0    0\n",
      "  303    5  832   24 1522 1523]\n"
     ]
    }
   ],
   "source": [
    "print(final_text[0])\n",
    "print(encoded_docs[0])\n",
    "print(padded_sequence[0])"
   ]
  },
  {
   "cell_type": "code",
   "execution_count": 33,
   "metadata": {},
   "outputs": [],
   "source": [
    "X = np.array(padded_sequence)\n",
    "y = df['Label']\n",
    "#y = comment_label[0]"
   ]
  },
  {
   "cell_type": "code",
   "execution_count": 2,
   "metadata": {},
   "outputs": [
    {
     "ename": "NameError",
     "evalue": "name 'X' is not defined",
     "output_type": "error",
     "traceback": [
      "\u001b[1;31m---------------------------------------------------------------------------\u001b[0m",
      "\u001b[1;31mNameError\u001b[0m                                 Traceback (most recent call last)",
      "\u001b[1;32m<ipython-input-2-6d9051e93b94>\u001b[0m in \u001b[0;36m<module>\u001b[1;34m\u001b[0m\n\u001b[0;32m      1\u001b[0m \u001b[1;32mfrom\u001b[0m \u001b[0msklearn\u001b[0m\u001b[1;33m.\u001b[0m\u001b[0mmodel_selection\u001b[0m \u001b[1;32mimport\u001b[0m \u001b[0mtrain_test_split\u001b[0m\u001b[1;33m\u001b[0m\u001b[1;33m\u001b[0m\u001b[0m\n\u001b[1;32m----> 2\u001b[1;33m \u001b[0mX_train\u001b[0m\u001b[1;33m,\u001b[0m \u001b[0mX_test\u001b[0m\u001b[1;33m,\u001b[0m \u001b[0my_train\u001b[0m\u001b[1;33m,\u001b[0m \u001b[0my_test\u001b[0m \u001b[1;33m=\u001b[0m \u001b[0mtrain_test_split\u001b[0m\u001b[1;33m(\u001b[0m \u001b[0mX\u001b[0m\u001b[1;33m,\u001b[0m \u001b[0my\u001b[0m\u001b[1;33m,\u001b[0m \u001b[0mtest_size\u001b[0m\u001b[1;33m=\u001b[0m\u001b[1;36m0.33\u001b[0m\u001b[1;33m,\u001b[0m \u001b[0mrandom_state\u001b[0m\u001b[1;33m=\u001b[0m\u001b[1;36m42\u001b[0m\u001b[1;33m)\u001b[0m\u001b[1;33m\u001b[0m\u001b[1;33m\u001b[0m\u001b[0m\n\u001b[0m",
      "\u001b[1;31mNameError\u001b[0m: name 'X' is not defined"
     ]
    }
   ],
   "source": [
    "from sklearn.model_selection import train_test_split\n",
    "X_train, X_test, y_train, y_test = train_test_split( X, y, test_size=0.33, random_state=42)"
   ]
  },
  {
   "cell_type": "markdown",
   "metadata": {},
   "source": [
    "# Function definition for Testing the model"
   ]
  },
  {
   "cell_type": "code",
   "execution_count": 35,
   "metadata": {},
   "outputs": [],
   "source": [
    "Model = list()\n",
    "Accuracy = list()\n",
    "precision = list()\n",
    "recall = list()\n",
    "F1score = list()\n"
   ]
  },
  {
   "cell_type": "code",
   "execution_count": 36,
   "metadata": {},
   "outputs": [],
   "source": [
    "def test_eval(clf_model, X_test, y_test, algo=None):\n",
    "    # Test set prediction\n",
    "    y_prob=clf_model.predict_proba(X_test)\n",
    "    y_pred=clf_model.predict(X_test,verbose=1)\n",
    "    #y_pred=clf_model.predict(X_test)\n",
    "\n",
    "    print('Confusion Matrix')\n",
    "    print('='*60)\n",
    "    print(confusion_matrix(y_test,y_pred),\"\\n\")\n",
    "    print('Classification Report')\n",
    "    print('='*60)\n",
    "    print(classification_report(y_test,y_pred),\"\\n\")\n",
    "    print('Accuracy Score')\n",
    "    print('='*60)\n",
    "    print(accuracy_score(y_test, y_pred))\n",
    "          \n",
    "    Model.append(algo)\n",
    "    Accuracy.append(round(accuracy_score(y_test, y_pred),2))\n",
    "    precision.append(round(precision_score(y_test,y_pred),2))\n",
    "    recall.append(round(recall_score(y_test,y_pred),2))\n",
    "    F1score.append(round(f1_score(y_test,y_pred),2))\n",
    "   \n",
    "    "
   ]
  },
  {
   "cell_type": "markdown",
   "metadata": {},
   "source": [
    "# Fast-text + Simple RNN"
   ]
  },
  {
   "cell_type": "code",
   "execution_count": 64,
   "metadata": {},
   "outputs": [
    {
     "name": "stdout",
     "output_type": "stream",
     "text": [
      "Model: \"sequential_13\"\n",
      "_________________________________________________________________\n",
      "Layer (type)                 Output Shape              Param #   \n",
      "=================================================================\n",
      "embedding (Embedding)        (None, 20, 100)           463900    \n",
      "_________________________________________________________________\n",
      "simple_rnn_30 (SimpleRNN)    (None, 20, 100)           20100     \n",
      "_________________________________________________________________\n",
      "simple_rnn_31 (SimpleRNN)    (None, 160)               41760     \n",
      "_________________________________________________________________\n",
      "dense_13 (Dense)             (None, 1)                 161       \n",
      "=================================================================\n",
      "Total params: 525,921\n",
      "Trainable params: 525,921\n",
      "Non-trainable params: 0\n",
      "_________________________________________________________________\n"
     ]
    }
   ],
   "source": [
    "maxlen = 20\n",
    "#embedding_layer = Embedding(vocab_size, W2V_SIZE, weights=[embedding_matrix], input_length=SEQUENCE_LENGTH, trainable=False)\n",
    "simrnn_model = Sequential()\n",
    "\n",
    "simrnn_model.add(Embedding(vocab_size ,W2V_SIZE ,weights=[embedding_matrix], input_length = maxlen, name = \"embedding\", trainable = True))\n",
    "simrnn_model.add(SimpleRNN(100, activation = 'relu', return_sequences = True))\n",
    "simrnn_model.add(SimpleRNN(160, activation = 'relu'))\n",
    "#simrnn_model.add(SimpleRNN(200, activation = 'relu', return_sequences = True))\n",
    "#simrnn_model.add(SimpleRNN(256, activation = 'relu'))\n",
    "simrnn_model.add(Dense(1, activation = 'sigmoid'))\n",
    "simrnn_model.compile(loss='binary_crossentropy',optimizer='adam', metrics=['accuracy'])  \n",
    "simrnn_model.summary()"
   ]
  },
  {
   "cell_type": "code",
   "execution_count": 65,
   "metadata": {},
   "outputs": [
    {
     "name": "stdout",
     "output_type": "stream",
     "text": [
      "Epoch 1/40\n",
      "19/19 [==============================] - 5s 77ms/step - loss: 0.6957 - accuracy: 0.5345 - val_loss: 0.6584 - val_accuracy: 0.5878\n",
      "Epoch 2/40\n",
      "19/19 [==============================] - 1s 41ms/step - loss: 0.6431 - accuracy: 0.6075 - val_loss: 0.6780 - val_accuracy: 0.5405\n",
      "Epoch 3/40\n",
      "19/19 [==============================] - 1s 41ms/step - loss: 0.6063 - accuracy: 0.6726 - val_loss: 0.6154 - val_accuracy: 0.6554\n",
      "Epoch 4/40\n",
      "19/19 [==============================] - 1s 41ms/step - loss: 0.4572 - accuracy: 0.7999 - val_loss: 0.5775 - val_accuracy: 0.7568\n",
      "Epoch 5/40\n",
      "19/19 [==============================] - 1s 43ms/step - loss: 0.1827 - accuracy: 0.9590 - val_loss: 0.3411 - val_accuracy: 0.8716\n",
      "Epoch 6/40\n",
      "19/19 [==============================] - 2s 87ms/step - loss: 0.0468 - accuracy: 0.9920 - val_loss: 0.2901 - val_accuracy: 0.9324\n",
      "Epoch 7/40\n",
      "19/19 [==============================] - 2s 87ms/step - loss: 0.0092 - accuracy: 0.9998 - val_loss: 2.8031 - val_accuracy: 0.6081\n",
      "Epoch 8/40\n",
      "19/19 [==============================] - 1s 46ms/step - loss: 0.2729 - accuracy: 0.9096 - val_loss: 0.4102 - val_accuracy: 0.8446\n",
      "Epoch 9/40\n",
      "19/19 [==============================] - 1s 42ms/step - loss: 0.0395 - accuracy: 0.9983 - val_loss: 0.4386 - val_accuracy: 0.8919\n",
      "Epoch 10/40\n",
      "19/19 [==============================] - 1s 41ms/step - loss: 0.0041 - accuracy: 0.9996 - val_loss: 0.3036 - val_accuracy: 0.9459\n",
      "Epoch 11/40\n",
      "19/19 [==============================] - 2s 104ms/step - loss: 0.0029 - accuracy: 1.0000 - val_loss: 0.2860 - val_accuracy: 0.9459\n",
      "Epoch 12/40\n",
      "19/19 [==============================] - 1s 62ms/step - loss: 0.0012 - accuracy: 1.0000 - val_loss: 0.3169 - val_accuracy: 0.9459\n",
      "Epoch 13/40\n",
      "19/19 [==============================] - 1s 40ms/step - loss: 0.0013 - accuracy: 1.0000 - val_loss: 0.5674 - val_accuracy: 0.8986\n",
      "Epoch 14/40\n",
      "19/19 [==============================] - 1s 41ms/step - loss: 0.0013 - accuracy: 0.9994 - val_loss: 0.4916 - val_accuracy: 0.9122\n",
      "Epoch 15/40\n",
      "19/19 [==============================] - 1s 44ms/step - loss: 6.4603e-04 - accuracy: 1.0000 - val_loss: 0.4110 - val_accuracy: 0.9257\n",
      "Epoch 16/40\n",
      "19/19 [==============================] - 2s 107ms/step - loss: 0.0017 - accuracy: 1.0000 - val_loss: 0.4077 - val_accuracy: 0.9257\n",
      "Epoch 17/40\n",
      "19/19 [==============================] - 1s 60ms/step - loss: 6.6874e-04 - accuracy: 1.0000 - val_loss: 0.4479 - val_accuracy: 0.9257\n",
      "Epoch 18/40\n",
      "19/19 [==============================] - 1s 40ms/step - loss: 0.0015 - accuracy: 1.0000 - val_loss: 0.4651 - val_accuracy: 0.9324\n",
      "Epoch 19/40\n",
      "19/19 [==============================] - 1s 42ms/step - loss: 3.5305e-04 - accuracy: 1.0000 - val_loss: 0.4917 - val_accuracy: 0.9257\n",
      "Epoch 20/40\n",
      "19/19 [==============================] - 1s 75ms/step - loss: 6.3533e-04 - accuracy: 1.0000 - val_loss: 0.5117 - val_accuracy: 0.9324\n",
      "Epoch 21/40\n",
      "19/19 [==============================] - 2s 111ms/step - loss: 7.1975e-04 - accuracy: 1.0000 - val_loss: 0.5356 - val_accuracy: 0.9324\n",
      "Epoch 22/40\n",
      "19/19 [==============================] - 1s 42ms/step - loss: 6.3624e-04 - accuracy: 1.0000 - val_loss: 0.5681 - val_accuracy: 0.9324\n",
      "Epoch 23/40\n",
      "19/19 [==============================] - 1s 42ms/step - loss: 2.9220e-04 - accuracy: 1.0000 - val_loss: 0.5751 - val_accuracy: 0.9324\n",
      "Epoch 24/40\n",
      "19/19 [==============================] - 1s 45ms/step - loss: 8.4133e-04 - accuracy: 1.0000 - val_loss: 0.5890 - val_accuracy: 0.9459\n",
      "Epoch 25/40\n",
      "19/19 [==============================] - 1s 77ms/step - loss: 1.3730e-04 - accuracy: 1.0000 - val_loss: 0.6328 - val_accuracy: 0.9189\n",
      "Epoch 26/40\n",
      "19/19 [==============================] - 2s 90ms/step - loss: 3.5497e-04 - accuracy: 1.0000 - val_loss: 0.6136 - val_accuracy: 0.9392\n",
      "Epoch 27/40\n",
      "19/19 [==============================] - 1s 41ms/step - loss: 8.4526e-05 - accuracy: 1.0000 - val_loss: 0.6524 - val_accuracy: 0.9392\n",
      "Epoch 28/40\n",
      "19/19 [==============================] - 1s 42ms/step - loss: 1.4982e-04 - accuracy: 1.0000 - val_loss: 0.6107 - val_accuracy: 0.9392\n",
      "Epoch 29/40\n",
      "19/19 [==============================] - 1s 41ms/step - loss: 1.8326e-04 - accuracy: 1.0000 - val_loss: 0.6360 - val_accuracy: 0.9324\n",
      "Epoch 30/40\n",
      "19/19 [==============================] - 1s 76ms/step - loss: 1.8442e-04 - accuracy: 1.0000 - val_loss: 0.6045 - val_accuracy: 0.9324\n",
      "Epoch 31/40\n",
      "19/19 [==============================] - 2s 108ms/step - loss: 9.7373e-05 - accuracy: 1.0000 - val_loss: 0.6682 - val_accuracy: 0.9392\n",
      "Epoch 32/40\n",
      "19/19 [==============================] - 1s 40ms/step - loss: 4.4152e-05 - accuracy: 1.0000 - val_loss: 0.6833 - val_accuracy: 0.9392\n",
      "Epoch 33/40\n",
      "19/19 [==============================] - 1s 42ms/step - loss: 7.5319e-05 - accuracy: 1.0000 - val_loss: 0.8089 - val_accuracy: 0.9054\n",
      "Epoch 34/40\n",
      "19/19 [==============================] - 1s 44ms/step - loss: 1.4009e-04 - accuracy: 1.0000 - val_loss: 0.5003 - val_accuracy: 0.9324\n",
      "Epoch 35/40\n",
      "19/19 [==============================] - 1s 67ms/step - loss: 1.7369e-04 - accuracy: 1.0000 - val_loss: 0.4725 - val_accuracy: 0.9257\n",
      "Epoch 36/40\n",
      "19/19 [==============================] - 2s 105ms/step - loss: 4.9908e-05 - accuracy: 1.0000 - val_loss: 0.5051 - val_accuracy: 0.9324\n",
      "Epoch 37/40\n",
      "19/19 [==============================] - 1s 50ms/step - loss: 3.8553e-05 - accuracy: 1.0000 - val_loss: 0.5197 - val_accuracy: 0.9324\n",
      "Epoch 38/40\n",
      "19/19 [==============================] - 1s 43ms/step - loss: 2.0225e-05 - accuracy: 1.0000 - val_loss: 0.5662 - val_accuracy: 0.9392\n",
      "Epoch 39/40\n",
      "19/19 [==============================] - 1s 43ms/step - loss: 5.6399e-05 - accuracy: 1.0000 - val_loss: 0.5451 - val_accuracy: 0.9324\n",
      "Epoch 40/40\n",
      "19/19 [==============================] - 1s 66ms/step - loss: 6.4806e-05 - accuracy: 1.0000 - val_loss: 0.5748 - val_accuracy: 0.9392\n"
     ]
    }
   ],
   "source": [
    "simrnn = simrnn_model.fit(X_train,y_train,validation_split=0.2, epochs=40)"
   ]
  },
  {
   "cell_type": "code",
   "execution_count": 36,
   "metadata": {},
   "outputs": [
    {
     "data": {
      "text/plain": [
       "\"scores = model.evaluate(X_test, y_test, verbose=0)\\nprint('Test loss:', scores[0])\\nprint('Test accuracy:', scores[1])\\nscore = model.predict(X_test)\\ny_p = np.where(score>.5,1,0)\\ny_p\""
      ]
     },
     "execution_count": 36,
     "metadata": {},
     "output_type": "execute_result"
    }
   ],
   "source": [
    "'''scores = model.evaluate(X_test, y_test, verbose=0)\n",
    "print('Test loss:', scores[0])\n",
    "print('Test accuracy:', scores[1])\n",
    "score = model.predict(X_test)\n",
    "y_p = np.where(score>.5,1,0)\n",
    "y_p'''"
   ]
  },
  {
   "cell_type": "code",
   "execution_count": 66,
   "metadata": {},
   "outputs": [
    {
     "data": {
      "image/png": "[encoded data removed]",
      "text/plain": [
       "<Figure size 432x288 with 1 Axes>"
      ]
     },
     "metadata": {
      "needs_background": "light"
     },
     "output_type": "display_data"
    },
    {
     "data": {
      "image/png": "[encoded data removed]",
      "text/plain": [
       "<Figure size 432x288 with 1 Axes>"
      ]
     },
     "metadata": {
      "needs_background": "light"
     },
     "output_type": "display_data"
    },
    {
     "data": {
      "text/plain": [
       "<Figure size 432x288 with 0 Axes>"
      ]
     },
     "metadata": {},
     "output_type": "display_data"
    }
   ],
   "source": [
    "plt.plot(simrnn.history['accuracy'], label='acc')\n",
    "plt.plot(simrnn.history['val_accuracy'], label='val_acc')\n",
    "plt.legend()\n",
    "plt.show()\n",
    "plt.savefig(\"Accuracy plot.jpg\")\n",
    "\n",
    "\n",
    "# In[25]:\n",
    "\n",
    "\n",
    "plt.plot(simrnn.history['loss'], label='loss')\n",
    "plt.plot(simrnn.history['val_loss'], label='val_loss')\n",
    "plt.legend()\n",
    "plt.show()\n",
    "plt.savefig(\"Loss plot.jpg\")"
   ]
  },
  {
   "cell_type": "code",
   "execution_count": 67,
   "metadata": {},
   "outputs": [
    {
     "name": "stderr",
     "output_type": "stream",
     "text": [
      "C:\\Users\\Sudhakor Das\\anaconda3\\envs\\tensor\\lib\\site-packages\\tensorflow\\python\\keras\\engine\\sequential.py:450: UserWarning: `model.predict_classes()` is deprecated and will be removed after 2021-01-01. Please use instead:* `np.argmax(model.predict(x), axis=-1)`,   if your model does multi-class classification   (e.g. if it uses a `softmax` last-layer activation).* `(model.predict(x) > 0.5).astype(\"int32\")`,   if your model does binary classification   (e.g. if it uses a `sigmoid` last-layer activation).\n",
      "  warnings.warn('`model.predict_classes()` is deprecated and '\n"
     ]
    },
    {
     "name": "stdout",
     "output_type": "stream",
     "text": [
      "12/12 [==============================] - 1s 9ms/step\n",
      "Confusion Matrix\n",
      "============================================================\n",
      "[[165  10]\n",
      " [ 25 163]] \n",
      "\n",
      "Classification Report\n",
      "============================================================\n",
      "              precision    recall  f1-score   support\n",
      "\n",
      "           0       0.87      0.94      0.90       175\n",
      "           1       0.94      0.87      0.90       188\n",
      "\n",
      "    accuracy                           0.90       363\n",
      "   macro avg       0.91      0.90      0.90       363\n",
      "weighted avg       0.91      0.90      0.90       363\n",
      " \n",
      "\n",
      "Accuracy Score\n",
      "============================================================\n",
      "0.9035812672176309\n"
     ]
    }
   ],
   "source": [
    "test_eval(simrnn_model, X_test, y_test, algo='SimpleRNN')"
   ]
  },
  {
   "cell_type": "code",
   "execution_count": 68,
   "metadata": {},
   "outputs": [
    {
     "data": {
      "text/plain": [
       "[0.9]"
      ]
     },
     "execution_count": 68,
     "metadata": {},
     "output_type": "execute_result"
    }
   ],
   "source": [
    "Accuracy"
   ]
  },
  {
   "cell_type": "code",
   "execution_count": 221,
   "metadata": {},
   "outputs": [],
   "source": [
    "def predict_sentiment(text):\n",
    "    tw = tokenizer.texts_to_sequences([text])\n",
    "    print(tw)\n",
    "    tw = pad_sequences(tw,maxlen=15)\n",
    "    print(tw)\n",
    "\n",
    "    pred = model.predict(tw)\n",
    "    print(pred)\n",
    "    #prediction = int(model.predict(tw).round().item())\n",
    "    \n",
    "    if pred < .5:\n",
    "        sen = 0\n",
    "    else:\n",
    "        sen = 1\n",
    "        \n",
    "    #print(prediction)\n",
    "    print(\"Predicted label: \", comment_label[1][sen])\n"
   ]
  },
  {
   "cell_type": "code",
   "execution_count": 222,
   "metadata": {},
   "outputs": [
    {
     "name": "stdout",
     "output_type": "stream",
     "text": [
      "[[24, 1164]]\n",
      "[[   0    0    0    0    0    0    0    0    0    0    0    0    0   24\n",
      "  1164]]\n",
      "WARNING:tensorflow:Model was constructed with shape (None, 10) for input KerasTensor(type_spec=TensorSpec(shape=(None, 10), dtype=tf.float32, name='embedding_input'), name='embedding_input', description=\"created by layer 'embedding_input'\"), but it was called on an input with incompatible shape (None, 15).\n",
      "[[0.8618845]]\n",
      "Predicted label:  No\n"
     ]
    }
   ],
   "source": [
    "text = 'আই তোয়ারে ভালোবাসি '\n",
    "predict_sentiment(text)"
   ]
  },
  {
   "cell_type": "code",
   "execution_count": null,
   "metadata": {},
   "outputs": [],
   "source": []
  },
  {
   "cell_type": "markdown",
   "metadata": {},
   "source": [
    "# Stacked_LSTM"
   ]
  },
  {
   "cell_type": "code",
   "execution_count": 77,
   "metadata": {},
   "outputs": [
    {
     "name": "stdout",
     "output_type": "stream",
     "text": [
      "Model: \"sequential_17\"\n",
      "_________________________________________________________________\n",
      "Layer (type)                 Output Shape              Param #   \n",
      "=================================================================\n",
      "embedding (Embedding)        (None, 20, 100)           463900    \n",
      "_________________________________________________________________\n",
      "spatial_dropout1d_3 (Spatial (None, 20, 100)           0         \n",
      "_________________________________________________________________\n",
      "lstm_13 (LSTM)               (None, 20, 50)            30200     \n",
      "_________________________________________________________________\n",
      "dropout_13 (Dropout)         (None, 20, 50)            0         \n",
      "_________________________________________________________________\n",
      "lstm_14 (LSTM)               (None, 150)               120600    \n",
      "_________________________________________________________________\n",
      "dropout_14 (Dropout)         (None, 150)               0         \n",
      "_________________________________________________________________\n",
      "dense_17 (Dense)             (None, 1)                 151       \n",
      "=================================================================\n",
      "Total params: 614,851\n",
      "Trainable params: 150,951\n",
      "Non-trainable params: 463,900\n",
      "_________________________________________________________________\n",
      "None\n"
     ]
    }
   ],
   "source": [
    "maxlen = 20\n",
    "\n",
    "Stacked_LSTM = Sequential() \n",
    "\n",
    "Stacked_LSTM.add(Embedding(vocab_size ,W2V_SIZE, weights=[embedding_matrix] , input_length = maxlen, name = \"embedding\", trainable = False))\n",
    "Stacked_LSTM.add(SpatialDropout1D(0.25))\n",
    "Stacked_LSTM.add(LSTM(50, dropout=0.5, recurrent_dropout=0.5, return_sequences=True ))\n",
    "Stacked_LSTM.add(Dropout(0.2))\n",
    "Stacked_LSTM.add(LSTM(150, dropout=0.5, recurrent_dropout=0.5 ))\n",
    "Stacked_LSTM.add(Dropout(0.2))\n",
    "#Stacked_LSTM.add(LSTM(150, dropout=0.5, recurrent_dropout=0.5))\n",
    "#Stacked_LSTM.add(Dropout(0.2))\n",
    "#Stacked_LSTM.add(LSTM(180, dropout=0.5, recurrent_dropout=0.5, return_sequences=True ))\n",
    "#Stacked_LSTM.add(Dropout(0.2))\n",
    "#Stacked_LSTM.add(LSTM(200, dropout=0.5, recurrent_dropout=0.5))\n",
    "#Stacked_LSTM.add(Dropout(0.2))\n",
    "Stacked_LSTM.add(Dense(1, activation='sigmoid')) \n",
    "Stacked_LSTM.compile(loss='binary_crossentropy',optimizer='adam', metrics=['accuracy'])  \n",
    "print(Stacked_LSTM.summary()) "
   ]
  },
  {
   "cell_type": "code",
   "execution_count": 78,
   "metadata": {},
   "outputs": [
    {
     "name": "stdout",
     "output_type": "stream",
     "text": [
      "Epoch 1/20\n",
      "19/19 [==============================] - 19s 279ms/step - loss: 0.6845 - accuracy: 0.5447 - val_loss: 0.6432 - val_accuracy: 0.6284\n",
      "Epoch 2/20\n",
      "19/19 [==============================] - 2s 122ms/step - loss: 0.6362 - accuracy: 0.6427 - val_loss: 0.6294 - val_accuracy: 0.6486\n",
      "Epoch 3/20\n",
      "19/19 [==============================] - 4s 233ms/step - loss: 0.6505 - accuracy: 0.6084 - val_loss: 0.6312 - val_accuracy: 0.6351\n",
      "Epoch 4/20\n",
      "19/19 [==============================] - 3s 162ms/step - loss: 0.6449 - accuracy: 0.6288 - val_loss: 0.6230 - val_accuracy: 0.6351\n",
      "Epoch 5/20\n",
      "19/19 [==============================] - 4s 193ms/step - loss: 0.6175 - accuracy: 0.6463 - val_loss: 0.6193 - val_accuracy: 0.6486\n",
      "Epoch 6/20\n",
      "19/19 [==============================] - 4s 234ms/step - loss: 0.6350 - accuracy: 0.6380 - val_loss: 0.6190 - val_accuracy: 0.6284\n",
      "Epoch 7/20\n",
      "19/19 [==============================] - 2s 125ms/step - loss: 0.6226 - accuracy: 0.6497 - val_loss: 0.6222 - val_accuracy: 0.6486\n",
      "Epoch 8/20\n",
      "19/19 [==============================] - 4s 223ms/step - loss: 0.6001 - accuracy: 0.6825 - val_loss: 0.6047 - val_accuracy: 0.6486\n",
      "Epoch 9/20\n",
      "19/19 [==============================] - 3s 134ms/step - loss: 0.6116 - accuracy: 0.6819 - val_loss: 0.6078 - val_accuracy: 0.6351\n",
      "Epoch 10/20\n",
      "19/19 [==============================] - 4s 213ms/step - loss: 0.6495 - accuracy: 0.6139 - val_loss: 0.6225 - val_accuracy: 0.6486\n",
      "Epoch 11/20\n",
      "19/19 [==============================] - 3s 153ms/step - loss: 0.6033 - accuracy: 0.6593 - val_loss: 0.6132 - val_accuracy: 0.6419\n",
      "Epoch 12/20\n",
      "19/19 [==============================] - 4s 190ms/step - loss: 0.5939 - accuracy: 0.6617 - val_loss: 0.6273 - val_accuracy: 0.6351\n",
      "Epoch 13/20\n",
      "19/19 [==============================] - 4s 213ms/step - loss: 0.6151 - accuracy: 0.6636 - val_loss: 0.6022 - val_accuracy: 0.6486\n",
      "Epoch 14/20\n",
      "19/19 [==============================] - 3s 154ms/step - loss: 0.6094 - accuracy: 0.6591 - val_loss: 0.6023 - val_accuracy: 0.6554\n",
      "Epoch 15/20\n",
      "19/19 [==============================] - 4s 233ms/step - loss: 0.6189 - accuracy: 0.6592 - val_loss: 0.6013 - val_accuracy: 0.6622\n",
      "Epoch 16/20\n",
      "19/19 [==============================] - 4s 195ms/step - loss: 0.6059 - accuracy: 0.6610 - val_loss: 0.5996 - val_accuracy: 0.6757\n",
      "Epoch 17/20\n",
      "19/19 [==============================] - 3s 147ms/step - loss: 0.5728 - accuracy: 0.6792 - val_loss: 0.6220 - val_accuracy: 0.6419\n",
      "Epoch 18/20\n",
      "19/19 [==============================] - 4s 228ms/step - loss: 0.5978 - accuracy: 0.6619 - val_loss: 0.5972 - val_accuracy: 0.6824\n",
      "Epoch 19/20\n",
      "19/19 [==============================] - 2s 130ms/step - loss: 0.5862 - accuracy: 0.6990 - val_loss: 0.6024 - val_accuracy: 0.6689\n",
      "Epoch 20/20\n",
      "19/19 [==============================] - 4s 230ms/step - loss: 0.5845 - accuracy: 0.6995 - val_loss: 0.6031 - val_accuracy: 0.6622\n"
     ]
    }
   ],
   "source": [
    "stack_lstm = Stacked_LSTM.fit(X_train,y_train,validation_split=0.2, epochs=20)"
   ]
  },
  {
   "cell_type": "code",
   "execution_count": 228,
   "metadata": {},
   "outputs": [
    {
     "data": {
      "image/png": "[encoded data removed]",
      "text/plain": [
       "<Figure size 432x288 with 1 Axes>"
      ]
     },
     "metadata": {
      "needs_background": "light"
     },
     "output_type": "display_data"
    },
    {
     "data": {
      "image/png": "[encoded data removed]",
      "text/plain": [
       "<Figure size 432x288 with 1 Axes>"
      ]
     },
     "metadata": {
      "needs_background": "light"
     },
     "output_type": "display_data"
    },
    {
     "data": {
      "text/plain": [
       "<Figure size 432x288 with 0 Axes>"
      ]
     },
     "metadata": {},
     "output_type": "display_data"
    }
   ],
   "source": [
    "plt.plot(stack_lstm.history['accuracy'], label='acc')\n",
    "plt.plot(stack_lstm.history['val_accuracy'], label='val_acc')\n",
    "plt.legend()\n",
    "plt.show()\n",
    "plt.savefig(\"Accuracy plot.jpg\")\n",
    "\n",
    "\n",
    "# In[25]:\n",
    "\n",
    "\n",
    "plt.plot(stack_lstm.history['loss'], label='loss')\n",
    "plt.plot(stack_lstm.history['val_loss'], label='val_loss')\n",
    "plt.legend()\n",
    "plt.show()\n",
    "plt.savefig(\"Loss plot.jpg\")"
   ]
  },
  {
   "cell_type": "code",
   "execution_count": 79,
   "metadata": {},
   "outputs": [
    {
     "name": "stderr",
     "output_type": "stream",
     "text": [
      "C:\\Users\\Sudhakor Das\\anaconda3\\envs\\tensor\\lib\\site-packages\\tensorflow\\python\\keras\\engine\\sequential.py:450: UserWarning: `model.predict_classes()` is deprecated and will be removed after 2021-01-01. Please use instead:* `np.argmax(model.predict(x), axis=-1)`,   if your model does multi-class classification   (e.g. if it uses a `softmax` last-layer activation).* `(model.predict(x) > 0.5).astype(\"int32\")`,   if your model does binary classification   (e.g. if it uses a `sigmoid` last-layer activation).\n",
      "  warnings.warn('`model.predict_classes()` is deprecated and '\n"
     ]
    },
    {
     "name": "stdout",
     "output_type": "stream",
     "text": [
      "12/12 [==============================] - 1s 23ms/step\n",
      "Confusion Matrix\n",
      "============================================================\n",
      "[[ 79  96]\n",
      " [ 21 167]] \n",
      "\n",
      "Classification Report\n",
      "============================================================\n",
      "              precision    recall  f1-score   support\n",
      "\n",
      "           0       0.79      0.45      0.57       175\n",
      "           1       0.63      0.89      0.74       188\n",
      "\n",
      "    accuracy                           0.68       363\n",
      "   macro avg       0.71      0.67      0.66       363\n",
      "weighted avg       0.71      0.68      0.66       363\n",
      " \n",
      "\n",
      "Accuracy Score\n",
      "============================================================\n",
      "0.6776859504132231\n"
     ]
    }
   ],
   "source": [
    "test_eval(Stacked_LSTM, X_test, y_test, algo='Satcked-LSTM')"
   ]
  },
  {
   "cell_type": "markdown",
   "metadata": {},
   "source": [
    "# Stacked_BiLSTM"
   ]
  },
  {
   "cell_type": "code",
   "execution_count": 88,
   "metadata": {},
   "outputs": [
    {
     "name": "stdout",
     "output_type": "stream",
     "text": [
      "Model: \"sequential_22\"\n",
      "_________________________________________________________________\n",
      "Layer (type)                 Output Shape              Param #   \n",
      "=================================================================\n",
      "embedding (Embedding)        (None, 20, 100)           463900    \n",
      "_________________________________________________________________\n",
      "bidirectional_9 (Bidirection (None, 20, 100)           60400     \n",
      "_________________________________________________________________\n",
      "dropout_24 (Dropout)         (None, 20, 100)           0         \n",
      "_________________________________________________________________\n",
      "bidirectional_10 (Bidirectio (None, 20, 200)           160800    \n",
      "_________________________________________________________________\n",
      "bidirectional_11 (Bidirectio (None, 300)               421200    \n",
      "_________________________________________________________________\n",
      "dropout_25 (Dropout)         (None, 300)               0         \n",
      "_________________________________________________________________\n",
      "dense_25 (Dense)             (None, 1)                 301       \n",
      "=================================================================\n",
      "Total params: 1,106,601\n",
      "Trainable params: 642,701\n",
      "Non-trainable params: 463,900\n",
      "_________________________________________________________________\n",
      "None\n"
     ]
    }
   ],
   "source": [
    "maxlen = 20\n",
    "bilstm_model = Sequential() \n",
    "bilstm_model.add(Embedding(vocab_size ,W2V_SIZE, weights=[embedding_matrix] , input_length = maxlen, name = \"embedding\", trainable = False))\n",
    "\n",
    "#bilstm_model.add(Embedding(vocab_size, embedding_vector_length, input_length=maxlen))\n",
    "bilstm_model.add(Bidirectional(LSTM(50, return_sequences=True)))\n",
    "bilstm_model.add(Dropout(0.2))\n",
    "bilstm_model.add(Bidirectional(LSTM(100, return_sequences=True)))\n",
    "#bilstm_model.add(Dropout(0.2))\n",
    "bilstm_model.add(Bidirectional(LSTM(150)))\n",
    "\n",
    "\n",
    "#bilstm_model.add(Dense(64, activation='relu'))\n",
    "bilstm_model.add(Dropout(0.1))\n",
    "bilstm_model.add(Dense(1, activation='sigmoid'))\n",
    "\n",
    " \n",
    "bilstm_model.compile(loss='binary_crossentropy',optimizer='adam', metrics=['accuracy'])  \n",
    "print(bilstm_model.summary()) "
   ]
  },
  {
   "cell_type": "code",
   "execution_count": 89,
   "metadata": {},
   "outputs": [
    {
     "name": "stdout",
     "output_type": "stream",
     "text": [
      "Epoch 1/20\n",
      "19/19 [==============================] - 31s 493ms/step - loss: 0.6735 - accuracy: 0.5408 - val_loss: 0.6336 - val_accuracy: 0.6351\n",
      "Epoch 2/20\n",
      "19/19 [==============================] - 4s 206ms/step - loss: 0.6509 - accuracy: 0.6449 - val_loss: 0.6183 - val_accuracy: 0.6486\n",
      "Epoch 3/20\n",
      "19/19 [==============================] - 6s 306ms/step - loss: 0.5984 - accuracy: 0.6668 - val_loss: 0.6412 - val_accuracy: 0.6689\n",
      "Epoch 4/20\n",
      "19/19 [==============================] - 6s 307ms/step - loss: 0.6288 - accuracy: 0.6375 - val_loss: 0.5982 - val_accuracy: 0.6622\n",
      "Epoch 5/20\n",
      "19/19 [==============================] - 6s 317ms/step - loss: 0.6002 - accuracy: 0.6870 - val_loss: 0.6323 - val_accuracy: 0.6419\n",
      "Epoch 6/20\n",
      "19/19 [==============================] - 6s 311ms/step - loss: 0.6064 - accuracy: 0.6584 - val_loss: 0.5925 - val_accuracy: 0.6824\n",
      "Epoch 7/20\n",
      "19/19 [==============================] - 6s 309ms/step - loss: 0.6181 - accuracy: 0.6365 - val_loss: 0.5972 - val_accuracy: 0.6757\n",
      "Epoch 8/20\n",
      "19/19 [==============================] - 6s 307ms/step - loss: 0.5913 - accuracy: 0.6781 - val_loss: 0.5956 - val_accuracy: 0.6622\n",
      "Epoch 9/20\n",
      "19/19 [==============================] - 5s 287ms/step - loss: 0.5766 - accuracy: 0.6975 - val_loss: 0.5763 - val_accuracy: 0.6689\n",
      "Epoch 10/20\n",
      "19/19 [==============================] - 5s 235ms/step - loss: 0.5694 - accuracy: 0.7090 - val_loss: 0.5767 - val_accuracy: 0.6757\n",
      "Epoch 11/20\n",
      "19/19 [==============================] - 5s 258ms/step - loss: 0.5703 - accuracy: 0.7077 - val_loss: 0.5790 - val_accuracy: 0.6689\n",
      "Epoch 12/20\n",
      "19/19 [==============================] - 6s 297ms/step - loss: 0.6010 - accuracy: 0.6461 - val_loss: 0.5868 - val_accuracy: 0.6892\n",
      "Epoch 13/20\n",
      "19/19 [==============================] - 6s 326ms/step - loss: 0.5712 - accuracy: 0.6629 - val_loss: 0.6194 - val_accuracy: 0.6689\n",
      "Epoch 14/20\n",
      "19/19 [==============================] - 6s 305ms/step - loss: 0.6004 - accuracy: 0.6614 - val_loss: 0.5762 - val_accuracy: 0.6757\n",
      "Epoch 15/20\n",
      "19/19 [==============================] - 6s 309ms/step - loss: 0.5666 - accuracy: 0.6968 - val_loss: 0.5760 - val_accuracy: 0.6959\n",
      "Epoch 16/20\n",
      "19/19 [==============================] - 6s 317ms/step - loss: 0.5907 - accuracy: 0.6448 - val_loss: 0.5712 - val_accuracy: 0.7162\n",
      "Epoch 17/20\n",
      "19/19 [==============================] - 7s 398ms/step - loss: 0.5853 - accuracy: 0.6762 - val_loss: 0.5676 - val_accuracy: 0.6892\n",
      "Epoch 18/20\n",
      "19/19 [==============================] - 6s 281ms/step - loss: 0.5572 - accuracy: 0.6849 - val_loss: 0.5842 - val_accuracy: 0.7365\n",
      "Epoch 19/20\n",
      "19/19 [==============================] - 7s 340ms/step - loss: 0.5627 - accuracy: 0.7076 - val_loss: 0.5773 - val_accuracy: 0.6892\n",
      "Epoch 20/20\n",
      "19/19 [==============================] - 6s 317ms/step - loss: 0.5739 - accuracy: 0.6822 - val_loss: 0.5776 - val_accuracy: 0.7230\n"
     ]
    }
   ],
   "source": [
    "stack_bilstm = bilstm_model.fit(X_train,y_train,validation_split=0.2, epochs=20)"
   ]
  },
  {
   "cell_type": "code",
   "execution_count": 90,
   "metadata": {},
   "outputs": [
    {
     "data": {
      "image/png": "[encoded data removed]",
      "text/plain": [
       "<Figure size 432x288 with 1 Axes>"
      ]
     },
     "metadata": {
      "needs_background": "light"
     },
     "output_type": "display_data"
    },
    {
     "data": {
      "image/png": "[encoded data removed]",
      "text/plain": [
       "<Figure size 432x288 with 1 Axes>"
      ]
     },
     "metadata": {
      "needs_background": "light"
     },
     "output_type": "display_data"
    },
    {
     "data": {
      "text/plain": [
       "<Figure size 432x288 with 0 Axes>"
      ]
     },
     "metadata": {},
     "output_type": "display_data"
    }
   ],
   "source": [
    "plt.plot(stack_bilstm.history['accuracy'], label='acc')\n",
    "plt.plot(stack_bilstm.history['val_accuracy'], label='val_acc')\n",
    "plt.legend()\n",
    "plt.show()\n",
    "plt.savefig(\"Accuracy plot.jpg\")\n",
    "\n",
    "\n",
    "# In[25]:\n",
    "\n",
    "\n",
    "plt.plot(stack_bilstm.history['loss'], label='loss')\n",
    "plt.plot(stack_bilstm.history['val_loss'], label='val_loss')\n",
    "plt.legend()\n",
    "plt.show()\n",
    "plt.savefig(\"Loss plot.jpg\")"
   ]
  },
  {
   "cell_type": "code",
   "execution_count": 91,
   "metadata": {},
   "outputs": [
    {
     "name": "stderr",
     "output_type": "stream",
     "text": [
      "C:\\Users\\Sudhakor Das\\anaconda3\\envs\\tensor\\lib\\site-packages\\tensorflow\\python\\keras\\engine\\sequential.py:450: UserWarning: `model.predict_classes()` is deprecated and will be removed after 2021-01-01. Please use instead:* `np.argmax(model.predict(x), axis=-1)`,   if your model does multi-class classification   (e.g. if it uses a `softmax` last-layer activation).* `(model.predict(x) > 0.5).astype(\"int32\")`,   if your model does binary classification   (e.g. if it uses a `sigmoid` last-layer activation).\n",
      "  warnings.warn('`model.predict_classes()` is deprecated and '\n"
     ]
    },
    {
     "name": "stdout",
     "output_type": "stream",
     "text": [
      "12/12 [==============================] - 5s 70ms/step\n",
      "Confusion Matrix\n",
      "============================================================\n",
      "[[123  52]\n",
      " [ 72 116]] \n",
      "\n",
      "Classification Report\n",
      "============================================================\n",
      "              precision    recall  f1-score   support\n",
      "\n",
      "           0       0.63      0.70      0.66       175\n",
      "           1       0.69      0.62      0.65       188\n",
      "\n",
      "    accuracy                           0.66       363\n",
      "   macro avg       0.66      0.66      0.66       363\n",
      "weighted avg       0.66      0.66      0.66       363\n",
      " \n",
      "\n",
      "Accuracy Score\n",
      "============================================================\n",
      "0.6584022038567493\n"
     ]
    }
   ],
   "source": [
    "test_eval(bilstm_model, X_test, y_test, algo='Satcked-Bilstm')"
   ]
  },
  {
   "cell_type": "code",
   "execution_count": 160,
   "metadata": {},
   "outputs": [],
   "source": [
    "def predict_sentiment(text):\n",
    "    tw = tokenizer.texts_to_sequences([text])\n",
    "    print(tw)\n",
    "    tw = pad_sequences(tw,maxlen=15)\n",
    "    print(tw)\n",
    "\n",
    "    pred = bi_model.predict(tw)\n",
    "    print(pred)\n",
    "    #prediction = int(model.predict(tw).round().item())\n",
    "    #print(prediction)\n",
    "    if pred < .5:\n",
    "        sen = 0\n",
    "    else:\n",
    "        sen = 1\n",
    "    print(\"Predicted label: \", comment_label[1][sen])\n"
   ]
  },
  {
   "cell_type": "code",
   "execution_count": 168,
   "metadata": {},
   "outputs": [
    {
     "name": "stdout",
     "output_type": "stream",
     "text": [
      "[[37, 99, 4751]]\n",
      "[[   0    0    0    0    0    0    0    0    0    0    0    0   37   99\n",
      "  4751]]\n",
      "[[0.99962115]]\n",
      "Predicted label:  No\n"
     ]
    }
   ],
   "source": [
    "text = 'বএতল্লাই তো এক নম্বর আইগেয়ু বালি'\n",
    "predict_sentiment(text)"
   ]
  },
  {
   "cell_type": "markdown",
   "metadata": {},
   "source": [
    "# Stacked_GRU"
   ]
  },
  {
   "cell_type": "code",
   "execution_count": 100,
   "metadata": {},
   "outputs": [
    {
     "name": "stdout",
     "output_type": "stream",
     "text": [
      "Model: \"sequential_29\"\n",
      "_________________________________________________________________\n",
      "Layer (type)                 Output Shape              Param #   \n",
      "=================================================================\n",
      "embedding (Embedding)        (None, 20, 100)           463900    \n",
      "_________________________________________________________________\n",
      "gru_18 (GRU)                 (None, 20, 50)            22800     \n",
      "_________________________________________________________________\n",
      "dropout_44 (Dropout)         (None, 20, 50)            0         \n",
      "_________________________________________________________________\n",
      "gru_19 (GRU)                 (None, 20, 80)            31680     \n",
      "_________________________________________________________________\n",
      "dropout_45 (Dropout)         (None, 20, 80)            0         \n",
      "_________________________________________________________________\n",
      "gru_20 (GRU)                 (None, 100)               54600     \n",
      "_________________________________________________________________\n",
      "dropout_46 (Dropout)         (None, 100)               0         \n",
      "_________________________________________________________________\n",
      "dense_32 (Dense)             (None, 1)                 101       \n",
      "=================================================================\n",
      "Total params: 573,081\n",
      "Trainable params: 109,181\n",
      "Non-trainable params: 463,900\n",
      "_________________________________________________________________\n",
      "None\n",
      "Epoch 1/30\n",
      "19/19 [==============================] - 10s 141ms/step - loss: 0.6946 - accuracy: 0.4631 - val_loss: 0.6911 - val_accuracy: 0.5270\n",
      "Epoch 2/30\n",
      "19/19 [==============================] - 2s 82ms/step - loss: 0.6913 - accuracy: 0.5038 - val_loss: 0.6883 - val_accuracy: 0.5270\n",
      "Epoch 3/30\n",
      "19/19 [==============================] - 2s 83ms/step - loss: 0.6844 - accuracy: 0.5138 - val_loss: 0.6587 - val_accuracy: 0.5946\n",
      "Epoch 4/30\n",
      "19/19 [==============================] - 2s 83ms/step - loss: 0.6465 - accuracy: 0.6430 - val_loss: 0.5751 - val_accuracy: 0.6892\n",
      "Epoch 5/30\n",
      "19/19 [==============================] - 3s 190ms/step - loss: 0.6129 - accuracy: 0.6677 - val_loss: 0.5914 - val_accuracy: 0.7365\n",
      "Epoch 6/30\n",
      "19/19 [==============================] - 2s 91ms/step - loss: 0.5904 - accuracy: 0.6751 - val_loss: 0.5697 - val_accuracy: 0.6892\n",
      "Epoch 7/30\n",
      "19/19 [==============================] - 2s 100ms/step - loss: 0.5821 - accuracy: 0.6980 - val_loss: 0.5849 - val_accuracy: 0.7230\n",
      "Epoch 8/30\n",
      "19/19 [==============================] - 3s 145ms/step - loss: 0.6156 - accuracy: 0.6421 - val_loss: 0.5742 - val_accuracy: 0.7365\n",
      "Epoch 9/30\n",
      "19/19 [==============================] - 2s 84ms/step - loss: 0.6176 - accuracy: 0.6301 - val_loss: 0.5651 - val_accuracy: 0.6959\n",
      "Epoch 10/30\n",
      "19/19 [==============================] - 4s 231ms/step - loss: 0.5606 - accuracy: 0.7107 - val_loss: 0.5695 - val_accuracy: 0.6824\n",
      "Epoch 11/30\n",
      "19/19 [==============================] - 2s 84ms/step - loss: 0.5671 - accuracy: 0.7041 - val_loss: 0.5807 - val_accuracy: 0.6824\n",
      "Epoch 12/30\n",
      "19/19 [==============================] - 2s 84ms/step - loss: 0.5924 - accuracy: 0.6637 - val_loss: 0.5651 - val_accuracy: 0.6959\n",
      "Epoch 13/30\n",
      "19/19 [==============================] - 3s 170ms/step - loss: 0.5858 - accuracy: 0.6630 - val_loss: 0.5688 - val_accuracy: 0.6892\n",
      "Epoch 14/30\n",
      "19/19 [==============================] - 2s 84ms/step - loss: 0.5553 - accuracy: 0.6977 - val_loss: 0.5647 - val_accuracy: 0.6892\n",
      "Epoch 15/30\n",
      "19/19 [==============================] - 2s 86ms/step - loss: 0.5819 - accuracy: 0.6843 - val_loss: 0.5648 - val_accuracy: 0.7027\n",
      "Epoch 16/30\n",
      "19/19 [==============================] - 3s 174ms/step - loss: 0.5667 - accuracy: 0.6918 - val_loss: 0.5665 - val_accuracy: 0.6892\n",
      "Epoch 17/30\n",
      "19/19 [==============================] - 2s 88ms/step - loss: 0.5715 - accuracy: 0.6893 - val_loss: 0.5776 - val_accuracy: 0.6959\n",
      "Epoch 18/30\n",
      "19/19 [==============================] - 2s 119ms/step - loss: 0.5665 - accuracy: 0.7021 - val_loss: 0.5802 - val_accuracy: 0.7297\n",
      "Epoch 19/30\n",
      "19/19 [==============================] - 3s 136ms/step - loss: 0.5475 - accuracy: 0.7076 - val_loss: 0.5691 - val_accuracy: 0.6892\n",
      "Epoch 20/30\n",
      "19/19 [==============================] - 2s 88ms/step - loss: 0.5634 - accuracy: 0.6849 - val_loss: 0.5824 - val_accuracy: 0.7365\n",
      "Epoch 21/30\n",
      "19/19 [==============================] - 3s 166ms/step - loss: 0.5682 - accuracy: 0.6650 - val_loss: 0.5731 - val_accuracy: 0.7027\n",
      "Epoch 22/30\n",
      "19/19 [==============================] - 2s 89ms/step - loss: 0.5658 - accuracy: 0.6834 - val_loss: 0.5741 - val_accuracy: 0.6959\n",
      "Epoch 23/30\n",
      "19/19 [==============================] - 2s 89ms/step - loss: 0.5727 - accuracy: 0.6770 - val_loss: 0.5787 - val_accuracy: 0.6959\n",
      "Epoch 24/30\n",
      "19/19 [==============================] - 3s 175ms/step - loss: 0.5904 - accuracy: 0.6867 - val_loss: 0.5770 - val_accuracy: 0.6892\n",
      "Epoch 25/30\n",
      "19/19 [==============================] - 2s 94ms/step - loss: 0.5583 - accuracy: 0.6830 - val_loss: 0.5797 - val_accuracy: 0.6824\n",
      "Epoch 26/30\n",
      "19/19 [==============================] - 2s 130ms/step - loss: 0.5739 - accuracy: 0.6687 - val_loss: 0.5788 - val_accuracy: 0.6757\n",
      "Epoch 27/30\n",
      "19/19 [==============================] - 2s 124ms/step - loss: 0.5573 - accuracy: 0.7028 - val_loss: 0.5784 - val_accuracy: 0.6892\n",
      "Epoch 28/30\n",
      "19/19 [==============================] - 2s 84ms/step - loss: 0.5521 - accuracy: 0.6850 - val_loss: 0.5810 - val_accuracy: 0.6689\n",
      "Epoch 29/30\n",
      "19/19 [==============================] - 3s 162ms/step - loss: 0.5564 - accuracy: 0.6928 - val_loss: 0.5809 - val_accuracy: 0.6959\n",
      "Epoch 30/30\n",
      "19/19 [==============================] - 2s 89ms/step - loss: 0.5425 - accuracy: 0.6939 - val_loss: 0.5844 - val_accuracy: 0.6757\n"
     ]
    }
   ],
   "source": [
    "\n",
    "maxlen = 20\n",
    "gru_model = Sequential() \n",
    "\n",
    "gru_model.add(Embedding(vocab_size ,W2V_SIZE, weights=[embedding_matrix] , input_length = maxlen, name = \"embedding\", trainable = False))\n",
    "\n",
    "#gru_model.add(Embedding(vocab_size, embedding_vector_length, input_length=maxlen))\n",
    "\n",
    "gru_model.add(GRU(50, return_sequences=True, activation='relu'))\n",
    "gru_model.add(Dropout(0.2))\n",
    "# Second GRU layer\n",
    "gru_model.add(GRU(80, return_sequences=True, activation='relu'))\n",
    "gru_model.add(Dropout(0.2))\n",
    "#Third GRU layer\n",
    "gru_model.add(GRU(100, activation='relu'))\n",
    "gru_model.add(Dropout(0.2))\n",
    "# Fourth GRU layer\n",
    "#gru_model.add(GRU(units=50, activation='relu'))\n",
    "#gru_model.add(Dropout(0.2))\n",
    "# The output layer\n",
    "gru_model.add(Dense(1, activation='sigmoid'))\n",
    "\n",
    " \n",
    "gru_model.compile(loss='binary_crossentropy',optimizer='adam', metrics=['accuracy'])  \n",
    "print(gru_model.summary()) \n",
    "\n",
    "stack_gru = gru_model.fit(X_train,y_train,validation_split=0.2, epochs=30)"
   ]
  },
  {
   "cell_type": "code",
   "execution_count": 101,
   "metadata": {},
   "outputs": [
    {
     "data": {
      "image/png": "[encoded data removed]",
      "text/plain": [
       "<Figure size 432x288 with 1 Axes>"
      ]
     },
     "metadata": {
      "needs_background": "light"
     },
     "output_type": "display_data"
    },
    {
     "data": {
      "image/png": "[encoded data removed]",
      "text/plain": [
       "<Figure size 432x288 with 1 Axes>"
      ]
     },
     "metadata": {
      "needs_background": "light"
     },
     "output_type": "display_data"
    },
    {
     "data": {
      "text/plain": [
       "<Figure size 432x288 with 0 Axes>"
      ]
     },
     "metadata": {},
     "output_type": "display_data"
    }
   ],
   "source": [
    "plt.plot(stack_gru.history['accuracy'], label='acc')\n",
    "plt.plot(stack_gru.history['val_accuracy'], label='val_acc')\n",
    "plt.legend()\n",
    "plt.show()\n",
    "plt.savefig(\"Accuracy plot.jpg\")\n",
    "\n",
    "\n",
    "# In[25]:\n",
    "\n",
    "\n",
    "plt.plot(stack_gru.history['loss'], label='loss')\n",
    "plt.plot(stack_gru.history['val_loss'], label='val_loss')\n",
    "plt.legend()\n",
    "plt.show()\n",
    "plt.savefig(\"Loss plot.jpg\")"
   ]
  },
  {
   "cell_type": "code",
   "execution_count": 102,
   "metadata": {},
   "outputs": [
    {
     "name": "stderr",
     "output_type": "stream",
     "text": [
      "C:\\Users\\Sudhakor Das\\anaconda3\\envs\\tensor\\lib\\site-packages\\tensorflow\\python\\keras\\engine\\sequential.py:450: UserWarning: `model.predict_classes()` is deprecated and will be removed after 2021-01-01. Please use instead:* `np.argmax(model.predict(x), axis=-1)`,   if your model does multi-class classification   (e.g. if it uses a `softmax` last-layer activation).* `(model.predict(x) > 0.5).astype(\"int32\")`,   if your model does binary classification   (e.g. if it uses a `sigmoid` last-layer activation).\n",
      "  warnings.warn('`model.predict_classes()` is deprecated and '\n"
     ]
    },
    {
     "name": "stdout",
     "output_type": "stream",
     "text": [
      "12/12 [==============================] - 1s 31ms/step\n",
      "Confusion Matrix\n",
      "============================================================\n",
      "[[ 95  80]\n",
      " [ 36 152]] \n",
      "\n",
      "Classification Report\n",
      "============================================================\n",
      "              precision    recall  f1-score   support\n",
      "\n",
      "           0       0.73      0.54      0.62       175\n",
      "           1       0.66      0.81      0.72       188\n",
      "\n",
      "    accuracy                           0.68       363\n",
      "   macro avg       0.69      0.68      0.67       363\n",
      "weighted avg       0.69      0.68      0.67       363\n",
      " \n",
      "\n",
      "Accuracy Score\n",
      "============================================================\n",
      "0.6804407713498623\n"
     ]
    }
   ],
   "source": [
    "test_eval(gru_model, X_test, y_test, algo='Satcked-GRU')"
   ]
  },
  {
   "cell_type": "code",
   "execution_count": null,
   "metadata": {},
   "outputs": [],
   "source": []
  },
  {
   "cell_type": "code",
   "execution_count": 192,
   "metadata": {},
   "outputs": [],
   "source": [
    "def predict_sentiment(text):\n",
    "    tw = tokenizer.texts_to_sequences([text])\n",
    "    print(tw)\n",
    "    tw = pad_sequences(tw,maxlen=15)\n",
    "    print(tw)\n",
    "\n",
    "    pred = gru_model.predict(tw)\n",
    "    print(pred)\n",
    "    #prediction = int(model.predict(tw).round().item())\n",
    "    #print(prediction)\n",
    "    if pred < .5:\n",
    "        sen = 0\n",
    "    else:\n",
    "        sen = 1\n",
    "    print(\"Predicted label: \", comment_label[1][sen])\n"
   ]
  },
  {
   "cell_type": "code",
   "execution_count": 194,
   "metadata": {},
   "outputs": [
    {
     "name": "stdout",
     "output_type": "stream",
     "text": [
      "[[63, 603, 787]]\n",
      "[[  0   0   0   0   0   0   0   0   0   0   0   0  63 603 787]]\n",
      "[[0.4995999]]\n",
      "Predicted label:  Yes\n"
     ]
    }
   ],
   "source": [
    "text = 'সানাই অলদি মাগী'\n",
    "predict_sentiment(text)"
   ]
  },
  {
   "cell_type": "markdown",
   "metadata": {},
   "source": [
    "# Stacked_BiGRU"
   ]
  },
  {
   "cell_type": "code",
   "execution_count": 103,
   "metadata": {},
   "outputs": [
    {
     "name": "stdout",
     "output_type": "stream",
     "text": [
      "Model: \"sequential_30\"\n",
      "_________________________________________________________________\n",
      "Layer (type)                 Output Shape              Param #   \n",
      "=================================================================\n",
      "embedding (Embedding)        (None, 20, 100)           463900    \n",
      "_________________________________________________________________\n",
      "bidirectional_12 (Bidirectio (None, 20, 64)            25728     \n",
      "_________________________________________________________________\n",
      "dropout_47 (Dropout)         (None, 20, 64)            0         \n",
      "_________________________________________________________________\n",
      "bidirectional_13 (Bidirectio (None, 20, 128)           49920     \n",
      "_________________________________________________________________\n",
      "dropout_48 (Dropout)         (None, 20, 128)           0         \n",
      "_________________________________________________________________\n",
      "bidirectional_14 (Bidirectio (None, 128)               74496     \n",
      "_________________________________________________________________\n",
      "dropout_49 (Dropout)         (None, 128)               0         \n",
      "_________________________________________________________________\n",
      "dense_33 (Dense)             (None, 64)                8256      \n",
      "_________________________________________________________________\n",
      "dropout_50 (Dropout)         (None, 64)                0         \n",
      "_________________________________________________________________\n",
      "dense_34 (Dense)             (None, 1)                 65        \n",
      "=================================================================\n",
      "Total params: 622,365\n",
      "Trainable params: 158,465\n",
      "Non-trainable params: 463,900\n",
      "_________________________________________________________________\n",
      "None\n",
      "Epoch 1/20\n",
      "19/19 [==============================] - 28s 340ms/step - loss: 0.6803 - accuracy: 0.5113 - val_loss: 0.6490 - val_accuracy: 0.6216\n",
      "Epoch 2/20\n",
      "19/19 [==============================] - 2s 106ms/step - loss: 0.6529 - accuracy: 0.6127 - val_loss: 0.6340 - val_accuracy: 0.6284\n",
      "Epoch 3/20\n",
      "19/19 [==============================] - 2s 105ms/step - loss: 0.6185 - accuracy: 0.6673 - val_loss: 0.6471 - val_accuracy: 0.6284\n",
      "Epoch 4/20\n",
      "19/19 [==============================] - 4s 199ms/step - loss: 0.6256 - accuracy: 0.6514 - val_loss: 0.6097 - val_accuracy: 0.6486\n",
      "Epoch 5/20\n",
      "19/19 [==============================] - 2s 111ms/step - loss: 0.6439 - accuracy: 0.6348 - val_loss: 0.6318 - val_accuracy: 0.6622\n",
      "Epoch 6/20\n",
      "19/19 [==============================] - 3s 167ms/step - loss: 0.6277 - accuracy: 0.6495 - val_loss: 0.6153 - val_accuracy: 0.6216\n",
      "Epoch 7/20\n",
      "19/19 [==============================] - 3s 125ms/step - loss: 0.6091 - accuracy: 0.6517 - val_loss: 0.6024 - val_accuracy: 0.6689\n",
      "Epoch 8/20\n",
      "19/19 [==============================] - 2s 125ms/step - loss: 0.6059 - accuracy: 0.6565 - val_loss: 0.5933 - val_accuracy: 0.6757\n",
      "Epoch 9/20\n",
      "19/19 [==============================] - 3s 163ms/step - loss: 0.5807 - accuracy: 0.6778 - val_loss: 0.5734 - val_accuracy: 0.6892\n",
      "Epoch 10/20\n",
      "19/19 [==============================] - 2s 105ms/step - loss: 0.5857 - accuracy: 0.6910 - val_loss: 0.5764 - val_accuracy: 0.6757\n",
      "Epoch 11/20\n",
      "19/19 [==============================] - 4s 194ms/step - loss: 0.5952 - accuracy: 0.6771 - val_loss: 0.5745 - val_accuracy: 0.6757\n",
      "Epoch 12/20\n",
      "19/19 [==============================] - 2s 108ms/step - loss: 0.5438 - accuracy: 0.6920 - val_loss: 0.5692 - val_accuracy: 0.6622 loss: 0.5264 - \n",
      "Epoch 13/20\n",
      "19/19 [==============================] - 4s 193ms/step - loss: 0.5811 - accuracy: 0.6817 - val_loss: 0.5684 - val_accuracy: 0.7365\n",
      "Epoch 14/20\n",
      "19/19 [==============================] - 2s 105ms/step - loss: 0.5870 - accuracy: 0.6790 - val_loss: 0.5614 - val_accuracy: 0.6689\n",
      "Epoch 15/20\n",
      "19/19 [==============================] - 4s 196ms/step - loss: 0.5607 - accuracy: 0.6839 - val_loss: 0.5659 - val_accuracy: 0.7365\n",
      "Epoch 16/20\n",
      "19/19 [==============================] - 2s 114ms/step - loss: 0.5739 - accuracy: 0.6750 - val_loss: 0.5707 - val_accuracy: 0.7162\n",
      "Epoch 17/20\n",
      "19/19 [==============================] - 4s 201ms/step - loss: 0.5848 - accuracy: 0.6874 - val_loss: 0.5659 - val_accuracy: 0.7230\n",
      "Epoch 18/20\n",
      "19/19 [==============================] - 2s 115ms/step - loss: 0.5777 - accuracy: 0.6556 - val_loss: 0.5583 - val_accuracy: 0.6824\n",
      "Epoch 19/20\n",
      "19/19 [==============================] - 4s 202ms/step - loss: 0.5688 - accuracy: 0.7130 - val_loss: 0.5572 - val_accuracy: 0.6757\n",
      "Epoch 20/20\n",
      "19/19 [==============================] - 2s 111ms/step - loss: 0.5750 - accuracy: 0.6675 - val_loss: 0.5659 - val_accuracy: 0.6892\n"
     ]
    }
   ],
   "source": [
    "maxlen = 20\n",
    "bigru_model = Sequential() \n",
    "\n",
    "bigru_model.add(Embedding(vocab_size ,W2V_SIZE, weights=[embedding_matrix] , input_length = maxlen, name = \"embedding\", trainable = False))\n",
    "\n",
    "#bigru_model.add(Embedding(vocab_size, embedding_vector_length, input_length=maxlen))\n",
    "\n",
    "bigru_model.add(Bidirectional(GRU(32, return_sequences=True)))\n",
    "bigru_model.add(Dropout(0.2))\n",
    "\n",
    "bigru_model.add(Bidirectional(GRU(64, return_sequences=True)))\n",
    "bigru_model.add(Dropout(0.2))\n",
    "\n",
    "bigru_model.add(Bidirectional(GRU(64)))\n",
    "bigru_model.add(Dropout(0.2))\n",
    "\n",
    "bigru_model.add(Dense(64, activation='relu'))\n",
    "bigru_model.add(Dropout(0.1))\n",
    "bigru_model.add(Dense(1, activation='sigmoid'))\n",
    "\n",
    " \n",
    "bigru_model.compile(loss='binary_crossentropy',optimizer='adam', metrics=['accuracy'])  \n",
    "print(bigru_model.summary()) \n",
    "\n",
    "\n",
    "stack_bigru = bigru_model.fit(X_train,y_train,validation_split=0.2, epochs=20)"
   ]
  },
  {
   "cell_type": "code",
   "execution_count": 170,
   "metadata": {},
   "outputs": [
    {
     "data": {
      "image/png": "[encoded data removed]",
      "text/plain": [
       "<Figure size 432x288 with 1 Axes>"
      ]
     },
     "metadata": {
      "needs_background": "light"
     },
     "output_type": "display_data"
    },
    {
     "data": {
      "image/png": "[encoded data removed]",
      "text/plain": [
       "<Figure size 432x288 with 1 Axes>"
      ]
     },
     "metadata": {
      "needs_background": "light"
     },
     "output_type": "display_data"
    },
    {
     "data": {
      "text/plain": [
       "<Figure size 432x288 with 0 Axes>"
      ]
     },
     "metadata": {},
     "output_type": "display_data"
    }
   ],
   "source": [
    "plt.plot(stack_bigru.history['accuracy'], label='acc')\n",
    "plt.plot(stack_bigru.history['val_accuracy'], label='val_acc')\n",
    "plt.legend()\n",
    "plt.show()\n",
    "plt.savefig(\"Accuracy plot.jpg\")\n",
    "\n",
    "\n",
    "# In[25]:\n",
    "\n",
    "\n",
    "plt.plot(stack_bigru.history['loss'], label='loss')\n",
    "plt.plot(stack_bigru.history['val_loss'], label='val_loss')\n",
    "plt.legend()\n",
    "plt.show()\n",
    "plt.savefig(\"Loss plot.jpg\")"
   ]
  },
  {
   "cell_type": "code",
   "execution_count": 105,
   "metadata": {},
   "outputs": [
    {
     "name": "stderr",
     "output_type": "stream",
     "text": [
      "C:\\Users\\Sudhakor Das\\anaconda3\\envs\\tensor\\lib\\site-packages\\tensorflow\\python\\keras\\engine\\sequential.py:450: UserWarning: `model.predict_classes()` is deprecated and will be removed after 2021-01-01. Please use instead:* `np.argmax(model.predict(x), axis=-1)`,   if your model does multi-class classification   (e.g. if it uses a `softmax` last-layer activation).* `(model.predict(x) > 0.5).astype(\"int32\")`,   if your model does binary classification   (e.g. if it uses a `sigmoid` last-layer activation).\n",
      "  warnings.warn('`model.predict_classes()` is deprecated and '\n"
     ]
    },
    {
     "name": "stdout",
     "output_type": "stream",
     "text": [
      "12/12 [==============================] - 5s 30ms/step\n",
      "Confusion Matrix\n",
      "============================================================\n",
      "[[ 87  88]\n",
      " [ 29 159]] \n",
      "\n",
      "Classification Report\n",
      "============================================================\n",
      "              precision    recall  f1-score   support\n",
      "\n",
      "           0       0.75      0.50      0.60       175\n",
      "           1       0.64      0.85      0.73       188\n",
      "\n",
      "    accuracy                           0.68       363\n",
      "   macro avg       0.70      0.67      0.66       363\n",
      "weighted avg       0.69      0.68      0.67       363\n",
      " \n",
      "\n",
      "Accuracy Score\n",
      "============================================================\n",
      "0.6776859504132231\n"
     ]
    }
   ],
   "source": [
    "test_eval(bigru_model, X_test, y_test, algo='Stacked-biGRU')"
   ]
  },
  {
   "cell_type": "code",
   "execution_count": 184,
   "metadata": {},
   "outputs": [],
   "source": [
    "def predict_sentiment(text):\n",
    "    tw = tokenizer.texts_to_sequences([text])\n",
    "    print(tw)\n",
    "    tw = pad_sequences(tw,maxlen=15)\n",
    "    print(tw)\n",
    "\n",
    "    pred = gru_model.predict(tw)\n",
    "    print(pred)\n",
    "    #prediction = int(model.predict(tw).round().item())\n",
    "    #print(prediction)\n",
    "    if pred < .4:\n",
    "        sen = 0\n",
    "    else:\n",
    "        sen = 1\n",
    "    print(\"Predicted label: \", comment_label[1][sen])\n"
   ]
  },
  {
   "cell_type": "code",
   "execution_count": 191,
   "metadata": {},
   "outputs": [
    {
     "name": "stdout",
     "output_type": "stream",
     "text": [
      "[[4]]\n",
      "[[0 0 0 0 0 0 0 0 0 0 0 0 0 0 4]]\n",
      "[[0.4994589]]\n",
      "Predicted label:  No\n"
     ]
    }
   ],
   "source": [
    "text = ' মাগি'\n",
    "predict_sentiment(text)"
   ]
  },
  {
   "cell_type": "code",
   "execution_count": 106,
   "metadata": {},
   "outputs": [
    {
     "data": {
      "text/plain": [
       "['SimpleRNN', 'Satcked-LSTM', 'Satcked-Bilstm', 'Satcked-GRU', 'Stacked-biGRU']"
      ]
     },
     "execution_count": 106,
     "metadata": {},
     "output_type": "execute_result"
    }
   ],
   "source": [
    "Model"
   ]
  },
  {
   "cell_type": "code",
   "execution_count": null,
   "metadata": {},
   "outputs": [],
   "source": []
  },
  {
   "cell_type": "code",
   "execution_count": null,
   "metadata": {},
   "outputs": [],
   "source": []
  },
  {
   "cell_type": "code",
   "execution_count": null,
   "metadata": {},
   "outputs": [],
   "source": []
  },
  {
   "cell_type": "markdown",
   "metadata": {},
   "source": [
    "# Text Classification using CNN"
   ]
  },
  {
   "cell_type": "code",
   "execution_count": 113,
   "metadata": {},
   "outputs": [
    {
     "name": "stdout",
     "output_type": "stream",
     "text": [
      "Model: \"sequential_34\"\n",
      "_________________________________________________________________\n",
      "Layer (type)                 Output Shape              Param #   \n",
      "=================================================================\n",
      "embedding (Embedding)        (None, 20, 100)           463900    \n",
      "_________________________________________________________________\n",
      "lstm_33 (LSTM)               (None, 20, 50)            30200     \n",
      "_________________________________________________________________\n",
      "dropout_60 (Dropout)         (None, 20, 50)            0         \n",
      "_________________________________________________________________\n",
      "conv1d_7 (Conv1D)            (None, 18, 50)            7550      \n",
      "_________________________________________________________________\n",
      "conv1d_8 (Conv1D)            (None, 16, 80)            12080     \n",
      "_________________________________________________________________\n",
      "max_pooling1d_4 (MaxPooling1 (None, 8, 80)             0         \n",
      "_________________________________________________________________\n",
      "conv1d_9 (Conv1D)            (None, 6, 128)            30848     \n",
      "_________________________________________________________________\n",
      "dropout_61 (Dropout)         (None, 6, 128)            0         \n",
      "_________________________________________________________________\n",
      "lstm_34 (LSTM)               (None, 50)                35800     \n",
      "_________________________________________________________________\n",
      "dropout_62 (Dropout)         (None, 50)                0         \n",
      "_________________________________________________________________\n",
      "dense_38 (Dense)             (None, 1)                 51        \n",
      "=================================================================\n",
      "Total params: 580,429\n",
      "Trainable params: 116,529\n",
      "Non-trainable params: 463,900\n",
      "_________________________________________________________________\n",
      "None\n"
     ]
    }
   ],
   "source": [
    "cnn_model = Sequential() \n",
    "\n",
    "cnn_model.add(Embedding(vocab_size ,W2V_SIZE, weights=[embedding_matrix] , input_length = maxlen, name = \"embedding\", trainable = False))\n",
    "#model.add(Embedding(vocab_size, embedding_vector_length, input_length=16, name = \"embedding\") )\n",
    "#model.add(SpatialDropout1D(0.25))\n",
    "cnn_model.add(LSTM(50, dropout=0.5, recurrent_dropout=0.5 ,return_sequences = True))\n",
    "cnn_model.add(Dropout(0.2))\n",
    "\n",
    "cnn_model.add(Conv1D(50, 3, activation = 'relu'))\n",
    "#cnn_model.add(GlobalMaxPooling1D())\n",
    "#cnn_model.add(MaxPooling1D(pool_size=2))\n",
    "\n",
    "cnn_model.add(Conv1D(80, 3, activation = 'relu'))\n",
    "cnn_model.add(MaxPooling1D(pool_size=2))\n",
    "\n",
    "cnn_model.add(Conv1D(128, 3, activation = 'relu'))\n",
    "#cnn_model.add(MaxPooling1D(pool_size=2))\n",
    "\n",
    "cnn_model.add(Dropout(.2))\n",
    "cnn_model.add(LSTM(50, dropout=0.5, recurrent_dropout=0.5))\n",
    "cnn_model.add(Dropout(0.2))\n",
    "\n",
    "\n",
    "cnn_model.add(Dense(1, activation='sigmoid')) \n",
    "\n",
    "cnn_model.compile(loss='binary_crossentropy',optimizer='adam', metrics=['accuracy'])  \n",
    "print(cnn_model.summary()) "
   ]
  },
  {
   "cell_type": "code",
   "execution_count": 115,
   "metadata": {},
   "outputs": [
    {
     "name": "stdout",
     "output_type": "stream",
     "text": [
      "Epoch 1/20\n",
      "19/19 [==============================] - 2s 82ms/step - loss: 0.5825 - accuracy: 0.6871 - val_loss: 0.5617 - val_accuracy: 0.6689\n",
      "Epoch 2/20\n",
      "19/19 [==============================] - 1s 71ms/step - loss: 0.5851 - accuracy: 0.6684 - val_loss: 0.5767 - val_accuracy: 0.6554\n",
      "Epoch 3/20\n",
      "19/19 [==============================] - 1s 73ms/step - loss: 0.5973 - accuracy: 0.6837 - val_loss: 0.5689 - val_accuracy: 0.6757\n",
      "Epoch 4/20\n",
      "19/19 [==============================] - 1s 66ms/step - loss: 0.5792 - accuracy: 0.6667 - val_loss: 0.5581 - val_accuracy: 0.7095\n",
      "Epoch 5/20\n",
      "19/19 [==============================] - 1s 70ms/step - loss: 0.5893 - accuracy: 0.6701 - val_loss: 0.5744 - val_accuracy: 0.6959\n",
      "Epoch 6/20\n",
      "19/19 [==============================] - 1s 69ms/step - loss: 0.5964 - accuracy: 0.6701 - val_loss: 0.5688 - val_accuracy: 0.7027\n",
      "Epoch 7/20\n",
      "19/19 [==============================] - 1s 70ms/step - loss: 0.5807 - accuracy: 0.6786 - val_loss: 0.5631 - val_accuracy: 0.7162\n",
      "Epoch 8/20\n",
      "19/19 [==============================] - 3s 179ms/step - loss: 0.5843 - accuracy: 0.6837 - val_loss: 0.5570 - val_accuracy: 0.6959\n",
      "Epoch 9/20\n",
      "19/19 [==============================] - 2s 82ms/step - loss: 0.5761 - accuracy: 0.6752 - val_loss: 0.5508 - val_accuracy: 0.6757\n",
      "Epoch 10/20\n",
      "19/19 [==============================] - 1s 76ms/step - loss: 0.5709 - accuracy: 0.6701 - val_loss: 0.5542 - val_accuracy: 0.7230\n",
      "Epoch 11/20\n",
      "19/19 [==============================] - 1s 72ms/step - loss: 0.5827 - accuracy: 0.6650 - val_loss: 0.5595 - val_accuracy: 0.7095\n",
      "Epoch 12/20\n",
      "19/19 [==============================] - 1s 74ms/step - loss: 0.5856 - accuracy: 0.6735 - val_loss: 0.5604 - val_accuracy: 0.7095\n",
      "Epoch 13/20\n",
      "19/19 [==============================] - 1s 72ms/step - loss: 0.5752 - accuracy: 0.6684 - val_loss: 0.5528 - val_accuracy: 0.7095\n",
      "Epoch 14/20\n",
      "19/19 [==============================] - 1s 77ms/step - loss: 0.5695 - accuracy: 0.6803 - val_loss: 0.5571 - val_accuracy: 0.7027\n",
      "Epoch 15/20\n",
      "19/19 [==============================] - 1s 73ms/step - loss: 0.5644 - accuracy: 0.6820 - val_loss: 0.5641 - val_accuracy: 0.6959\n",
      "Epoch 16/20\n",
      "19/19 [==============================] - 1s 74ms/step - loss: 0.5814 - accuracy: 0.6735 - val_loss: 0.5667 - val_accuracy: 0.6757\n",
      "Epoch 17/20\n",
      "19/19 [==============================] - 1s 68ms/step - loss: 0.5743 - accuracy: 0.6871 - val_loss: 0.5571 - val_accuracy: 0.6959\n",
      "Epoch 18/20\n",
      "19/19 [==============================] - 1s 68ms/step - loss: 0.5747 - accuracy: 0.6667 - val_loss: 0.5588 - val_accuracy: 0.6959\n",
      "Epoch 19/20\n",
      "19/19 [==============================] - 1s 75ms/step - loss: 0.5672 - accuracy: 0.6820 - val_loss: 0.5914 - val_accuracy: 0.7027\n",
      "Epoch 20/20\n",
      "19/19 [==============================] - 1s 71ms/step - loss: 0.5902 - accuracy: 0.6735 - val_loss: 0.5661 - val_accuracy: 0.7027\n"
     ]
    }
   ],
   "source": [
    "cnn = cnn_model.fit(X_train,y_train,validation_split=0.2, epochs=20)"
   ]
  },
  {
   "cell_type": "code",
   "execution_count": 116,
   "metadata": {},
   "outputs": [
    {
     "name": "stderr",
     "output_type": "stream",
     "text": [
      "C:\\Users\\Sudhakor Das\\anaconda3\\envs\\tensor\\lib\\site-packages\\tensorflow\\python\\keras\\engine\\sequential.py:450: UserWarning: `model.predict_classes()` is deprecated and will be removed after 2021-01-01. Please use instead:* `np.argmax(model.predict(x), axis=-1)`,   if your model does multi-class classification   (e.g. if it uses a `softmax` last-layer activation).* `(model.predict(x) > 0.5).astype(\"int32\")`,   if your model does binary classification   (e.g. if it uses a `sigmoid` last-layer activation).\n",
      "  warnings.warn('`model.predict_classes()` is deprecated and '\n"
     ]
    },
    {
     "name": "stdout",
     "output_type": "stream",
     "text": [
      "12/12 [==============================] - 2s 18ms/step\n",
      "Confusion Matrix\n",
      "============================================================\n",
      "[[ 94  81]\n",
      " [ 29 159]] \n",
      "\n",
      "Classification Report\n",
      "============================================================\n",
      "              precision    recall  f1-score   support\n",
      "\n",
      "           0       0.76      0.54      0.63       175\n",
      "           1       0.66      0.85      0.74       188\n",
      "\n",
      "    accuracy                           0.70       363\n",
      "   macro avg       0.71      0.69      0.69       363\n",
      "weighted avg       0.71      0.70      0.69       363\n",
      " \n",
      "\n",
      "Accuracy Score\n",
      "============================================================\n",
      "0.696969696969697\n"
     ]
    }
   ],
   "source": [
    "test_eval(cnn_model, X_test, y_test, algo='CNN')"
   ]
  },
  {
   "cell_type": "code",
   "execution_count": 117,
   "metadata": {},
   "outputs": [
    {
     "data": {
      "image/png": "[encoded data removed]",
      "text/plain": [
       "<Figure size 432x288 with 1 Axes>"
      ]
     },
     "metadata": {
      "needs_background": "light"
     },
     "output_type": "display_data"
    },
    {
     "data": {
      "image/png": "[encoded data removed]",
      "text/plain": [
       "<Figure size 432x288 with 1 Axes>"
      ]
     },
     "metadata": {
      "needs_background": "light"
     },
     "output_type": "display_data"
    },
    {
     "data": {
      "text/plain": [
       "<Figure size 432x288 with 0 Axes>"
      ]
     },
     "metadata": {},
     "output_type": "display_data"
    }
   ],
   "source": [
    "plt.plot(cnn.history['accuracy'], label='acc')\n",
    "plt.plot(cnn.history['val_accuracy'], label='val_acc')\n",
    "plt.legend()\n",
    "plt.show()\n",
    "plt.savefig(\"Accuracy plot.jpg\")\n",
    "\n",
    "\n",
    "# In[25]:\n",
    "\n",
    "\n",
    "plt.plot(cnn.history['loss'], label='loss')\n",
    "plt.plot(cnn.history['val_loss'], label='val_loss')\n",
    "plt.legend()\n",
    "plt.show()\n",
    "plt.savefig(\"Loss plot.jpg\")"
   ]
  },
  {
   "cell_type": "markdown",
   "metadata": {},
   "source": [
    "# LSTM + GRU"
   ]
  },
  {
   "cell_type": "code",
   "execution_count": 121,
   "metadata": {},
   "outputs": [
    {
     "name": "stdout",
     "output_type": "stream",
     "text": [
      "Model: \"sequential_37\"\n",
      "_________________________________________________________________\n",
      "Layer (type)                 Output Shape              Param #   \n",
      "=================================================================\n",
      "embedding (Embedding)        (None, 20, 100)           463900    \n",
      "_________________________________________________________________\n",
      "spatial_dropout1d_6 (Spatial (None, 20, 100)           0         \n",
      "_________________________________________________________________\n",
      "lstm_41 (LSTM)               (None, 20, 50)            30200     \n",
      "_________________________________________________________________\n",
      "dropout_75 (Dropout)         (None, 20, 50)            0         \n",
      "_________________________________________________________________\n",
      "lstm_42 (LSTM)               (None, 20, 100)           60400     \n",
      "_________________________________________________________________\n",
      "dropout_76 (Dropout)         (None, 20, 100)           0         \n",
      "_________________________________________________________________\n",
      "lstm_43 (LSTM)               (None, 20, 150)           150600    \n",
      "_________________________________________________________________\n",
      "dropout_77 (Dropout)         (None, 20, 150)           0         \n",
      "_________________________________________________________________\n",
      "gru_30 (GRU)                 (None, 20, 32)            17664     \n",
      "_________________________________________________________________\n",
      "dropout_78 (Dropout)         (None, 20, 32)            0         \n",
      "_________________________________________________________________\n",
      "gru_31 (GRU)                 (None, 20, 64)            18816     \n",
      "_________________________________________________________________\n",
      "dropout_79 (Dropout)         (None, 20, 64)            0         \n",
      "_________________________________________________________________\n",
      "gru_32 (GRU)                 (None, 128)               74496     \n",
      "_________________________________________________________________\n",
      "dropout_80 (Dropout)         (None, 128)               0         \n",
      "_________________________________________________________________\n",
      "dense_41 (Dense)             (None, 1)                 129       \n",
      "=================================================================\n",
      "Total params: 816,205\n",
      "Trainable params: 352,305\n",
      "Non-trainable params: 463,900\n",
      "_________________________________________________________________\n",
      "None\n",
      "Epoch 1/20\n",
      "19/19 [==============================] - 28s 335ms/step - loss: 0.6907 - accuracy: 0.5191 - val_loss: 0.6678 - val_accuracy: 0.6216\n",
      "Epoch 2/20\n",
      "19/19 [==============================] - 4s 177ms/step - loss: 0.6733 - accuracy: 0.6085 - val_loss: 0.6455 - val_accuracy: 0.6351\n",
      "Epoch 3/20\n",
      "19/19 [==============================] - 3s 174ms/step - loss: 0.6642 - accuracy: 0.6090 - val_loss: 0.6393 - val_accuracy: 0.6419\n",
      "Epoch 4/20\n",
      "19/19 [==============================] - 3s 177ms/step - loss: 0.6519 - accuracy: 0.6002 - val_loss: 0.6509 - val_accuracy: 0.6149\n",
      "Epoch 5/20\n",
      "19/19 [==============================] - 3s 179ms/step - loss: 0.6503 - accuracy: 0.6216 - val_loss: 0.6366 - val_accuracy: 0.6351\n",
      "Epoch 6/20\n",
      "19/19 [==============================] - 5s 259ms/step - loss: 0.6495 - accuracy: 0.6244 - val_loss: 0.6389 - val_accuracy: 0.6284\n",
      "Epoch 7/20\n",
      "19/19 [==============================] - 3s 183ms/step - loss: 0.6296 - accuracy: 0.6651 - val_loss: 0.6317 - val_accuracy: 0.6351\n",
      "Epoch 8/20\n",
      "19/19 [==============================] - 5s 284ms/step - loss: 0.6127 - accuracy: 0.6362 - val_loss: 0.6368 - val_accuracy: 0.6216\n",
      "Epoch 9/20\n",
      "19/19 [==============================] - 3s 178ms/step - loss: 0.6541 - accuracy: 0.6289 - val_loss: 0.6446 - val_accuracy: 0.6284\n",
      "Epoch 10/20\n",
      "19/19 [==============================] - 5s 259ms/step - loss: 0.6333 - accuracy: 0.6335 - val_loss: 0.6435 - val_accuracy: 0.6216\n",
      "Epoch 11/20\n",
      "19/19 [==============================] - 4s 231ms/step - loss: 0.6166 - accuracy: 0.6561 - val_loss: 0.6333 - val_accuracy: 0.6351\n",
      "Epoch 12/20\n",
      "19/19 [==============================] - 4s 190ms/step - loss: 0.6371 - accuracy: 0.6140 - val_loss: 0.6252 - val_accuracy: 0.6419\n",
      "Epoch 13/20\n",
      "19/19 [==============================] - 5s 262ms/step - loss: 0.6346 - accuracy: 0.6459 - val_loss: 0.6445 - val_accuracy: 0.6351\n",
      "Epoch 14/20\n",
      "19/19 [==============================] - 5s 276ms/step - loss: 0.6239 - accuracy: 0.6505 - val_loss: 0.6265 - val_accuracy: 0.6351\n",
      "Epoch 15/20\n",
      "19/19 [==============================] - 4s 189ms/step - loss: 0.6005 - accuracy: 0.6858 - val_loss: 0.6255 - val_accuracy: 0.6689\n",
      "Epoch 16/20\n",
      "19/19 [==============================] - 5s 258ms/step - loss: 0.6150 - accuracy: 0.6815 - val_loss: 0.6265 - val_accuracy: 0.6419\n",
      "Epoch 17/20\n",
      "19/19 [==============================] - 3s 184ms/step - loss: 0.6256 - accuracy: 0.6260 - val_loss: 0.6285 - val_accuracy: 0.6419\n",
      "Epoch 18/20\n",
      "19/19 [==============================] - 5s 238ms/step - loss: 0.6160 - accuracy: 0.6567 - val_loss: 0.6292 - val_accuracy: 0.6419\n",
      "Epoch 19/20\n",
      "19/19 [==============================] - 5s 265ms/step - loss: 0.6189 - accuracy: 0.6434 - val_loss: 0.6229 - val_accuracy: 0.6419\n",
      "Epoch 20/20\n",
      "19/19 [==============================] - 4s 209ms/step - loss: 0.6145 - accuracy: 0.6503 - val_loss: 0.6239 - val_accuracy: 0.6689\n"
     ]
    }
   ],
   "source": [
    "lstm_gru = Sequential() \n",
    "\n",
    "lstm_gru.add(Embedding(vocab_size ,W2V_SIZE, weights=[embedding_matrix] , input_length = maxlen, name = \"embedding\", trainable = False))\n",
    "#model.add(Embedding(vocab_size, embedding_vector_length, input_length=16, name = \"embedding\") )\n",
    "lstm_gru.add(SpatialDropout1D(0.25))\n",
    "lstm_gru.add(LSTM(50, dropout=0.5, return_sequences=True, activation='relu' ))\n",
    "lstm_gru.add(Dropout(0.2))\n",
    "lstm_gru.add(LSTM(100, dropout=0.5, return_sequences=True, activation='relu' ))\n",
    "lstm_gru.add(Dropout(0.2))\n",
    "lstm_gru.add(LSTM(150, dropout=0.5, return_sequences=True, activation='relu' ))\n",
    "lstm_gru.add(Dropout(0.2))\n",
    "\n",
    "lstm_gru.add(GRU(32, return_sequences=True, activation='relu'))\n",
    "lstm_gru.add(Dropout(0.2))\n",
    "lstm_gru.add(GRU(64, return_sequences=True, activation='relu'))\n",
    "lstm_gru.add(Dropout(0.2))\n",
    "lstm_gru.add(GRU(128, activation='relu'))\n",
    "lstm_gru.add(Dropout(0.2))\n",
    "\n",
    "lstm_gru.add(Dense(1, activation='sigmoid')) \n",
    "lstm_gru.compile(loss='binary_crossentropy',optimizer='adam', metrics=['accuracy'])  \n",
    "print(lstm_gru.summary()) \n",
    "\n",
    "lstmgru = lstm_gru.fit(X_train,y_train,validation_split=0.2, epochs=20)"
   ]
  },
  {
   "cell_type": "code",
   "execution_count": 122,
   "metadata": {},
   "outputs": [
    {
     "data": {
      "image/png": "[encoded data removed]",
      "text/plain": [
       "<Figure size 432x288 with 1 Axes>"
      ]
     },
     "metadata": {
      "needs_background": "light"
     },
     "output_type": "display_data"
    },
    {
     "data": {
      "image/png": "[encoded data removed]",
      "text/plain": [
       "<Figure size 432x288 with 1 Axes>"
      ]
     },
     "metadata": {
      "needs_background": "light"
     },
     "output_type": "display_data"
    },
    {
     "data": {
      "text/plain": [
       "<Figure size 432x288 with 0 Axes>"
      ]
     },
     "metadata": {},
     "output_type": "display_data"
    }
   ],
   "source": [
    "plt.plot(lstmgru.history['accuracy'], label='acc')\n",
    "plt.plot(lstmgru.history['val_accuracy'], label='val_acc')\n",
    "plt.legend()\n",
    "plt.show()\n",
    "plt.savefig(\"Accuracy plot.jpg\")\n",
    "\n",
    "\n",
    "# In[25]:\n",
    "\n",
    "\n",
    "plt.plot(lstmgru.history['loss'], label='loss')\n",
    "plt.plot(lstmgru.history['val_loss'], label='val_loss')\n",
    "plt.legend()\n",
    "plt.show()\n",
    "plt.savefig(\"Loss plot.jpg\")"
   ]
  },
  {
   "cell_type": "code",
   "execution_count": 123,
   "metadata": {},
   "outputs": [
    {
     "name": "stderr",
     "output_type": "stream",
     "text": [
      "C:\\Users\\Sudhakor Das\\anaconda3\\envs\\tensor\\lib\\site-packages\\tensorflow\\python\\keras\\engine\\sequential.py:450: UserWarning: `model.predict_classes()` is deprecated and will be removed after 2021-01-01. Please use instead:* `np.argmax(model.predict(x), axis=-1)`,   if your model does multi-class classification   (e.g. if it uses a `softmax` last-layer activation).* `(model.predict(x) > 0.5).astype(\"int32\")`,   if your model does binary classification   (e.g. if it uses a `sigmoid` last-layer activation).\n",
      "  warnings.warn('`model.predict_classes()` is deprecated and '\n"
     ]
    },
    {
     "name": "stdout",
     "output_type": "stream",
     "text": [
      "12/12 [==============================] - 3s 68ms/step\n",
      "Confusion Matrix\n",
      "============================================================\n",
      "[[ 85  90]\n",
      " [ 48 140]] \n",
      "\n",
      "Classification Report\n",
      "============================================================\n",
      "              precision    recall  f1-score   support\n",
      "\n",
      "           0       0.64      0.49      0.55       175\n",
      "           1       0.61      0.74      0.67       188\n",
      "\n",
      "    accuracy                           0.62       363\n",
      "   macro avg       0.62      0.62      0.61       363\n",
      "weighted avg       0.62      0.62      0.61       363\n",
      " \n",
      "\n",
      "Accuracy Score\n",
      "============================================================\n",
      "0.6198347107438017\n"
     ]
    }
   ],
   "source": [
    "test_eval(lstm_gru, X_test, y_test, algo='LSTM+GRU')"
   ]
  },
  {
   "cell_type": "markdown",
   "metadata": {},
   "source": [
    "# LSTM+CNN"
   ]
  },
  {
   "cell_type": "code",
   "execution_count": 125,
   "metadata": {},
   "outputs": [
    {
     "name": "stdout",
     "output_type": "stream",
     "text": [
      "Model: \"sequential_39\"\n",
      "_________________________________________________________________\n",
      "Layer (type)                 Output Shape              Param #   \n",
      "=================================================================\n",
      "embedding (Embedding)        (None, 20, 100)           463900    \n",
      "_________________________________________________________________\n",
      "spatial_dropout1d_8 (Spatial (None, 20, 100)           0         \n",
      "_________________________________________________________________\n",
      "lstm_47 (LSTM)               (None, 20, 50)            30200     \n",
      "_________________________________________________________________\n",
      "dropout_87 (Dropout)         (None, 20, 50)            0         \n",
      "_________________________________________________________________\n",
      "lstm_48 (LSTM)               (None, 20, 100)           60400     \n",
      "_________________________________________________________________\n",
      "dropout_88 (Dropout)         (None, 20, 100)           0         \n",
      "_________________________________________________________________\n",
      "lstm_49 (LSTM)               (None, 20, 150)           150600    \n",
      "_________________________________________________________________\n",
      "dropout_89 (Dropout)         (None, 20, 150)           0         \n",
      "_________________________________________________________________\n",
      "conv1d_13 (Conv1D)           (None, 18, 40)            18040     \n",
      "_________________________________________________________________\n",
      "dropout_90 (Dropout)         (None, 18, 40)            0         \n",
      "_________________________________________________________________\n",
      "conv1d_14 (Conv1D)           (None, 16, 120)           14520     \n",
      "_________________________________________________________________\n",
      "dropout_91 (Dropout)         (None, 16, 120)           0         \n",
      "_________________________________________________________________\n",
      "conv1d_15 (Conv1D)           (None, 14, 170)           61370     \n",
      "_________________________________________________________________\n",
      "dropout_92 (Dropout)         (None, 14, 170)           0         \n",
      "_________________________________________________________________\n",
      "global_max_pooling1d_1 (Glob (None, 170)               0         \n",
      "_________________________________________________________________\n",
      "dense_43 (Dense)             (None, 1)                 171       \n",
      "=================================================================\n",
      "Total params: 799,201\n",
      "Trainable params: 335,301\n",
      "Non-trainable params: 463,900\n",
      "_________________________________________________________________\n",
      "None\n",
      "Epoch 1/20\n",
      "19/19 [==============================] - 16s 263ms/step - loss: 0.6869 - accuracy: 0.5554 - val_loss: 0.6820 - val_accuracy: 0.6081\n",
      "Epoch 2/20\n",
      "19/19 [==============================] - 3s 146ms/step - loss: 0.6833 - accuracy: 0.5619 - val_loss: 0.6900 - val_accuracy: 0.5270\n",
      "Epoch 3/20\n",
      "19/19 [==============================] - 3s 150ms/step - loss: 0.6787 - accuracy: 0.5969 - val_loss: 0.6575 - val_accuracy: 0.6149\n",
      "Epoch 4/20\n",
      "19/19 [==============================] - 3s 139ms/step - loss: 0.6557 - accuracy: 0.6019 - val_loss: 0.6773 - val_accuracy: 0.6149\n",
      "Epoch 5/20\n",
      "19/19 [==============================] - 5s 266ms/step - loss: 0.6660 - accuracy: 0.5969 - val_loss: 0.6511 - val_accuracy: 0.6216\n",
      "Epoch 6/20\n",
      "19/19 [==============================] - 3s 153ms/step - loss: 0.6425 - accuracy: 0.6338 - val_loss: 0.6575 - val_accuracy: 0.6149\n",
      "Epoch 7/20\n",
      "19/19 [==============================] - 5s 242ms/step - loss: 0.6350 - accuracy: 0.6379 - val_loss: 0.6481 - val_accuracy: 0.6284\n",
      "Epoch 8/20\n",
      "19/19 [==============================] - 3s 158ms/step - loss: 0.6447 - accuracy: 0.6004 - val_loss: 0.6599 - val_accuracy: 0.6149\n",
      "Epoch 9/20\n",
      "19/19 [==============================] - 4s 231ms/step - loss: 0.6537 - accuracy: 0.6091 - val_loss: 0.6486 - val_accuracy: 0.6284\n",
      "Epoch 10/20\n",
      "19/19 [==============================] - 4s 212ms/step - loss: 0.6416 - accuracy: 0.6327 - val_loss: 0.6429 - val_accuracy: 0.6284\n",
      "Epoch 11/20\n",
      "19/19 [==============================] - 3s 148ms/step - loss: 0.6167 - accuracy: 0.6395 - val_loss: 0.6415 - val_accuracy: 0.6216\n",
      "Epoch 12/20\n",
      "19/19 [==============================] - 4s 236ms/step - loss: 0.6144 - accuracy: 0.6730 - val_loss: 0.6516 - val_accuracy: 0.6216\n",
      "Epoch 13/20\n",
      "19/19 [==============================] - 3s 170ms/step - loss: 0.6390 - accuracy: 0.6267 - val_loss: 0.6405 - val_accuracy: 0.6284\n",
      "Epoch 14/20\n",
      "19/19 [==============================] - 4s 230ms/step - loss: 0.6341 - accuracy: 0.6281 - val_loss: 0.6409 - val_accuracy: 0.6284\n",
      "Epoch 15/20\n",
      "19/19 [==============================] - 4s 241ms/step - loss: 0.6384 - accuracy: 0.6310 - val_loss: 0.6280 - val_accuracy: 0.6689\n",
      "Epoch 16/20\n",
      "19/19 [==============================] - 3s 164ms/step - loss: 0.6424 - accuracy: 0.6320 - val_loss: 0.6505 - val_accuracy: 0.6216\n",
      "Epoch 17/20\n",
      "19/19 [==============================] - 5s 236ms/step - loss: 0.6271 - accuracy: 0.6367 - val_loss: 0.6415 - val_accuracy: 0.6351\n",
      "Epoch 18/20\n",
      "19/19 [==============================] - 5s 267ms/step - loss: 0.6373 - accuracy: 0.6351 - val_loss: 0.6379 - val_accuracy: 0.6486\n",
      "Epoch 19/20\n",
      "19/19 [==============================] - 3s 147ms/step - loss: 0.6216 - accuracy: 0.6240 - val_loss: 0.6314 - val_accuracy: 0.6419\n",
      "Epoch 20/20\n",
      "19/19 [==============================] - 5s 253ms/step - loss: 0.6493 - accuracy: 0.6144 - val_loss: 0.6271 - val_accuracy: 0.6486\n"
     ]
    }
   ],
   "source": [
    "\n",
    "lstm_cnn = Sequential() \n",
    "lstm_cnn.add(Embedding(vocab_size ,W2V_SIZE, weights=[embedding_matrix] , input_length = maxlen, name = \"embedding\", trainable = False))\n",
    "#model.add(Embedding(vocab_size, embedding_vector_length, input_length=16, name = \"embedding\") )\n",
    "lstm_cnn.add(SpatialDropout1D(0.25))\n",
    "lstm_cnn.add(LSTM(50, dropout=0.5, return_sequences=True, activation='relu' ))\n",
    "lstm_cnn.add(Dropout(0.2))\n",
    "lstm_cnn.add(LSTM(100, dropout=0.5, return_sequences=True, activation='relu' ))\n",
    "lstm_cnn.add(Dropout(0.2))\n",
    "lstm_cnn.add(LSTM(150, dropout=0.5, return_sequences=True, activation='relu' ))\n",
    "lstm_cnn.add(Dropout(0.2))\n",
    "\n",
    "lstm_cnn.add(Conv1D(40, 3, activation = 'relu'))\n",
    "#model.add(GlobalMaxPooling1D())\n",
    "lstm_cnn.add(Dropout(.2))\n",
    "lstm_cnn.add(Conv1D(120, 3, activation = 'relu'))\n",
    "#model.add(GlobalMaxPooling1D())\n",
    "lstm_cnn.add(Dropout(.2))\n",
    "lstm_cnn.add(Conv1D(170, 3, activation = 'relu'))\n",
    "#model.add(GlobalMaxPooling1D())\n",
    "lstm_cnn.add(Dropout(.2))\n",
    "lstm_cnn.add(GlobalMaxPooling1D())\n",
    "\n",
    "lstm_cnn.add(Dense(1, activation='sigmoid')) \n",
    "lstm_cnn.compile(loss='binary_crossentropy',optimizer='adam', metrics=['accuracy'])  \n",
    "print(lstm_cnn.summary()) \n",
    "\n",
    "lstmcnn = lstm_cnn.fit(X_train,y_train,validation_split=0.2, epochs=20)"
   ]
  },
  {
   "cell_type": "code",
   "execution_count": 126,
   "metadata": {},
   "outputs": [
    {
     "data": {
      "image/png": "[encoded data removed]",
      "text/plain": [
       "<Figure size 432x288 with 1 Axes>"
      ]
     },
     "metadata": {
      "needs_background": "light"
     },
     "output_type": "display_data"
    },
    {
     "data": {
      "image/png": "[encoded data removed]",
      "text/plain": [
       "<Figure size 432x288 with 1 Axes>"
      ]
     },
     "metadata": {
      "needs_background": "light"
     },
     "output_type": "display_data"
    },
    {
     "data": {
      "text/plain": [
       "<Figure size 432x288 with 0 Axes>"
      ]
     },
     "metadata": {},
     "output_type": "display_data"
    }
   ],
   "source": [
    "plt.plot(lstmcnn.history['accuracy'], label='acc')\n",
    "plt.plot(lstmcnn.history['val_accuracy'], label='val_acc')\n",
    "plt.legend()\n",
    "plt.show()\n",
    "plt.savefig(\"Accuracy plot.jpg\")\n",
    "\n",
    "\n",
    "# In[25]:\n",
    "\n",
    "\n",
    "plt.plot(lstmcnn.history['loss'], label='loss')\n",
    "plt.plot(lstmcnn.history['val_loss'], label='val_loss')\n",
    "plt.legend()\n",
    "plt.show()\n",
    "plt.savefig(\"Loss plot.jpg\")"
   ]
  },
  {
   "cell_type": "code",
   "execution_count": 127,
   "metadata": {},
   "outputs": [
    {
     "name": "stderr",
     "output_type": "stream",
     "text": [
      "C:\\Users\\Sudhakor Das\\anaconda3\\envs\\tensor\\lib\\site-packages\\tensorflow\\python\\keras\\engine\\sequential.py:450: UserWarning: `model.predict_classes()` is deprecated and will be removed after 2021-01-01. Please use instead:* `np.argmax(model.predict(x), axis=-1)`,   if your model does multi-class classification   (e.g. if it uses a `softmax` last-layer activation).* `(model.predict(x) > 0.5).astype(\"int32\")`,   if your model does binary classification   (e.g. if it uses a `sigmoid` last-layer activation).\n",
      "  warnings.warn('`model.predict_classes()` is deprecated and '\n"
     ]
    },
    {
     "name": "stdout",
     "output_type": "stream",
     "text": [
      "12/12 [==============================] - 2s 48ms/step\n",
      "Confusion Matrix\n",
      "============================================================\n",
      "[[ 78  97]\n",
      " [ 46 142]] \n",
      "\n",
      "Classification Report\n",
      "============================================================\n",
      "              precision    recall  f1-score   support\n",
      "\n",
      "           0       0.63      0.45      0.52       175\n",
      "           1       0.59      0.76      0.67       188\n",
      "\n",
      "    accuracy                           0.61       363\n",
      "   macro avg       0.61      0.60      0.59       363\n",
      "weighted avg       0.61      0.61      0.60       363\n",
      " \n",
      "\n",
      "Accuracy Score\n",
      "============================================================\n",
      "0.6060606060606061\n"
     ]
    }
   ],
   "source": [
    "test_eval(lstm_cnn, X_test, y_test, algo='LSTM+CNN')"
   ]
  },
  {
   "cell_type": "markdown",
   "metadata": {},
   "source": [
    "# GRU + CNN"
   ]
  },
  {
   "cell_type": "code",
   "execution_count": 128,
   "metadata": {},
   "outputs": [
    {
     "name": "stdout",
     "output_type": "stream",
     "text": [
      "Model: \"sequential_40\"\n",
      "_________________________________________________________________\n",
      "Layer (type)                 Output Shape              Param #   \n",
      "=================================================================\n",
      "embedding (Embedding)        (None, 20, 100)           463900    \n",
      "_________________________________________________________________\n",
      "spatial_dropout1d_9 (Spatial (None, 20, 100)           0         \n",
      "_________________________________________________________________\n",
      "gru_33 (GRU)                 (None, 20, 40)            17040     \n",
      "_________________________________________________________________\n",
      "dropout_93 (Dropout)         (None, 20, 40)            0         \n",
      "_________________________________________________________________\n",
      "gru_34 (GRU)                 (None, 20, 80)            29280     \n",
      "_________________________________________________________________\n",
      "dropout_94 (Dropout)         (None, 20, 80)            0         \n",
      "_________________________________________________________________\n",
      "gru_35 (GRU)                 (None, 20, 100)           54600     \n",
      "_________________________________________________________________\n",
      "dropout_95 (Dropout)         (None, 20, 100)           0         \n",
      "_________________________________________________________________\n",
      "conv1d_16 (Conv1D)           (None, 18, 50)            15050     \n",
      "_________________________________________________________________\n",
      "dropout_96 (Dropout)         (None, 18, 50)            0         \n",
      "_________________________________________________________________\n",
      "conv1d_17 (Conv1D)           (None, 16, 80)            12080     \n",
      "_________________________________________________________________\n",
      "dropout_97 (Dropout)         (None, 16, 80)            0         \n",
      "_________________________________________________________________\n",
      "conv1d_18 (Conv1D)           (None, 14, 150)           36150     \n",
      "_________________________________________________________________\n",
      "dropout_98 (Dropout)         (None, 14, 150)           0         \n",
      "_________________________________________________________________\n",
      "global_max_pooling1d_2 (Glob (None, 150)               0         \n",
      "_________________________________________________________________\n",
      "dense_44 (Dense)             (None, 1)                 151       \n",
      "=================================================================\n",
      "Total params: 628,251\n",
      "Trainable params: 164,351\n",
      "Non-trainable params: 463,900\n",
      "_________________________________________________________________\n",
      "None\n",
      "Epoch 1/30\n",
      "19/19 [==============================] - 16s 191ms/step - loss: 0.6940 - accuracy: 0.5122 - val_loss: 0.6832 - val_accuracy: 0.6014\n",
      "Epoch 2/30\n",
      "19/19 [==============================] - 2s 104ms/step - loss: 0.6742 - accuracy: 0.6137 - val_loss: 0.6596 - val_accuracy: 0.6486.6742 - accura\n",
      "Epoch 3/30\n",
      "19/19 [==============================] - 2s 101ms/step - loss: 0.6849 - accuracy: 0.5808 - val_loss: 0.6729 - val_accuracy: 0.6081\n",
      "Epoch 4/30\n",
      "19/19 [==============================] - 2s 107ms/step - loss: 0.6665 - accuracy: 0.6054 - val_loss: 0.6452 - val_accuracy: 0.6419\n",
      "Epoch 5/30\n",
      "19/19 [==============================] - 2s 96ms/step - loss: 0.6279 - accuracy: 0.6492 - val_loss: 0.6501 - val_accuracy: 0.6284\n",
      "Epoch 6/30\n",
      "19/19 [==============================] - 4s 240ms/step - loss: 0.6350 - accuracy: 0.6510 - val_loss: 0.6284 - val_accuracy: 0.6419\n",
      "Epoch 7/30\n",
      "19/19 [==============================] - 2s 98ms/step - loss: 0.5990 - accuracy: 0.6571 - val_loss: 0.6396 - val_accuracy: 0.6554\n",
      "Epoch 8/30\n",
      "19/19 [==============================] - 2s 97ms/step - loss: 0.6158 - accuracy: 0.6600 - val_loss: 0.6444 - val_accuracy: 0.6149\n",
      "Epoch 9/30\n",
      "19/19 [==============================] - 2s 109ms/step - loss: 0.6070 - accuracy: 0.6603 - val_loss: 0.6221 - val_accuracy: 0.6216\n",
      "Epoch 10/30\n",
      "19/19 [==============================] - 4s 189ms/step - loss: 0.6204 - accuracy: 0.6623 - val_loss: 0.6247 - val_accuracy: 0.6081\n",
      "Epoch 11/30\n",
      "19/19 [==============================] - 2s 108ms/step - loss: 0.5963 - accuracy: 0.6732 - val_loss: 0.6117 - val_accuracy: 0.6622\n",
      "Epoch 12/30\n",
      "19/19 [==============================] - 2s 98ms/step - loss: 0.6052 - accuracy: 0.6408 - val_loss: 0.5971 - val_accuracy: 0.6486\n",
      "Epoch 13/30\n",
      "19/19 [==============================] - 3s 187ms/step - loss: 0.5567 - accuracy: 0.6932 - val_loss: 0.6031 - val_accuracy: 0.6622\n",
      "Epoch 14/30\n",
      "19/19 [==============================] - 2s 111ms/step - loss: 0.5883 - accuracy: 0.6898 - val_loss: 0.5915 - val_accuracy: 0.7162\n",
      "Epoch 15/30\n",
      "19/19 [==============================] - 2s 106ms/step - loss: 0.6036 - accuracy: 0.6377 - val_loss: 0.6123 - val_accuracy: 0.6622\n",
      "Epoch 16/30\n",
      "19/19 [==============================] - 3s 187ms/step - loss: 0.6083 - accuracy: 0.6738 - val_loss: 0.5952 - val_accuracy: 0.6959\n",
      "Epoch 17/30\n",
      "19/19 [==============================] - 2s 104ms/step - loss: 0.5945 - accuracy: 0.6352 - val_loss: 0.6175 - val_accuracy: 0.6959\n",
      "Epoch 18/30\n",
      "19/19 [==============================] - 2s 99ms/step - loss: 0.5913 - accuracy: 0.6699 - val_loss: 0.5970 - val_accuracy: 0.6892\n",
      "Epoch 19/30\n",
      "19/19 [==============================] - 3s 185ms/step - loss: 0.5923 - accuracy: 0.6757 - val_loss: 0.6061 - val_accuracy: 0.6892\n",
      "Epoch 20/30\n",
      "19/19 [==============================] - 2s 99ms/step - loss: 0.5738 - accuracy: 0.7022 - val_loss: 0.6182 - val_accuracy: 0.7162\n",
      "Epoch 21/30\n",
      "19/19 [==============================] - 2s 123ms/step - loss: 0.6168 - accuracy: 0.6640 - val_loss: 0.6525 - val_accuracy: 0.5743\n",
      "Epoch 22/30\n",
      "19/19 [==============================] - 3s 159ms/step - loss: 0.6361 - accuracy: 0.6118 - val_loss: 0.6042 - val_accuracy: 0.7095\n",
      "Epoch 23/30\n",
      "19/19 [==============================] - 2s 102ms/step - loss: 0.5637 - accuracy: 0.6961 - val_loss: 0.6018 - val_accuracy: 0.6892\n",
      "Epoch 24/30\n",
      "19/19 [==============================] - 3s 183ms/step - loss: 0.5675 - accuracy: 0.7014 - val_loss: 0.5989 - val_accuracy: 0.6892\n",
      "Epoch 25/30\n",
      "19/19 [==============================] - 2s 95ms/step - loss: 0.5954 - accuracy: 0.6448 - val_loss: 0.5903 - val_accuracy: 0.6959\n",
      "Epoch 26/30\n",
      "19/19 [==============================] - 2s 114ms/step - loss: 0.6047 - accuracy: 0.6559 - val_loss: 0.5982 - val_accuracy: 0.7027\n",
      "Epoch 27/30\n",
      "19/19 [==============================] - 3s 175ms/step - loss: 0.5692 - accuracy: 0.6787 - val_loss: 0.5884 - val_accuracy: 0.7162\n",
      "Epoch 28/30\n",
      "19/19 [==============================] - 2s 99ms/step - loss: 0.5977 - accuracy: 0.6716 - val_loss: 0.5989 - val_accuracy: 0.6959\n",
      "Epoch 29/30\n",
      "19/19 [==============================] - 3s 188ms/step - loss: 0.5861 - accuracy: 0.6682 - val_loss: 0.5941 - val_accuracy: 0.6959\n",
      "Epoch 30/30\n",
      "19/19 [==============================] - ETA: 0s - loss: 0.5618 - accuracy: 0.69 - 2s 122ms/step - loss: 0.5631 - accuracy: 0.6904 - val_loss: 0.6024 - val_accuracy: 0.7095\n"
     ]
    }
   ],
   "source": [
    "gru_cnn = Sequential() \n",
    "gru_cnn.add(Embedding(vocab_size ,W2V_SIZE, weights=[embedding_matrix] , input_length = maxlen, name = \"embedding\", trainable = False))\n",
    "#model.add(Embedding(vocab_size, embedding_vector_length, input_length=16, name = \"embedding\") )\n",
    "gru_cnn.add(SpatialDropout1D(0.25))\n",
    "\n",
    "gru_cnn.add(GRU(40, return_sequences=True, activation='relu'))\n",
    "gru_cnn.add(Dropout(0.2))\n",
    "gru_cnn.add(GRU(80, return_sequences=True, activation='relu'))\n",
    "gru_cnn.add(Dropout(0.2))\n",
    "gru_cnn.add(GRU(100, activation='relu', return_sequences = True))\n",
    "gru_cnn.add(Dropout(0.2))\n",
    "\n",
    "gru_cnn.add(Conv1D(50, 3, activation = 'relu'))\n",
    "#model.add(GlobalMaxPooling1D())\n",
    "gru_cnn.add(Dropout(.2))\n",
    "gru_cnn.add(Conv1D(80, 3, activation = 'relu'))\n",
    "#model.add(GlobalMaxPooling1D())\n",
    "gru_cnn.add(Dropout(.2))\n",
    "gru_cnn.add(Conv1D(150, 3, activation = 'relu'))\n",
    "#model.add(GlobalMaxPooling1D())\n",
    "gru_cnn.add(Dropout(.2))\n",
    "gru_cnn.add(GlobalMaxPooling1D())\n",
    "\n",
    "\n",
    "gru_cnn.add(Dense(1, activation='sigmoid')) \n",
    "gru_cnn.compile(loss='binary_crossentropy',optimizer='adam', metrics=['accuracy'])  \n",
    "print(gru_cnn.summary()) \n",
    "\n",
    "grucnn = gru_cnn.fit(X_train,y_train,validation_split=0.2, epochs=30)"
   ]
  },
  {
   "cell_type": "code",
   "execution_count": 129,
   "metadata": {},
   "outputs": [
    {
     "data": {
      "image/png": "[encoded data removed]",
      "text/plain": [
       "<Figure size 432x288 with 1 Axes>"
      ]
     },
     "metadata": {
      "needs_background": "light"
     },
     "output_type": "display_data"
    },
    {
     "data": {
      "image/png": "[encoded data removed]",
      "text/plain": [
       "<Figure size 432x288 with 1 Axes>"
      ]
     },
     "metadata": {
      "needs_background": "light"
     },
     "output_type": "display_data"
    },
    {
     "data": {
      "text/plain": [
       "<Figure size 432x288 with 0 Axes>"
      ]
     },
     "metadata": {},
     "output_type": "display_data"
    }
   ],
   "source": [
    "plt.plot(grucnn.history['accuracy'], label='acc')\n",
    "plt.plot(grucnn.history['val_accuracy'], label='val_acc')\n",
    "plt.legend()\n",
    "plt.show()\n",
    "plt.savefig(\"Accuracy plot.jpg\")\n",
    "\n",
    "\n",
    "# In[25]:\n",
    "\n",
    "\n",
    "plt.plot(grucnn.history['loss'], label='loss')\n",
    "plt.plot(grucnn.history['val_loss'], label='val_loss')\n",
    "plt.legend()\n",
    "plt.show()\n",
    "plt.savefig(\"Loss plot.jpg\")"
   ]
  },
  {
   "cell_type": "code",
   "execution_count": 130,
   "metadata": {},
   "outputs": [
    {
     "name": "stderr",
     "output_type": "stream",
     "text": [
      "C:\\Users\\Sudhakor Das\\anaconda3\\envs\\tensor\\lib\\site-packages\\tensorflow\\python\\keras\\engine\\sequential.py:450: UserWarning: `model.predict_classes()` is deprecated and will be removed after 2021-01-01. Please use instead:* `np.argmax(model.predict(x), axis=-1)`,   if your model does multi-class classification   (e.g. if it uses a `softmax` last-layer activation).* `(model.predict(x) > 0.5).astype(\"int32\")`,   if your model does binary classification   (e.g. if it uses a `sigmoid` last-layer activation).\n",
      "  warnings.warn('`model.predict_classes()` is deprecated and '\n"
     ]
    },
    {
     "name": "stdout",
     "output_type": "stream",
     "text": [
      "12/12 [==============================] - 2s 44ms/step\n",
      "Confusion Matrix\n",
      "============================================================\n",
      "[[114  61]\n",
      " [ 69 119]] \n",
      "\n",
      "Classification Report\n",
      "============================================================\n",
      "              precision    recall  f1-score   support\n",
      "\n",
      "           0       0.62      0.65      0.64       175\n",
      "           1       0.66      0.63      0.65       188\n",
      "\n",
      "    accuracy                           0.64       363\n",
      "   macro avg       0.64      0.64      0.64       363\n",
      "weighted avg       0.64      0.64      0.64       363\n",
      " \n",
      "\n",
      "Accuracy Score\n",
      "============================================================\n",
      "0.6418732782369146\n"
     ]
    }
   ],
   "source": [
    "test_eval(gru_cnn, X_test, y_test, algo='GRU+CNN')"
   ]
  },
  {
   "cell_type": "markdown",
   "metadata": {},
   "source": [
    "# LSTM + GRU + CNN"
   ]
  },
  {
   "cell_type": "code",
   "execution_count": 132,
   "metadata": {},
   "outputs": [
    {
     "name": "stdout",
     "output_type": "stream",
     "text": [
      "Model: \"sequential_42\"\n",
      "_________________________________________________________________\n",
      "Layer (type)                 Output Shape              Param #   \n",
      "=================================================================\n",
      "embedding (Embedding)        (None, 20, 100)           463900    \n",
      "_________________________________________________________________\n",
      "spatial_dropout1d_11 (Spatia (None, 20, 100)           0         \n",
      "_________________________________________________________________\n",
      "lstm_53 (LSTM)               (None, 20, 50)            30200     \n",
      "_________________________________________________________________\n",
      "dropout_108 (Dropout)        (None, 20, 50)            0         \n",
      "_________________________________________________________________\n",
      "lstm_54 (LSTM)               (None, 20, 100)           60400     \n",
      "_________________________________________________________________\n",
      "dropout_109 (Dropout)        (None, 20, 100)           0         \n",
      "_________________________________________________________________\n",
      "lstm_55 (LSTM)               (None, 20, 150)           150600    \n",
      "_________________________________________________________________\n",
      "dropout_110 (Dropout)        (None, 20, 150)           0         \n",
      "_________________________________________________________________\n",
      "gru_39 (GRU)                 (None, 20, 50)            30300     \n",
      "_________________________________________________________________\n",
      "dropout_111 (Dropout)        (None, 20, 50)            0         \n",
      "_________________________________________________________________\n",
      "gru_40 (GRU)                 (None, 20, 100)           45600     \n",
      "_________________________________________________________________\n",
      "dropout_112 (Dropout)        (None, 20, 100)           0         \n",
      "_________________________________________________________________\n",
      "gru_41 (GRU)                 (None, 20, 150)           113400    \n",
      "_________________________________________________________________\n",
      "dropout_113 (Dropout)        (None, 20, 150)           0         \n",
      "_________________________________________________________________\n",
      "conv1d_22 (Conv1D)           (None, 18, 50)            22550     \n",
      "_________________________________________________________________\n",
      "dropout_114 (Dropout)        (None, 18, 50)            0         \n",
      "_________________________________________________________________\n",
      "conv1d_23 (Conv1D)           (None, 16, 90)            13590     \n",
      "_________________________________________________________________\n",
      "dropout_115 (Dropout)        (None, 16, 90)            0         \n",
      "_________________________________________________________________\n",
      "conv1d_24 (Conv1D)           (None, 14, 150)           40650     \n",
      "_________________________________________________________________\n",
      "dropout_116 (Dropout)        (None, 14, 150)           0         \n",
      "_________________________________________________________________\n",
      "global_max_pooling1d_4 (Glob (None, 150)               0         \n",
      "_________________________________________________________________\n",
      "dense_46 (Dense)             (None, 1)                 151       \n",
      "=================================================================\n",
      "Total params: 971,341\n",
      "Trainable params: 507,441\n",
      "Non-trainable params: 463,900\n",
      "_________________________________________________________________\n",
      "None\n",
      "Epoch 1/30\n",
      "19/19 [==============================] - 31s 372ms/step - loss: 0.6923 - accuracy: 0.4774 - val_loss: 0.6655 - val_accuracy: 0.6216\n",
      "Epoch 2/30\n",
      "19/19 [==============================] - 4s 221ms/step - loss: 0.6705 - accuracy: 0.6197 - val_loss: 0.6912 - val_accuracy: 0.5270\n",
      "Epoch 3/30\n",
      "19/19 [==============================] - 6s 326ms/step - loss: 0.6858 - accuracy: 0.5674 - val_loss: 0.6814 - val_accuracy: 0.6149\n",
      "Epoch 4/30\n",
      "19/19 [==============================] - 6s 328ms/step - loss: 0.6676 - accuracy: 0.5941 - val_loss: 0.6510 - val_accuracy: 0.6284\n",
      "Epoch 5/30\n",
      "19/19 [==============================] - 6s 329ms/step - loss: 0.6466 - accuracy: 0.6373 - val_loss: 0.6531 - val_accuracy: 0.6216\n",
      "Epoch 6/30\n",
      "19/19 [==============================] - 6s 329ms/step - loss: 0.6428 - accuracy: 0.6464 - val_loss: 0.6495 - val_accuracy: 0.6216\n",
      "Epoch 7/30\n",
      "19/19 [==============================] - 6s 327ms/step - loss: 0.6564 - accuracy: 0.6202 - val_loss: 0.6513 - val_accuracy: 0.6284\n",
      "Epoch 8/30\n",
      "19/19 [==============================] - 6s 329ms/step - loss: 0.6381 - accuracy: 0.6489 - val_loss: 0.6483 - val_accuracy: 0.6284\n",
      "Epoch 9/30\n",
      "19/19 [==============================] - 6s 327ms/step - loss: 0.6486 - accuracy: 0.6196 - val_loss: 0.6464 - val_accuracy: 0.6351\n",
      "Epoch 10/30\n",
      "19/19 [==============================] - 6s 328ms/step - loss: 0.6382 - accuracy: 0.6218 - val_loss: 0.6594 - val_accuracy: 0.6149\n",
      "Epoch 11/30\n",
      "19/19 [==============================] - 6s 309ms/step - loss: 0.6588 - accuracy: 0.5989 - val_loss: 0.6461 - val_accuracy: 0.6284\n",
      "Epoch 12/30\n",
      "19/19 [==============================] - 6s 310ms/step - loss: 0.6252 - accuracy: 0.6338 - val_loss: 0.6403 - val_accuracy: 0.6284\n",
      "Epoch 13/30\n",
      "19/19 [==============================] - 6s 319ms/step - loss: 0.6495 - accuracy: 0.6118 - val_loss: 0.6469 - val_accuracy: 0.6284\n",
      "Epoch 14/30\n",
      "19/19 [==============================] - 6s 311ms/step - loss: 0.6286 - accuracy: 0.6358 - val_loss: 0.6475 - val_accuracy: 0.6216\n",
      "Epoch 15/30\n",
      "19/19 [==============================] - 6s 311ms/step - loss: 0.6128 - accuracy: 0.6590 - val_loss: 0.6544 - val_accuracy: 0.6284\n",
      "Epoch 16/30\n",
      "19/19 [==============================] - 6s 312ms/step - loss: 0.6267 - accuracy: 0.6352 - val_loss: 0.6465 - val_accuracy: 0.6216\n",
      "Epoch 17/30\n",
      "19/19 [==============================] - 6s 314ms/step - loss: 0.6296 - accuracy: 0.6552 - val_loss: 0.6436 - val_accuracy: 0.6284\n",
      "Epoch 18/30\n",
      "19/19 [==============================] - 6s 313ms/step - loss: 0.6240 - accuracy: 0.6567 - val_loss: 0.6415 - val_accuracy: 0.6486\n",
      "Epoch 19/30\n",
      "19/19 [==============================] - 6s 317ms/step - loss: 0.6463 - accuracy: 0.6393 - val_loss: 0.6460 - val_accuracy: 0.6284\n",
      "Epoch 20/30\n",
      "19/19 [==============================] - 6s 326ms/step - loss: 0.6244 - accuracy: 0.6483 - val_loss: 0.6426 - val_accuracy: 0.6284\n",
      "Epoch 21/30\n",
      "19/19 [==============================] - 6s 313ms/step - loss: 0.6227 - accuracy: 0.6495 - val_loss: 0.6425 - val_accuracy: 0.6351\n",
      "Epoch 22/30\n",
      "19/19 [==============================] - 6s 310ms/step - loss: 0.6204 - accuracy: 0.6490 - val_loss: 0.6349 - val_accuracy: 0.6486\n",
      "Epoch 23/30\n",
      "19/19 [==============================] - 6s 310ms/step - loss: 0.6317 - accuracy: 0.6213 - val_loss: 0.6528 - val_accuracy: 0.6081\n",
      "Epoch 24/30\n",
      "19/19 [==============================] - 6s 320ms/step - loss: 0.6297 - accuracy: 0.6253 - val_loss: 0.6548 - val_accuracy: 0.6216\n",
      "Epoch 25/30\n",
      "19/19 [==============================] - 6s 319ms/step - loss: 0.6268 - accuracy: 0.6422 - val_loss: 0.6353 - val_accuracy: 0.6419\n",
      "Epoch 26/30\n",
      "19/19 [==============================] - 6s 324ms/step - loss: 0.5994 - accuracy: 0.6703 - val_loss: 0.6430 - val_accuracy: 0.6351\n",
      "Epoch 27/30\n",
      "19/19 [==============================] - 6s 347ms/step - loss: 0.6426 - accuracy: 0.6253 - val_loss: 0.6423 - val_accuracy: 0.6486\n",
      "Epoch 28/30\n",
      "19/19 [==============================] - 6s 331ms/step - loss: 0.6184 - accuracy: 0.6460 - val_loss: 0.6375 - val_accuracy: 0.6419\n",
      "Epoch 29/30\n",
      "19/19 [==============================] - 6s 349ms/step - loss: 0.6210 - accuracy: 0.6537 - val_loss: 0.6477 - val_accuracy: 0.6351\n",
      "Epoch 30/30\n",
      "19/19 [==============================] - 7s 340ms/step - loss: 0.6069 - accuracy: 0.6808 - val_loss: 0.6348 - val_accuracy: 0.6622\n"
     ]
    }
   ],
   "source": [
    "lgc = Sequential() \n",
    "lgc.add(Embedding(vocab_size ,W2V_SIZE, weights=[embedding_matrix] , input_length = maxlen, name = \"embedding\", trainable = False))\n",
    "#model.add(Embedding(vocab_size, embedding_vector_length, input_length=16, name = \"embedding\") )\n",
    "lgc.add(SpatialDropout1D(0.25))\n",
    "lgc.add(LSTM(50, dropout=0.5, return_sequences=True, activation='relu' ))\n",
    "lgc.add(Dropout(0.2))\n",
    "lgc.add(LSTM(100, dropout=0.5, return_sequences=True, activation='relu' ))\n",
    "lgc.add(Dropout(0.2))\n",
    "lgc.add(LSTM(150, dropout=0.5, return_sequences=True, activation='relu' ))\n",
    "lgc.add(Dropout(0.2))\n",
    "\n",
    "lgc.add(GRU(50, return_sequences=True, activation='relu'))\n",
    "lgc.add(Dropout(0.2))\n",
    "lgc.add(GRU(100, return_sequences=True, activation='relu'))\n",
    "lgc.add(Dropout(0.2))\n",
    "lgc.add(GRU(150, activation='relu', return_sequences = True))\n",
    "lgc.add(Dropout(0.2))\n",
    "\n",
    "lgc.add(Conv1D(50, 3, activation = 'relu'))\n",
    "#model.add(GlobalMaxPooling1D())\n",
    "lgc.add(Dropout(.2))\n",
    "lgc.add(Conv1D(90, 3, activation = 'relu'))\n",
    "#model.add(GlobalMaxPooling1D())\n",
    "lgc.add(Dropout(.2))\n",
    "lgc.add(Conv1D(150, 3, activation = 'relu'))\n",
    "#model.add(GlobalMaxPooling1D())\n",
    "lgc.add(Dropout(.2))\n",
    "lgc.add(GlobalMaxPooling1D())\n",
    "\n",
    "lgc.add(Dense(1, activation='sigmoid')) \n",
    "lgc.compile(loss='binary_crossentropy',optimizer='adam', metrics=['accuracy'])  \n",
    "print(lgc.summary()) \n",
    "\n",
    "Lgc = lgc.fit(X_train,y_train,validation_split=0.2, epochs=30)"
   ]
  },
  {
   "cell_type": "code",
   "execution_count": 133,
   "metadata": {},
   "outputs": [
    {
     "name": "stderr",
     "output_type": "stream",
     "text": [
      "C:\\Users\\Sudhakor Das\\anaconda3\\envs\\tensor\\lib\\site-packages\\tensorflow\\python\\keras\\engine\\sequential.py:450: UserWarning: `model.predict_classes()` is deprecated and will be removed after 2021-01-01. Please use instead:* `np.argmax(model.predict(x), axis=-1)`,   if your model does multi-class classification   (e.g. if it uses a `softmax` last-layer activation).* `(model.predict(x) > 0.5).astype(\"int32\")`,   if your model does binary classification   (e.g. if it uses a `sigmoid` last-layer activation).\n",
      "  warnings.warn('`model.predict_classes()` is deprecated and '\n"
     ]
    },
    {
     "name": "stdout",
     "output_type": "stream",
     "text": [
      "12/12 [==============================] - 3s 77ms/step\n",
      "Confusion Matrix\n",
      "============================================================\n",
      "[[ 77  98]\n",
      " [ 45 143]] \n",
      "\n",
      "Classification Report\n",
      "============================================================\n",
      "              precision    recall  f1-score   support\n",
      "\n",
      "           0       0.63      0.44      0.52       175\n",
      "           1       0.59      0.76      0.67       188\n",
      "\n",
      "    accuracy                           0.61       363\n",
      "   macro avg       0.61      0.60      0.59       363\n",
      "weighted avg       0.61      0.61      0.60       363\n",
      " \n",
      "\n",
      "Accuracy Score\n",
      "============================================================\n",
      "0.6060606060606061\n"
     ]
    }
   ],
   "source": [
    "test_eval(lgc, X_test, y_test, algo='LSTM+GRU+CNN')"
   ]
  },
  {
   "cell_type": "code",
   "execution_count": 134,
   "metadata": {},
   "outputs": [
    {
     "data": {
      "text/plain": [
       "['SimpleRNN',\n",
       " 'Satcked-LSTM',\n",
       " 'Satcked-Bilstm',\n",
       " 'Satcked-GRU',\n",
       " 'Stacked-biGRU',\n",
       " 'CNN',\n",
       " 'LSTM+GRU',\n",
       " 'LSTM+CNN',\n",
       " 'GRU+CNN',\n",
       " 'LSTM+GRU+CNN']"
      ]
     },
     "execution_count": 134,
     "metadata": {},
     "output_type": "execute_result"
    }
   ],
   "source": [
    "Model"
   ]
  },
  {
   "cell_type": "code",
   "execution_count": 135,
   "metadata": {},
   "outputs": [],
   "source": [
    "clf_eval_df = pd.DataFrame({'Model':Model,\n",
    "                            'Accuracy':Accuracy,\n",
    "                            'Precision':precision,\n",
    "                            'Recall':recall,\n",
    "                            'F1-score':F1score,\n",
    "                            })"
   ]
  },
  {
   "cell_type": "code",
   "execution_count": 136,
   "metadata": {},
   "outputs": [
    {
     "data": {
      "text/html": [
       "<div>\n",
       "<style scoped>\n",
       "    .dataframe tbody tr th:only-of-type {\n",
       "        vertical-align: middle;\n",
       "    }\n",
       "\n",
       "    .dataframe tbody tr th {\n",
       "        vertical-align: top;\n",
       "    }\n",
       "\n",
       "    .dataframe thead th {\n",
       "        text-align: right;\n",
       "    }\n",
       "</style>\n",
       "<table border=\"1\" class=\"dataframe\">\n",
       "  <thead>\n",
       "    <tr style=\"text-align: right;\">\n",
       "      <th></th>\n",
       "      <th>Model</th>\n",
       "      <th>Accuracy</th>\n",
       "      <th>Precision</th>\n",
       "      <th>Recall</th>\n",
       "      <th>F1-score</th>\n",
       "    </tr>\n",
       "  </thead>\n",
       "  <tbody>\n",
       "    <tr>\n",
       "      <th>0</th>\n",
       "      <td>SimpleRNN</td>\n",
       "      <td>0.90</td>\n",
       "      <td>0.94</td>\n",
       "      <td>0.87</td>\n",
       "      <td>0.90</td>\n",
       "    </tr>\n",
       "    <tr>\n",
       "      <th>1</th>\n",
       "      <td>Satcked-LSTM</td>\n",
       "      <td>0.68</td>\n",
       "      <td>0.63</td>\n",
       "      <td>0.89</td>\n",
       "      <td>0.74</td>\n",
       "    </tr>\n",
       "    <tr>\n",
       "      <th>2</th>\n",
       "      <td>Satcked-Bilstm</td>\n",
       "      <td>0.66</td>\n",
       "      <td>0.69</td>\n",
       "      <td>0.62</td>\n",
       "      <td>0.65</td>\n",
       "    </tr>\n",
       "    <tr>\n",
       "      <th>3</th>\n",
       "      <td>Satcked-GRU</td>\n",
       "      <td>0.68</td>\n",
       "      <td>0.66</td>\n",
       "      <td>0.81</td>\n",
       "      <td>0.72</td>\n",
       "    </tr>\n",
       "    <tr>\n",
       "      <th>4</th>\n",
       "      <td>Stacked-biGRU</td>\n",
       "      <td>0.68</td>\n",
       "      <td>0.64</td>\n",
       "      <td>0.85</td>\n",
       "      <td>0.73</td>\n",
       "    </tr>\n",
       "    <tr>\n",
       "      <th>5</th>\n",
       "      <td>CNN</td>\n",
       "      <td>0.70</td>\n",
       "      <td>0.66</td>\n",
       "      <td>0.85</td>\n",
       "      <td>0.74</td>\n",
       "    </tr>\n",
       "    <tr>\n",
       "      <th>6</th>\n",
       "      <td>LSTM+GRU</td>\n",
       "      <td>0.62</td>\n",
       "      <td>0.61</td>\n",
       "      <td>0.74</td>\n",
       "      <td>0.67</td>\n",
       "    </tr>\n",
       "    <tr>\n",
       "      <th>7</th>\n",
       "      <td>LSTM+CNN</td>\n",
       "      <td>0.61</td>\n",
       "      <td>0.59</td>\n",
       "      <td>0.76</td>\n",
       "      <td>0.67</td>\n",
       "    </tr>\n",
       "    <tr>\n",
       "      <th>8</th>\n",
       "      <td>GRU+CNN</td>\n",
       "      <td>0.64</td>\n",
       "      <td>0.66</td>\n",
       "      <td>0.63</td>\n",
       "      <td>0.65</td>\n",
       "    </tr>\n",
       "    <tr>\n",
       "      <th>9</th>\n",
       "      <td>LSTM+GRU+CNN</td>\n",
       "      <td>0.61</td>\n",
       "      <td>0.59</td>\n",
       "      <td>0.76</td>\n",
       "      <td>0.67</td>\n",
       "    </tr>\n",
       "  </tbody>\n",
       "</table>\n",
       "</div>"
      ],
      "text/plain": [
       "            Model  Accuracy  Precision  Recall  F1-score\n",
       "0       SimpleRNN      0.90       0.94    0.87      0.90\n",
       "1    Satcked-LSTM      0.68       0.63    0.89      0.74\n",
       "2  Satcked-Bilstm      0.66       0.69    0.62      0.65\n",
       "3     Satcked-GRU      0.68       0.66    0.81      0.72\n",
       "4   Stacked-biGRU      0.68       0.64    0.85      0.73\n",
       "5             CNN      0.70       0.66    0.85      0.74\n",
       "6        LSTM+GRU      0.62       0.61    0.74      0.67\n",
       "7        LSTM+CNN      0.61       0.59    0.76      0.67\n",
       "8         GRU+CNN      0.64       0.66    0.63      0.65\n",
       "9    LSTM+GRU+CNN      0.61       0.59    0.76      0.67"
      ]
     },
     "execution_count": 136,
     "metadata": {},
     "output_type": "execute_result"
    }
   ],
   "source": [
    "clf_eval_df"
   ]
  },
  {
   "cell_type": "code",
   "execution_count": 137,
   "metadata": {},
   "outputs": [],
   "source": [
    "clf_eval_df.to_csv('Fast-text.csv')"
   ]
  },
  {
   "cell_type": "code",
   "execution_count": null,
   "metadata": {},
   "outputs": [],
   "source": []
  },
  {
   "cell_type": "code",
   "execution_count": null,
   "metadata": {},
   "outputs": [],
   "source": []
  },
  {
   "cell_type": "code",
   "execution_count": null,
   "metadata": {},
   "outputs": [],
   "source": []
  },
  {
   "cell_type": "code",
   "execution_count": null,
   "metadata": {},
   "outputs": [],
   "source": [
    "def predict_sentiment(text):\n",
    "    tw = tokenizer.texts_to_sequences([text])\n",
    "    print(tw)\n",
    "    tw = pad_sequences(tw,maxlen=16)\n",
    "    #pred = model.predict(tw).item()\n",
    "    #print(pred)\n",
    "    prediction = int(model.predict(tw).round().item())\n",
    "    print(prediction)\n",
    "    print(\"Predicted label: \", sentiment_label[1][prediction])\n"
   ]
  },
  {
   "cell_type": "code",
   "execution_count": null,
   "metadata": {},
   "outputs": [],
   "source": [
    "test_sentence1 = \"খানকির পোলা রোহিঙ্গারা বাংলাদেশে ঢুকলে কি তোর কোন সমস্যাে\"\n",
    "predict_sentiment(test_sentence1)"
   ]
  },
  {
   "cell_type": "code",
   "execution_count": null,
   "metadata": {},
   "outputs": [],
   "source": []
  },
  {
   "cell_type": "code",
   "execution_count": null,
   "metadata": {},
   "outputs": [],
   "source": []
  },
  {
   "cell_type": "code",
   "execution_count": null,
   "metadata": {},
   "outputs": [],
   "source": [
    "history = model.fit(padded_sequence,sentiment_label[0],validation_split=0.2, epochs=10)"
   ]
  },
  {
   "cell_type": "code",
   "execution_count": null,
   "metadata": {},
   "outputs": [],
   "source": [
    "plt.plot(history.history['accuracy'], label='acc')\n",
    "plt.plot(history.history['val_accuracy'], label='val_acc')\n",
    "plt.legend()\n",
    "plt.show()\n",
    "plt.savefig(\"Accuracy plot.jpg\")\n",
    "\n",
    "\n",
    "# In[25]:\n",
    "\n",
    "\n",
    "plt.plot(history.history['loss'], label='loss')\n",
    "plt.plot(history.history['val_loss'], label='val_loss')\n",
    "plt.legend()\n",
    "plt.show()\n",
    "plt.savefig(\"Loss plot.jpg\")\n"
   ]
  },
  {
   "cell_type": "code",
   "execution_count": null,
   "metadata": {},
   "outputs": [],
   "source": [
    "def predict_sentiment(text):\n",
    "    tw = tokenizer.texts_to_sequences([text])\n",
    "    tw = pad_sequences(tw,maxlen=16)\n",
    "    pred = model.predict(tw).item()\n",
    "    print(pred)\n",
    "    prediction = int(model.predict(tw).round().item())\n",
    "    print(prediction)\n",
    "    print(\"Predicted label: \", sentiment_label[1][prediction])\n"
   ]
  },
  {
   "cell_type": "code",
   "execution_count": null,
   "metadata": {},
   "outputs": [],
   "source": [
    "test_sentence1 = \"খুব কষ্ট লাগলো রিকশাওয়ালা চাচার আর্তনাদ দেখে\"\n",
    "predict_sentiment(test_sentence1)"
   ]
  },
  {
   "cell_type": "code",
   "execution_count": null,
   "metadata": {},
   "outputs": [],
   "source": []
  },
  {
   "cell_type": "code",
   "execution_count": null,
   "metadata": {},
   "outputs": [],
   "source": []
  },
  {
   "cell_type": "code",
   "execution_count": null,
   "metadata": {},
   "outputs": [],
   "source": []
  },
  {
   "cell_type": "code",
   "execution_count": null,
   "metadata": {},
   "outputs": [],
   "source": []
  },
  {
   "cell_type": "code",
   "execution_count": null,
   "metadata": {},
   "outputs": [],
   "source": [
    "model = Sequential()\n",
    "model.add(Embedding(input_dim=unique_vocab+1, output_dim=embedding_dim, input_length=max_len,\n",
    "                    weights=[embedding_matrix],trainable=False))\n",
    "\n",
    "\n",
    "\n",
    "model.add(SpatialDropout1D((0.25)))\n",
    "\n",
    "model.add(Conv1D(filters=300, kernel_size=5, padding='same', activation='relu'))\n",
    "model.add(MaxPooling1D(pool_size=2,stride=1))\n",
    "model.add(BatchNormalization()) \n",
    "model.add(SpatialDropout1D((0.5)))\n",
    "\n",
    "model.add(Conv1D(filters=300, kernel_size=5, padding='same', activation='relu'))\n",
    "model.add(MaxPooling1D(pool_size=2,stride=1))\n",
    "model.add(BatchNormalization()) \n",
    "model.add(SpatialDropout1D((0.5)))\n",
    "\n",
    "\n",
    "\n",
    "model.add(Conv1D(300,4,padding='same',kernel_regularizer=regularizers.l1_l2(l1=0.01, l2=0.01)))\n",
    "model.add(advanced_activations.LeakyReLU(alpha=0.3))\n",
    "model.add(MaxPooling1D(pool_size=2,stride=1))\n",
    "model.add(BatchNormalization()) \n",
    "model.add(SpatialDropout1D((0.5)))\n",
    "\n",
    "model.add(Conv1D(300,4,padding='same',kernel_regularizer=regularizers.l1_l2(l1=0.01, l2=0.01)))\n",
    "model.add(advanced_activations.LeakyReLU(alpha=0.3))\n",
    "model.add(MaxPooling1D(pool_size=2,stride=1))\n",
    "model.add(BatchNormalization()) \n",
    "model.add(SpatialDropout1D((0.5)))\n",
    "\n",
    "\n",
    "\n",
    "model.add(Bidirectional(CuDNNLSTM(256,kernel_regularizer=regularizers.l1_l2(l1=0.01, l2=0.01),return_sequences=False)))"
   ]
  }
 ],
 "metadata": {
  "kernelspec": {
   "display_name": "Python 3",
   "language": "python",
   "name": "python3"
  },
  "language_info": {
   "codemirror_mode": {
    "name": "ipython",
    "version": 3
   },
   "file_extension": ".py",
   "mimetype": "text/x-python",
   "name": "python",
   "nbconvert_exporter": "python",
   "pygments_lexer": "ipython3",
   "version": "3.8.3"
  }
 },
 "nbformat": 4,
 "nbformat_minor": 4
}
